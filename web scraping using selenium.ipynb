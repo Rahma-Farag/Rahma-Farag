{
 "cells": [
  {
   "cell_type": "code",
   "execution_count": 1,
   "id": "98272802",
   "metadata": {},
   "outputs": [],
   "source": [
    "from selenium import webdriver\n",
    "from selenium.webdriver.common.keys import Keys\n",
    "import pandas as pd"
   ]
  },
  {
   "cell_type": "code",
   "execution_count": 2,
   "id": "6d1ccbe6",
   "metadata": {},
   "outputs": [],
   "source": [
    "import time\n",
    "from selenium import webdriver\n",
    "\n",
    "\n",
    "driver = webdriver.Chrome() \n",
    "driver.get('https://www.amazon.com/s?k=amazonbasics&rh=n%3A1055398%2Cp_36%3A1253523011&dc&qid=1619039742&rnid=386465011&ref=sr_nr_p_36_1') "
   ]
  },
  {
   "cell_type": "code",
   "execution_count": 3,
   "id": "de3899c9",
   "metadata": {},
   "outputs": [],
   "source": [
    "from selenium.webdriver.common.by import By\n",
    "\n",
    "products_disc = driver.find_elements(By.XPATH , '//span[@class=\"a-size-base-plus a-color-base a-text-normal\"]')\n",
    "products_price = driver.find_elements(By.XPATH , '//span[@class=\"a-price\"]')\n",
    "\n",
    "product_disc = []\n",
    "product_price = []\n",
    "products = []\n",
    "for pdisc,pprice in zip(products_disc, products_price):\n",
    "    price = pprice.text.replace(\"\\n\",\".\")\n",
    "    price = price.replace(\"$\",\"\")\n",
    "    products.append((pdisc.text,price))\n",
    "    \n",
    "    \n",
    "\n"
   ]
  },
  {
   "cell_type": "code",
   "execution_count": 4,
   "id": "30d866fb",
   "metadata": {},
   "outputs": [
    {
     "data": {
      "text/plain": [
       "[('Amazon Basics Lightweight Super Soft Easy Care Microfiber Bed Sheet Set with 14\" Deep Pockets - Queen, Dark Gray',\n",
       "  '18.99'),\n",
       " ('Amazon Basics 8-Sheet Capacity, Cross-Cut Paper and Credit Card Shredder, 4.1 Gallon',\n",
       "  '34.26'),\n",
       " ('Amazon Basics Silicone, Non-Stick, Food Safe Baking Mat - Pack of 2',\n",
       "  '9.71'),\n",
       " ('Amazon Basics Septic Treatment, 29.4oz Box 3-Pack', '11.29'),\n",
       " ('Amazon Basics Heavy Duty Sponges, 6-Pack', '4.48'),\n",
       " ('Amazon Basics 14-Piece Kitchen Knife Set, High-Carbon Stainless-Steel Blades with Pine Wood Knife Block, Black',\n",
       "  '8.62'),\n",
       " ('Amazon Basics Multi-Purpose Stainless Steel Scraper/Chopper with Contoured Grip, 6-Inch',\n",
       "  '7.41'),\n",
       " ('Amazon Basics Reusable Silicone Baking Cups, Muffin Liners - Pack of 12, Multicolor',\n",
       "  '21.79'),\n",
       " ('Amazon Basics Collapsible Fabric Storage Cubes with Oval Grommets - 6-Pack, Taupe',\n",
       "  '5.90'),\n",
       " ('Amazon Basics Silicone Hot Skillet Handle Cover Holder, Blue', '72.20'),\n",
       " ('Amazon Basics Padded Office Desk Chair with Armrests, Adjustable Height/Tilt, 360-Degree Swivel, 275Lb Capacity - Black',\n",
       "  '9.84'),\n",
       " ('Amazon Basics Stainless Steel Digital Kitchen Scale with LCD Display, Batteries Included',\n",
       "  '20.99'),\n",
       " ('Amazon Basics Wall-Mounted Recessed Electric Fireplace - 50-Inch, Black',\n",
       "  '19.59'),\n",
       " ('U-Taste Silicone Spatula Set with 600 Degrees Fahrenheit Heat Resistant (Teal/Aqua Sky)',\n",
       "  '69.70'),\n",
       " ('SONIVE Queen Bed Sheets Set Navy 1800 Super Soft Brushed Microfiber 4 Pieces Bedding Sheets & Pillowcases with Fitted Sheet, Deep Pockets Easy Care',\n",
       "  '16.20'),\n",
       " ('Amazon Basics 5-Shelf Adjustable, Heavy Duty Storage Shelving Unit (350 lbs loading capacity per shelf), Steel Organizer Wire Rack, Black (36L x 14W x 72H)',\n",
       "  '21.99'),\n",
       " ('Amazon Basics Non-Slip Microfiber Shag Bathroom Rug Mat, 21\" x 34\", Platinum',\n",
       "  '15.46'),\n",
       " ('Amazon Basics Glass Food Storage, 16-Piece Set, 8 Containers and 8 BPA-Free Lids',\n",
       "  '15.74'),\n",
       " ('Amazon Basics 12-Piece Color-Coded Kitchen Knife Set, 6 Knives with 6 Blade Guards, Multi-color',\n",
       "  '6.19'),\n",
       " ('Amazon Basics Foldable Large Zippered Storage Bag Organizer Cubes with Clear Window & Handles, 3-Pack',\n",
       "  '19.99'),\n",
       " ('Amazon Basics Fun and Playful Desert Escape Kids Microfiber Bathroom Shower Curtain - Desert Escape, 72 Inch',\n",
       "  '15.36'),\n",
       " ('Amazon Basics 20-Piece Stainless Steel Flatware Set with Square Edge, Service for 4',\n",
       "  '23.56'),\n",
       " (\"Amazon Basics Kids Fleece Tail Blanket - 26'' x 56'', Space Rocket\",\n",
       "  '22.61'),\n",
       " ('Amazon Basics Kids Bear Buddies Patterned Throw Blanket with Stuffed Animal Bear',\n",
       "  '23.99'),\n",
       " ('Amazon Basics 100% Cotton Kitchen Dish Cloth (12x12) & Towel (26x16) Set, Absorbent Ringspun - 8-Pack, Navy Stripe',\n",
       "  '16.95'),\n",
       " ('Lifewit Large Capacity Clothes Storage Bag Organizer with Reinforced Handle Thick Fabric for Comforters, Blankets, Bedding, Foldable with Sturdy Zipper, Clear Window, 3 Pack, 90L, Grey',\n",
       "  '22.88'),\n",
       " ('Outdoor String Lights 25 Feet G40 Globe Patio Lights with 27 Edison Glass Bulbs(2 Spare), Waterproof Connectable Hanging Light for Backyard Porch Balcony Party Decor, E12 Socket Base,Black',\n",
       "  '9.99'),\n",
       " ('Yocada Looped-End String Wet Mop Heavy Duty Cotton Mop Commercial Industrial Grade Telescopic Iron Pole Jaw Clamp Floor Cleaning 55.1\"',\n",
       "  '15.99'),\n",
       " ('Queen Pillow Cases Set of 2 Queen Size - Microfiber Pillow Cases Queen Size Pillow Cases Queen Size (20x30) - Standard Pillowcases Queen Size - Queen Pillow Cases Set of 2 - Gray Pillow Cases',\n",
       "  '18.99'),\n",
       " ('Dormir 400 TC Standard Size Pillow Covers | 100% Combed Cotton Light Grey Pillow Cases | Long Staple Sateen Weave Luxurious Silver Pillow Covers Set with Stylish 4\" Hem | Pack of 2 Covers',\n",
       "  '8.45'),\n",
       " ('Marble Rolling Pin with Wood Cradle 12 Inch Black, Non-Stick Dough Roller Professional Essential Kitchen Utensil French Heavy Duty for Baking, Pizza, Fondant, Pie Crust, Cookie, Pastry',\n",
       "  '11.99')]"
      ]
     },
     "execution_count": 4,
     "metadata": {},
     "output_type": "execute_result"
    }
   ],
   "source": [
    "products"
   ]
  },
  {
   "cell_type": "code",
   "execution_count": 5,
   "id": "3d516616",
   "metadata": {},
   "outputs": [],
   "source": [
    "data = pd.DataFrame(products)"
   ]
  },
  {
   "cell_type": "code",
   "execution_count": 6,
   "id": "5a150bc9",
   "metadata": {},
   "outputs": [
    {
     "data": {
      "text/html": [
       "<div>\n",
       "<style scoped>\n",
       "    .dataframe tbody tr th:only-of-type {\n",
       "        vertical-align: middle;\n",
       "    }\n",
       "\n",
       "    .dataframe tbody tr th {\n",
       "        vertical-align: top;\n",
       "    }\n",
       "\n",
       "    .dataframe thead th {\n",
       "        text-align: right;\n",
       "    }\n",
       "</style>\n",
       "<table border=\"1\" class=\"dataframe\">\n",
       "  <thead>\n",
       "    <tr style=\"text-align: right;\">\n",
       "      <th></th>\n",
       "      <th>0</th>\n",
       "      <th>1</th>\n",
       "    </tr>\n",
       "  </thead>\n",
       "  <tbody>\n",
       "    <tr>\n",
       "      <th>0</th>\n",
       "      <td>Amazon Basics Lightweight Super Soft Easy Care...</td>\n",
       "      <td>18.99</td>\n",
       "    </tr>\n",
       "    <tr>\n",
       "      <th>1</th>\n",
       "      <td>Amazon Basics 8-Sheet Capacity, Cross-Cut Pape...</td>\n",
       "      <td>34.26</td>\n",
       "    </tr>\n",
       "    <tr>\n",
       "      <th>2</th>\n",
       "      <td>Amazon Basics Silicone, Non-Stick, Food Safe B...</td>\n",
       "      <td>9.71</td>\n",
       "    </tr>\n",
       "    <tr>\n",
       "      <th>3</th>\n",
       "      <td>Amazon Basics Septic Treatment, 29.4oz Box 3-Pack</td>\n",
       "      <td>11.29</td>\n",
       "    </tr>\n",
       "    <tr>\n",
       "      <th>4</th>\n",
       "      <td>Amazon Basics Heavy Duty Sponges, 6-Pack</td>\n",
       "      <td>4.48</td>\n",
       "    </tr>\n",
       "  </tbody>\n",
       "</table>\n",
       "</div>"
      ],
      "text/plain": [
       "                                                   0      1\n",
       "0  Amazon Basics Lightweight Super Soft Easy Care...  18.99\n",
       "1  Amazon Basics 8-Sheet Capacity, Cross-Cut Pape...  34.26\n",
       "2  Amazon Basics Silicone, Non-Stick, Food Safe B...   9.71\n",
       "3  Amazon Basics Septic Treatment, 29.4oz Box 3-Pack  11.29\n",
       "4           Amazon Basics Heavy Duty Sponges, 6-Pack   4.48"
      ]
     },
     "execution_count": 6,
     "metadata": {},
     "output_type": "execute_result"
    }
   ],
   "source": [
    "data.head()"
   ]
  },
  {
   "cell_type": "code",
   "execution_count": 7,
   "id": "d101200d",
   "metadata": {},
   "outputs": [
    {
     "data": {
      "text/html": [
       "<div>\n",
       "<style scoped>\n",
       "    .dataframe tbody tr th:only-of-type {\n",
       "        vertical-align: middle;\n",
       "    }\n",
       "\n",
       "    .dataframe tbody tr th {\n",
       "        vertical-align: top;\n",
       "    }\n",
       "\n",
       "    .dataframe thead th {\n",
       "        text-align: right;\n",
       "    }\n",
       "</style>\n",
       "<table border=\"1\" class=\"dataframe\">\n",
       "  <thead>\n",
       "    <tr style=\"text-align: right;\">\n",
       "      <th></th>\n",
       "      <th>0</th>\n",
       "      <th>1</th>\n",
       "    </tr>\n",
       "  </thead>\n",
       "  <tbody>\n",
       "    <tr>\n",
       "      <th>26</th>\n",
       "      <td>Outdoor String Lights 25 Feet G40 Globe Patio ...</td>\n",
       "      <td>9.99</td>\n",
       "    </tr>\n",
       "    <tr>\n",
       "      <th>27</th>\n",
       "      <td>Yocada Looped-End String Wet Mop Heavy Duty Co...</td>\n",
       "      <td>15.99</td>\n",
       "    </tr>\n",
       "    <tr>\n",
       "      <th>28</th>\n",
       "      <td>Queen Pillow Cases Set of 2 Queen Size - Micro...</td>\n",
       "      <td>18.99</td>\n",
       "    </tr>\n",
       "    <tr>\n",
       "      <th>29</th>\n",
       "      <td>Dormir 400 TC Standard Size Pillow Covers | 10...</td>\n",
       "      <td>8.45</td>\n",
       "    </tr>\n",
       "    <tr>\n",
       "      <th>30</th>\n",
       "      <td>Marble Rolling Pin with Wood Cradle 12 Inch Bl...</td>\n",
       "      <td>11.99</td>\n",
       "    </tr>\n",
       "  </tbody>\n",
       "</table>\n",
       "</div>"
      ],
      "text/plain": [
       "                                                    0      1\n",
       "26  Outdoor String Lights 25 Feet G40 Globe Patio ...   9.99\n",
       "27  Yocada Looped-End String Wet Mop Heavy Duty Co...  15.99\n",
       "28  Queen Pillow Cases Set of 2 Queen Size - Micro...  18.99\n",
       "29  Dormir 400 TC Standard Size Pillow Covers | 10...   8.45\n",
       "30  Marble Rolling Pin with Wood Cradle 12 Inch Bl...  11.99"
      ]
     },
     "execution_count": 7,
     "metadata": {},
     "output_type": "execute_result"
    }
   ],
   "source": [
    "data.tail()"
   ]
  },
  {
   "cell_type": "code",
   "execution_count": 8,
   "id": "771f9a5d",
   "metadata": {},
   "outputs": [
    {
     "name": "stdout",
     "output_type": "stream",
     "text": [
      "<class 'pandas.core.frame.DataFrame'>\n",
      "RangeIndex: 31 entries, 0 to 30\n",
      "Data columns (total 2 columns):\n",
      " #   Column  Non-Null Count  Dtype \n",
      "---  ------  --------------  ----- \n",
      " 0   0       31 non-null     object\n",
      " 1   1       31 non-null     object\n",
      "dtypes: object(2)\n",
      "memory usage: 624.0+ bytes\n"
     ]
    }
   ],
   "source": [
    "data.info()"
   ]
  },
  {
   "cell_type": "code",
   "execution_count": 9,
   "id": "7798d3ec",
   "metadata": {},
   "outputs": [],
   "source": [
    "data.to_csv(\"list_of_prices.csv\", index=False)"
   ]
  },
  {
   "cell_type": "code",
   "execution_count": 10,
   "id": "8f218691",
   "metadata": {},
   "outputs": [],
   "source": [
    "driver.close()"
   ]
  }
 ],
 "metadata": {
  "kernelspec": {
   "display_name": "Python 3",
   "language": "python",
   "name": "python3"
  },
  "language_info": {
   "codemirror_mode": {
    "name": "ipython",
    "version": 3
   },
   "file_extension": ".py",
   "mimetype": "text/x-python",
   "name": "python",
   "nbconvert_exporter": "python",
   "pygments_lexer": "ipython3",
   "version": "3.8.8"
  }
 },
 "nbformat": 4,
 "nbformat_minor": 5
}
