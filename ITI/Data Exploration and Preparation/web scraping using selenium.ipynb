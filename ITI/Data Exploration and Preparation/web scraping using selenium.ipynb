{
 "cells": [
  {
   "cell_type": "code",
   "execution_count": 24,
   "id": "98272802",
   "metadata": {},
   "outputs": [],
   "source": [
    "from selenium import webdriver\n",
    "from selenium.webdriver.common.keys import Keys\n",
    "import pandas as pd"
   ]
  },
  {
   "cell_type": "code",
   "execution_count": 25,
   "id": "6d1ccbe6",
   "metadata": {},
   "outputs": [],
   "source": [
    "import time\n",
    "from selenium import webdriver\n",
    "\n",
    "\n",
    "driver = webdriver.Chrome() \n",
    "driver.get('https://www.amazon.com/s?k=amazonbasics&rh=n%3A1055398%2Cp_36%3A1253523011&dc&qid=1619039742&rnid=386465011&ref=sr_nr_p_36_1') "
   ]
  },
  {
   "cell_type": "code",
   "execution_count": 32,
   "id": "de3899c9",
   "metadata": {},
   "outputs": [],
   "source": [
    "from selenium.webdriver.common.by import By\n",
    "\n",
    "products_disc = driver.find_elements(By.XPATH , '//span[@class=\"a-size-base-plus a-color-base a-text-normal\"]')\n",
    "products_price = driver.find_elements(By.XPATH , '//span[@class=\"a-price\"]')\n",
    "\n",
    "product_disc = []\n",
    "product_price = []\n",
    "products = []\n",
    "for pdisc,pprice in zip(products_disc, products_price):\n",
    "    price = pprice.text.replace(\"\\n\",\".\")\n",
    "    price = price.replace(\"$\",\"\")\n",
    "    products.append((pdisc.text,price))\n",
    "    \n",
    "    \n",
    "\n"
   ]
  },
  {
   "cell_type": "code",
   "execution_count": 33,
   "id": "30d866fb",
   "metadata": {},
   "outputs": [
    {
     "data": {
      "text/plain": [
       "[('Amazon Basics Lightweight Super Soft Easy Care Microfiber Bed Sheet Set with 14\" Deep Pockets - Queen, Dark Gray',\n",
       "  '18.99'),\n",
       " ('Amazon Basics 8-Sheet Capacity, Cross-Cut Paper and Credit Card Shredder, 4.1 Gallon',\n",
       "  '34.26'),\n",
       " ('Amazon Basics Silicone, Non-Stick, Food Safe Baking Mat - Pack of 2',\n",
       "  '9.71'),\n",
       " ('Amazon Basics Septic Treatment, 29.4oz Box 3-Pack', '11.29'),\n",
       " ('Amazon Basics Heavy Duty Sponges, 6-Pack', '4.48'),\n",
       " ('Amazon Basics 14-Piece Kitchen Knife Set, High-Carbon Stainless-Steel Blades with Pine Wood Knife Block, Black',\n",
       "  '8.62'),\n",
       " ('Amazon Basics Multi-Purpose Stainless Steel Scraper/Chopper with Contoured Grip, 6-Inch',\n",
       "  '7.41'),\n",
       " ('Amazon Basics Reusable Silicone Baking Cups, Muffin Liners - Pack of 12, Multicolor',\n",
       "  '21.79'),\n",
       " ('Amazon Basics Collapsible Fabric Storage Cubes with Oval Grommets - 6-Pack, Taupe',\n",
       "  '5.90'),\n",
       " ('Amazon Basics Silicone Hot Skillet Handle Cover Holder, Blue', '72.20'),\n",
       " ('Amazon Basics Padded Office Desk Chair with Armrests, Adjustable Height/Tilt, 360-Degree Swivel, 275Lb Capacity - Black',\n",
       "  '69.70'),\n",
       " ('Amazon Basics 5-Shelf Adjustable, Heavy Duty Storage Shelving Unit (350 lbs loading capacity per shelf), Steel Organizer Wire Rack, Black (36L x 14W x 72H)',\n",
       "  '19.99'),\n",
       " ('Amazon Basics Wall-Mounted Recessed Electric Fireplace - 50-Inch, Black',\n",
       "  '11.99'),\n",
       " ('Extra Deep Pocket Fitted Sheet - Single Fitted Sheet Only - Extra Deep Pockets Queen Size Sheets - Fits 18 in to 24 in Mattress - Extra Deep Queen Fitted Sheet - Deep Pockets That Actually Fits',\n",
       "  '16.20'),\n",
       " ('DecorRack 10 Pack 100% Cotton Wash Cloth, Luxurious Soft, 12 x 12 inch Ultra Absorbent, Machine Washable Washcloths, White (10 Pack)',\n",
       "  '21.99'),\n",
       " ('Amazon Basics Non-Slip Microfiber Shag Bathroom Rug Mat, 21\" x 34\", Platinum',\n",
       "  '9.84'),\n",
       " ('Amazon Basics Glass Food Storage, 16-Piece Set, 8 Containers and 8 BPA-Free Lids',\n",
       "  '15.46'),\n",
       " ('Amazon Basics Stainless Steel Digital Kitchen Scale with LCD Display, Batteries Included',\n",
       "  '15.74'),\n",
       " ('Amazon Basics 12-Piece Color-Coded Kitchen Knife Set, 6 Knives with 6 Blade Guards, Multi-color',\n",
       "  '6.19'),\n",
       " ('Amazon Basics Foldable Large Zippered Storage Bag Organizer Cubes with Clear Window & Handles, 3-Pack',\n",
       "  '19.99'),\n",
       " ('Amazon Basics Fun and Playful Desert Escape Kids Microfiber Bathroom Shower Curtain - Desert Escape, 72 Inch',\n",
       "  '15.36'),\n",
       " ('Amazon Basics 20-Piece Stainless Steel Flatware Set with Square Edge, Service for 4',\n",
       "  '23.56'),\n",
       " (\"Amazon Basics Kids Fleece Tail Blanket - 26'' x 56'', Space Rocket\",\n",
       "  '22.61'),\n",
       " ('Amazon Basics Kids Bear Buddies Patterned Throw Blanket with Stuffed Animal Bear',\n",
       "  '23.99'),\n",
       " ('Amazon Basics 100% Cotton Kitchen Dish Cloth (12x12) & Towel (26x16) Set, Absorbent Ringspun - 8-Pack, Navy Stripe',\n",
       "  '16.95'),\n",
       " ('Lifewit Large Capacity Clothes Storage Bag Organizer with Reinforced Handle Thick Fabric for Comforters, Blankets, Bedding, Foldable with Sturdy Zipper, Clear Window, 3 Pack, 90L, Grey',\n",
       "  '19.99'),\n",
       " ('Outdoor String Lights 25 Feet G40 Globe Patio Lights with 27 Edison Glass Bulbs(2 Spare), Waterproof Connectable Hanging Light for Backyard Porch Balcony Party Decor, E12 Socket Base,Black',\n",
       "  '13.99'),\n",
       " ('COSMOPLUS Fitted Sheet King Fitted Sheet Only（No Flat Sheet or Pillow Shams）,4 Way Stretch Micro-Knit,Snug Fit,Wrinkle Free,for Standard Mattress and Air Bed Mattress from 8” Up to 14”,Gray',\n",
       "  '20.99'),\n",
       " ('Dinner Spoon Set,16 Pcs 7.3\" Tablespoons,Premium Food Grade 18/10 Stainless Steel Spoons,Durable Metal Spoons,Tablespoon,Silverware Spoons Only,Mirror Finish & Dishwasher Safe,Use for Home,Restaurant',\n",
       "  '22.29'),\n",
       " ('U-Taste Silicone Spatula Set with 600 Degrees Fahrenheit Heat Resistant (Teal/Aqua Sky)',\n",
       "  '19.59'),\n",
       " ('HOMEIDEAS King Size Bed Sheets - 6 Piece Set (Light Grey) - Extra Soft Brushed Microfiber 1800 Bedding Sheets, Deep Pocket, Wrinkle & Fade Free',\n",
       "  '17.99')]"
      ]
     },
     "execution_count": 33,
     "metadata": {},
     "output_type": "execute_result"
    }
   ],
   "source": [
    "products"
   ]
  },
  {
   "cell_type": "code",
   "execution_count": 34,
   "id": "043a0367",
   "metadata": {},
   "outputs": [],
   "source": [
    "data = pd.DataFrame(products)"
   ]
  },
  {
   "cell_type": "code",
   "execution_count": 35,
   "id": "7213af9e",
   "metadata": {},
   "outputs": [
    {
     "data": {
      "text/html": [
       "<div>\n",
       "<style scoped>\n",
       "    .dataframe tbody tr th:only-of-type {\n",
       "        vertical-align: middle;\n",
       "    }\n",
       "\n",
       "    .dataframe tbody tr th {\n",
       "        vertical-align: top;\n",
       "    }\n",
       "\n",
       "    .dataframe thead th {\n",
       "        text-align: right;\n",
       "    }\n",
       "</style>\n",
       "<table border=\"1\" class=\"dataframe\">\n",
       "  <thead>\n",
       "    <tr style=\"text-align: right;\">\n",
       "      <th></th>\n",
       "      <th>0</th>\n",
       "      <th>1</th>\n",
       "    </tr>\n",
       "  </thead>\n",
       "  <tbody>\n",
       "    <tr>\n",
       "      <th>0</th>\n",
       "      <td>Amazon Basics Lightweight Super Soft Easy Care...</td>\n",
       "      <td>18.99</td>\n",
       "    </tr>\n",
       "    <tr>\n",
       "      <th>1</th>\n",
       "      <td>Amazon Basics 8-Sheet Capacity, Cross-Cut Pape...</td>\n",
       "      <td>34.26</td>\n",
       "    </tr>\n",
       "    <tr>\n",
       "      <th>2</th>\n",
       "      <td>Amazon Basics Silicone, Non-Stick, Food Safe B...</td>\n",
       "      <td>9.71</td>\n",
       "    </tr>\n",
       "    <tr>\n",
       "      <th>3</th>\n",
       "      <td>Amazon Basics Septic Treatment, 29.4oz Box 3-Pack</td>\n",
       "      <td>11.29</td>\n",
       "    </tr>\n",
       "    <tr>\n",
       "      <th>4</th>\n",
       "      <td>Amazon Basics Heavy Duty Sponges, 6-Pack</td>\n",
       "      <td>4.48</td>\n",
       "    </tr>\n",
       "  </tbody>\n",
       "</table>\n",
       "</div>"
      ],
      "text/plain": [
       "                                                   0      1\n",
       "0  Amazon Basics Lightweight Super Soft Easy Care...  18.99\n",
       "1  Amazon Basics 8-Sheet Capacity, Cross-Cut Pape...  34.26\n",
       "2  Amazon Basics Silicone, Non-Stick, Food Safe B...   9.71\n",
       "3  Amazon Basics Septic Treatment, 29.4oz Box 3-Pack  11.29\n",
       "4           Amazon Basics Heavy Duty Sponges, 6-Pack   4.48"
      ]
     },
     "execution_count": 35,
     "metadata": {},
     "output_type": "execute_result"
    }
   ],
   "source": [
    "data.head()"
   ]
  },
  {
   "cell_type": "code",
   "execution_count": 36,
   "id": "ed1e8735",
   "metadata": {},
   "outputs": [
    {
     "data": {
      "text/html": [
       "<div>\n",
       "<style scoped>\n",
       "    .dataframe tbody tr th:only-of-type {\n",
       "        vertical-align: middle;\n",
       "    }\n",
       "\n",
       "    .dataframe tbody tr th {\n",
       "        vertical-align: top;\n",
       "    }\n",
       "\n",
       "    .dataframe thead th {\n",
       "        text-align: right;\n",
       "    }\n",
       "</style>\n",
       "<table border=\"1\" class=\"dataframe\">\n",
       "  <thead>\n",
       "    <tr style=\"text-align: right;\">\n",
       "      <th></th>\n",
       "      <th>0</th>\n",
       "      <th>1</th>\n",
       "    </tr>\n",
       "  </thead>\n",
       "  <tbody>\n",
       "    <tr>\n",
       "      <th>26</th>\n",
       "      <td>Outdoor String Lights 25 Feet G40 Globe Patio ...</td>\n",
       "      <td>13.99</td>\n",
       "    </tr>\n",
       "    <tr>\n",
       "      <th>27</th>\n",
       "      <td>COSMOPLUS Fitted Sheet King Fitted Sheet Only（...</td>\n",
       "      <td>20.99</td>\n",
       "    </tr>\n",
       "    <tr>\n",
       "      <th>28</th>\n",
       "      <td>Dinner Spoon Set,16 Pcs 7.3\" Tablespoons,Premi...</td>\n",
       "      <td>22.29</td>\n",
       "    </tr>\n",
       "    <tr>\n",
       "      <th>29</th>\n",
       "      <td>U-Taste Silicone Spatula Set with 600 Degrees ...</td>\n",
       "      <td>19.59</td>\n",
       "    </tr>\n",
       "    <tr>\n",
       "      <th>30</th>\n",
       "      <td>HOMEIDEAS King Size Bed Sheets - 6 Piece Set (...</td>\n",
       "      <td>17.99</td>\n",
       "    </tr>\n",
       "  </tbody>\n",
       "</table>\n",
       "</div>"
      ],
      "text/plain": [
       "                                                    0      1\n",
       "26  Outdoor String Lights 25 Feet G40 Globe Patio ...  13.99\n",
       "27  COSMOPLUS Fitted Sheet King Fitted Sheet Only（...  20.99\n",
       "28  Dinner Spoon Set,16 Pcs 7.3\" Tablespoons,Premi...  22.29\n",
       "29  U-Taste Silicone Spatula Set with 600 Degrees ...  19.59\n",
       "30  HOMEIDEAS King Size Bed Sheets - 6 Piece Set (...  17.99"
      ]
     },
     "execution_count": 36,
     "metadata": {},
     "output_type": "execute_result"
    }
   ],
   "source": [
    "data.tail()"
   ]
  },
  {
   "cell_type": "code",
   "execution_count": 37,
   "id": "8f8c203a",
   "metadata": {},
   "outputs": [
    {
     "name": "stdout",
     "output_type": "stream",
     "text": [
      "<class 'pandas.core.frame.DataFrame'>\n",
      "RangeIndex: 31 entries, 0 to 30\n",
      "Data columns (total 2 columns):\n",
      " #   Column  Non-Null Count  Dtype \n",
      "---  ------  --------------  ----- \n",
      " 0   0       31 non-null     object\n",
      " 1   1       31 non-null     object\n",
      "dtypes: object(2)\n",
      "memory usage: 624.0+ bytes\n"
     ]
    }
   ],
   "source": [
    "data.info()"
   ]
  },
  {
   "cell_type": "code",
   "execution_count": null,
   "id": "011c2122",
   "metadata": {},
   "outputs": [],
   "source": []
  }
 ],
 "metadata": {
  "kernelspec": {
   "display_name": "Python 3",
   "language": "python",
   "name": "python3"
  },
  "language_info": {
   "codemirror_mode": {
    "name": "ipython",
    "version": 3
   },
   "file_extension": ".py",
   "mimetype": "text/x-python",
   "name": "python",
   "nbconvert_exporter": "python",
   "pygments_lexer": "ipython3",
   "version": "3.8.8"
  }
 },
 "nbformat": 4,
 "nbformat_minor": 5
}
