{
 "cells": [
  {
   "cell_type": "code",
   "execution_count": 1,
   "metadata": {},
   "outputs": [],
   "source": [
    "import pandas as pd\n",
    "import matplotlib.pyplot as plt"
   ]
  },
  {
   "cell_type": "code",
   "execution_count": 2,
   "metadata": {},
   "outputs": [],
   "source": [
    "csv_df = pd.read_csv(\"Top_Scorers_dataset.csv\")"
   ]
  },
  {
   "cell_type": "code",
   "execution_count": 3,
   "metadata": {},
   "outputs": [
    {
     "data": {
      "text/html": [
       "<div>\n",
       "<style scoped>\n",
       "    .dataframe tbody tr th:only-of-type {\n",
       "        vertical-align: middle;\n",
       "    }\n",
       "\n",
       "    .dataframe tbody tr th {\n",
       "        vertical-align: top;\n",
       "    }\n",
       "\n",
       "    .dataframe thead th {\n",
       "        text-align: right;\n",
       "    }\n",
       "</style>\n",
       "<table border=\"1\" class=\"dataframe\">\n",
       "  <thead>\n",
       "    <tr style=\"text-align: right;\">\n",
       "      <th></th>\n",
       "      <th>Rank</th>\n",
       "      <th>Name</th>\n",
       "      <th>Nationality</th>\n",
       "      <th>Goals</th>\n",
       "    </tr>\n",
       "  </thead>\n",
       "  <tbody>\n",
       "    <tr>\n",
       "      <th>0</th>\n",
       "      <td>1</td>\n",
       "      <td>Alan Shearer</td>\n",
       "      <td>England</td>\n",
       "      <td>260</td>\n",
       "    </tr>\n",
       "    <tr>\n",
       "      <th>1</th>\n",
       "      <td>2</td>\n",
       "      <td>Wayne Rooney</td>\n",
       "      <td>England</td>\n",
       "      <td>208</td>\n",
       "    </tr>\n",
       "    <tr>\n",
       "      <th>2</th>\n",
       "      <td>3</td>\n",
       "      <td>Andrew Cole</td>\n",
       "      <td>England</td>\n",
       "      <td>187</td>\n",
       "    </tr>\n",
       "    <tr>\n",
       "      <th>3</th>\n",
       "      <td>4</td>\n",
       "      <td>Sergio Agüero</td>\n",
       "      <td>Argentina</td>\n",
       "      <td>184</td>\n",
       "    </tr>\n",
       "    <tr>\n",
       "      <th>4</th>\n",
       "      <td>5</td>\n",
       "      <td>Frank Lampard</td>\n",
       "      <td>England</td>\n",
       "      <td>177</td>\n",
       "    </tr>\n",
       "  </tbody>\n",
       "</table>\n",
       "</div>"
      ],
      "text/plain": [
       "   Rank           Name Nationality  Goals\n",
       "0     1   Alan Shearer     England    260\n",
       "1     2   Wayne Rooney     England    208\n",
       "2     3    Andrew Cole     England    187\n",
       "3     4  Sergio Agüero   Argentina    184\n",
       "4     5  Frank Lampard     England    177"
      ]
     },
     "execution_count": 3,
     "metadata": {},
     "output_type": "execute_result"
    }
   ],
   "source": [
    "csv_df.head()"
   ]
  },
  {
   "cell_type": "code",
   "execution_count": 4,
   "metadata": {},
   "outputs": [
    {
     "name": "stdout",
     "output_type": "stream",
     "text": [
      "<class 'pandas.core.frame.DataFrame'>\n",
      "RangeIndex: 20 entries, 0 to 19\n",
      "Data columns (total 4 columns):\n",
      " #   Column       Non-Null Count  Dtype \n",
      "---  ------       --------------  ----- \n",
      " 0   Rank         20 non-null     int64 \n",
      " 1   Name         20 non-null     object\n",
      " 2   Nationality  20 non-null     object\n",
      " 3   Goals        20 non-null     int64 \n",
      "dtypes: int64(2), object(2)\n",
      "memory usage: 768.0+ bytes\n"
     ]
    }
   ],
   "source": [
    "csv_df.info()"
   ]
  },
  {
   "cell_type": "code",
   "execution_count": 5,
   "metadata": {},
   "outputs": [],
   "source": [
    "json_df = pd.read_json(\"players_stats.json\")"
   ]
  },
  {
   "cell_type": "code",
   "execution_count": 6,
   "metadata": {},
   "outputs": [
    {
     "data": {
      "text/html": [
       "<div>\n",
       "<style scoped>\n",
       "    .dataframe tbody tr th:only-of-type {\n",
       "        vertical-align: middle;\n",
       "    }\n",
       "\n",
       "    .dataframe tbody tr th {\n",
       "        vertical-align: top;\n",
       "    }\n",
       "\n",
       "    .dataframe thead th {\n",
       "        text-align: right;\n",
       "    }\n",
       "</style>\n",
       "<table border=\"1\" class=\"dataframe\">\n",
       "  <thead>\n",
       "    <tr style=\"text-align: right;\">\n",
       "      <th></th>\n",
       "      <th>Name</th>\n",
       "      <th>Height_cm</th>\n",
       "      <th>Appearances</th>\n",
       "      <th>Wins</th>\n",
       "      <th>Losses</th>\n",
       "      <th>Goals_per_match</th>\n",
       "      <th>Assists</th>\n",
       "      <th>Yellow_cards</th>\n",
       "      <th>Red_cards</th>\n",
       "    </tr>\n",
       "  </thead>\n",
       "  <tbody>\n",
       "    <tr>\n",
       "      <th>0</th>\n",
       "      <td>Michael Owen</td>\n",
       "      <td>173</td>\n",
       "      <td>326</td>\n",
       "      <td>142</td>\n",
       "      <td>95</td>\n",
       "      <td>0.46</td>\n",
       "      <td>31</td>\n",
       "      <td>10</td>\n",
       "      <td>1</td>\n",
       "    </tr>\n",
       "    <tr>\n",
       "      <th>1</th>\n",
       "      <td>Jermain Defoe</td>\n",
       "      <td>171</td>\n",
       "      <td>496</td>\n",
       "      <td>185</td>\n",
       "      <td>188</td>\n",
       "      <td>0.33</td>\n",
       "      <td>33</td>\n",
       "      <td>40</td>\n",
       "      <td>2</td>\n",
       "    </tr>\n",
       "    <tr>\n",
       "      <th>2</th>\n",
       "      <td>Harry Kane</td>\n",
       "      <td>188</td>\n",
       "      <td>245</td>\n",
       "      <td>136</td>\n",
       "      <td>57</td>\n",
       "      <td>0.68</td>\n",
       "      <td>34</td>\n",
       "      <td>27</td>\n",
       "      <td>0</td>\n",
       "    </tr>\n",
       "    <tr>\n",
       "      <th>3</th>\n",
       "      <td>Mohamed Salah</td>\n",
       "      <td>175</td>\n",
       "      <td>158</td>\n",
       "      <td>107</td>\n",
       "      <td>21</td>\n",
       "      <td>0.61</td>\n",
       "      <td>34</td>\n",
       "      <td>4</td>\n",
       "      <td>0</td>\n",
       "    </tr>\n",
       "    <tr>\n",
       "      <th>4</th>\n",
       "      <td>Romelu Lukaku</td>\n",
       "      <td>190</td>\n",
       "      <td>252</td>\n",
       "      <td>112</td>\n",
       "      <td>80</td>\n",
       "      <td>0.45</td>\n",
       "      <td>35</td>\n",
       "      <td>19</td>\n",
       "      <td>0</td>\n",
       "    </tr>\n",
       "  </tbody>\n",
       "</table>\n",
       "</div>"
      ],
      "text/plain": [
       "            Name  Height_cm  Appearances  Wins  Losses  Goals_per_match  \\\n",
       "0   Michael Owen        173          326   142      95             0.46   \n",
       "1  Jermain Defoe        171          496   185     188             0.33   \n",
       "2     Harry Kane        188          245   136      57             0.68   \n",
       "3  Mohamed Salah        175          158   107      21             0.61   \n",
       "4  Romelu Lukaku        190          252   112      80             0.45   \n",
       "\n",
       "   Assists  Yellow_cards  Red_cards  \n",
       "0       31            10          1  \n",
       "1       33            40          2  \n",
       "2       34            27          0  \n",
       "3       34             4          0  \n",
       "4       35            19          0  "
      ]
     },
     "execution_count": 6,
     "metadata": {},
     "output_type": "execute_result"
    }
   ],
   "source": [
    "json_df.head()"
   ]
  },
  {
   "cell_type": "code",
   "execution_count": 7,
   "metadata": {},
   "outputs": [
    {
     "name": "stdout",
     "output_type": "stream",
     "text": [
      "<class 'pandas.core.frame.DataFrame'>\n",
      "RangeIndex: 21 entries, 0 to 20\n",
      "Data columns (total 9 columns):\n",
      " #   Column           Non-Null Count  Dtype  \n",
      "---  ------           --------------  -----  \n",
      " 0   Name             21 non-null     object \n",
      " 1   Height_cm        21 non-null     int64  \n",
      " 2   Appearances      21 non-null     int64  \n",
      " 3   Wins             21 non-null     int64  \n",
      " 4   Losses           21 non-null     int64  \n",
      " 5   Goals_per_match  21 non-null     float64\n",
      " 6   Assists          21 non-null     int64  \n",
      " 7   Yellow_cards     21 non-null     int64  \n",
      " 8   Red_cards        21 non-null     int64  \n",
      "dtypes: float64(1), int64(7), object(1)\n",
      "memory usage: 1.6+ KB\n"
     ]
    }
   ],
   "source": [
    "json_df.info()"
   ]
  },
  {
   "cell_type": "code",
   "execution_count": 8,
   "metadata": {},
   "outputs": [],
   "source": [
    "df = csv_df.merge(json_df,on = 'Name' ,how='inner')"
   ]
  },
  {
   "cell_type": "code",
   "execution_count": 9,
   "metadata": {},
   "outputs": [
    {
     "data": {
      "text/html": [
       "<div>\n",
       "<style scoped>\n",
       "    .dataframe tbody tr th:only-of-type {\n",
       "        vertical-align: middle;\n",
       "    }\n",
       "\n",
       "    .dataframe tbody tr th {\n",
       "        vertical-align: top;\n",
       "    }\n",
       "\n",
       "    .dataframe thead th {\n",
       "        text-align: right;\n",
       "    }\n",
       "</style>\n",
       "<table border=\"1\" class=\"dataframe\">\n",
       "  <thead>\n",
       "    <tr style=\"text-align: right;\">\n",
       "      <th></th>\n",
       "      <th>Rank</th>\n",
       "      <th>Name</th>\n",
       "      <th>Nationality</th>\n",
       "      <th>Goals</th>\n",
       "      <th>Height_cm</th>\n",
       "      <th>Appearances</th>\n",
       "      <th>Wins</th>\n",
       "      <th>Losses</th>\n",
       "      <th>Goals_per_match</th>\n",
       "      <th>Assists</th>\n",
       "      <th>Yellow_cards</th>\n",
       "      <th>Red_cards</th>\n",
       "    </tr>\n",
       "  </thead>\n",
       "  <tbody>\n",
       "    <tr>\n",
       "      <th>0</th>\n",
       "      <td>1</td>\n",
       "      <td>Alan Shearer</td>\n",
       "      <td>England</td>\n",
       "      <td>260</td>\n",
       "      <td>183</td>\n",
       "      <td>441</td>\n",
       "      <td>203</td>\n",
       "      <td>129</td>\n",
       "      <td>0.59</td>\n",
       "      <td>64</td>\n",
       "      <td>41</td>\n",
       "      <td>2</td>\n",
       "    </tr>\n",
       "    <tr>\n",
       "      <th>1</th>\n",
       "      <td>2</td>\n",
       "      <td>Wayne Rooney</td>\n",
       "      <td>England</td>\n",
       "      <td>208</td>\n",
       "      <td>176</td>\n",
       "      <td>491</td>\n",
       "      <td>284</td>\n",
       "      <td>103</td>\n",
       "      <td>0.42</td>\n",
       "      <td>103</td>\n",
       "      <td>102</td>\n",
       "      <td>3</td>\n",
       "    </tr>\n",
       "    <tr>\n",
       "      <th>2</th>\n",
       "      <td>3</td>\n",
       "      <td>Andrew Cole</td>\n",
       "      <td>England</td>\n",
       "      <td>187</td>\n",
       "      <td>178</td>\n",
       "      <td>414</td>\n",
       "      <td>206</td>\n",
       "      <td>106</td>\n",
       "      <td>0.45</td>\n",
       "      <td>73</td>\n",
       "      <td>40</td>\n",
       "      <td>6</td>\n",
       "    </tr>\n",
       "    <tr>\n",
       "      <th>3</th>\n",
       "      <td>4</td>\n",
       "      <td>Sergio Agüero</td>\n",
       "      <td>Argentina</td>\n",
       "      <td>184</td>\n",
       "      <td>173</td>\n",
       "      <td>275</td>\n",
       "      <td>186</td>\n",
       "      <td>45</td>\n",
       "      <td>0.67</td>\n",
       "      <td>47</td>\n",
       "      <td>23</td>\n",
       "      <td>1</td>\n",
       "    </tr>\n",
       "    <tr>\n",
       "      <th>4</th>\n",
       "      <td>5</td>\n",
       "      <td>Frank Lampard</td>\n",
       "      <td>England</td>\n",
       "      <td>177</td>\n",
       "      <td>184</td>\n",
       "      <td>609</td>\n",
       "      <td>349</td>\n",
       "      <td>127</td>\n",
       "      <td>0.29</td>\n",
       "      <td>102</td>\n",
       "      <td>59</td>\n",
       "      <td>2</td>\n",
       "    </tr>\n",
       "  </tbody>\n",
       "</table>\n",
       "</div>"
      ],
      "text/plain": [
       "   Rank           Name Nationality  Goals  Height_cm  Appearances  Wins  \\\n",
       "0     1   Alan Shearer     England    260        183          441   203   \n",
       "1     2   Wayne Rooney     England    208        176          491   284   \n",
       "2     3    Andrew Cole     England    187        178          414   206   \n",
       "3     4  Sergio Agüero   Argentina    184        173          275   186   \n",
       "4     5  Frank Lampard     England    177        184          609   349   \n",
       "\n",
       "   Losses  Goals_per_match  Assists  Yellow_cards  Red_cards  \n",
       "0     129             0.59       64            41          2  \n",
       "1     103             0.42      103           102          3  \n",
       "2     106             0.45       73            40          6  \n",
       "3      45             0.67       47            23          1  \n",
       "4     127             0.29      102            59          2  "
      ]
     },
     "execution_count": 9,
     "metadata": {},
     "output_type": "execute_result"
    }
   ],
   "source": [
    "df.head()"
   ]
  },
  {
   "cell_type": "code",
   "execution_count": 10,
   "metadata": {},
   "outputs": [
    {
     "name": "stdout",
     "output_type": "stream",
     "text": [
      "<class 'pandas.core.frame.DataFrame'>\n",
      "Int64Index: 20 entries, 0 to 19\n",
      "Data columns (total 12 columns):\n",
      " #   Column           Non-Null Count  Dtype  \n",
      "---  ------           --------------  -----  \n",
      " 0   Rank             20 non-null     int64  \n",
      " 1   Name             20 non-null     object \n",
      " 2   Nationality      20 non-null     object \n",
      " 3   Goals            20 non-null     int64  \n",
      " 4   Height_cm        20 non-null     int64  \n",
      " 5   Appearances      20 non-null     int64  \n",
      " 6   Wins             20 non-null     int64  \n",
      " 7   Losses           20 non-null     int64  \n",
      " 8   Goals_per_match  20 non-null     float64\n",
      " 9   Assists          20 non-null     int64  \n",
      " 10  Yellow_cards     20 non-null     int64  \n",
      " 11  Red_cards        20 non-null     int64  \n",
      "dtypes: float64(1), int64(9), object(2)\n",
      "memory usage: 2.0+ KB\n"
     ]
    }
   ],
   "source": [
    "df.info()"
   ]
  },
  {
   "cell_type": "code",
   "execution_count": 16,
   "metadata": {},
   "outputs": [
    {
     "data": {
      "text/plain": [
       "<AxesSubplot:xlabel='Appearances', ylabel='Goals'>"
      ]
     },
     "execution_count": 16,
     "metadata": {},
     "output_type": "execute_result"
    },
    {
     "data": {
      "image/png": "[encoded data removed]",
      "text/plain": [
       "<Figure size 432x288 with 1 Axes>"
      ]
     },
     "metadata": {
      "needs_background": "light"
     },
     "output_type": "display_data"
    }
   ],
   "source": [
    "df.plot(x ='Appearances', y= 'Goals', kind = 'scatter')"
   ]
  },
  {
   "cell_type": "code",
   "execution_count": 11,
   "metadata": {},
   "outputs": [
    {
     "data": {
      "text/plain": [
       "Text(0, 0.5, 'Goals')"
      ]
     },
     "execution_count": 11,
     "metadata": {},
     "output_type": "execute_result"
    },
    {
     "data": {
      "image/png": "[encoded data removed]",
      "text/plain": [
       "<Figure size 432x288 with 1 Axes>"
      ]
     },
     "metadata": {
      "needs_background": "light"
     },
     "output_type": "display_data"
    }
   ],
   "source": [
    "plt.scatter(df['Appearances'],df['Goals'])\n",
    "plt.title('Apperances vrs Goals')\n",
    "plt.xlabel('Appearances')\n",
    "plt.ylabel('Goals')"
   ]
  },
  {
   "cell_type": "code",
   "execution_count": null,
   "metadata": {},
   "outputs": [],
   "source": []
  }
 ],
 "metadata": {
  "kernelspec": {
   "display_name": "Python 3",
   "language": "python",
   "name": "python3"
  },
  "language_info": {
   "codemirror_mode": {
    "name": "ipython",
    "version": 3
   },
   "file_extension": ".py",
   "mimetype": "text/x-python",
   "name": "python",
   "nbconvert_exporter": "python",
   "pygments_lexer": "ipython3",
   "version": "3.8.8"
  }
 },
 "nbformat": 4,
 "nbformat_minor": 4
}
