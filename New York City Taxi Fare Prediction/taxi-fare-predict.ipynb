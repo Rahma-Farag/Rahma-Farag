{
 "cells": [
  {
   "cell_type": "code",
   "execution_count": 1,
   "id": "dfa21c39",
   "metadata": {
    "_cell_guid": "b1076dfc-b9ad-4769-8c92-a6c4dae69d19",
    "_uuid": "8f2839f25d086af736a60e9eeb907d3b93b6e0e5",
    "execution": {
     "iopub.execute_input": "2022-05-11T11:04:29.533842Z",
     "iopub.status.busy": "2022-05-11T11:04:29.533427Z",
     "iopub.status.idle": "2022-05-11T11:04:29.548437Z",
     "shell.execute_reply": "2022-05-11T11:04:29.547220Z"
    },
    "papermill": {
     "duration": 0.114327,
     "end_time": "2022-05-11T11:04:29.551648",
     "exception": false,
     "start_time": "2022-05-11T11:04:29.437321",
     "status": "completed"
    },
    "tags": []
   },
   "outputs": [
    {
     "name": "stdout",
     "output_type": "stream",
     "text": [
      "/kaggle/input/new-york-city-taxi-fare-prediction/sample_submission.csv\n",
      "/kaggle/input/new-york-city-taxi-fare-prediction/GCP-Coupons-Instructions.rtf\n",
      "/kaggle/input/new-york-city-taxi-fare-prediction/train.csv\n",
      "/kaggle/input/new-york-city-taxi-fare-prediction/test.csv\n"
     ]
    }
   ],
   "source": [
    "# This Python 3 environment comes with many helpful analytics libraries installed\n",
    "# It is defined by the kaggle/python Docker image: https://github.com/kaggle/docker-python\n",
    "# For example, here's several helpful packages to load\n",
    "\n",
    "import numpy as np # linear algebra\n",
    "import pandas as pd # data processing, CSV file I/O (e.g. pd.read_csv)\n",
    "\n",
    "# Input data files are available in the read-only \"../input/\" directory\n",
    "# For example, running this (by clicking run or pressing Shift+Enter) will list all files under the input directory\n",
    "\n",
    "import os\n",
    "for dirname, _, filenames in os.walk('/kaggle/input'):\n",
    "    for filename in filenames:\n",
    "        print(os.path.join(dirname, filename))\n",
    "\n",
    "# You can write up to 20GB to the current directory (/kaggle/working/) that gets preserved as output when you create a version using \"Save & Run All\" \n",
    "# You can also write temporary files to /kaggle/temp/, but they won't be saved outside of the current session"
   ]
  },
  {
   "cell_type": "code",
   "execution_count": 2,
   "id": "9a85d738",
   "metadata": {
    "execution": {
     "iopub.execute_input": "2022-05-11T11:04:29.738761Z",
     "iopub.status.busy": "2022-05-11T11:04:29.738478Z",
     "iopub.status.idle": "2022-05-11T11:04:29.742196Z",
     "shell.execute_reply": "2022-05-11T11:04:29.741272Z"
    },
    "papermill": {
     "duration": 0.097512,
     "end_time": "2022-05-11T11:04:29.744109",
     "exception": false,
     "start_time": "2022-05-11T11:04:29.646597",
     "status": "completed"
    },
    "tags": []
   },
   "outputs": [],
   "source": [
    "# train_df = pd.read_csv('/kaggle/input/new-york-city-taxi-fare-prediction/train.csv')\n",
    "# train_df.head()"
   ]
  },
  {
   "cell_type": "code",
   "execution_count": 3,
   "id": "be34efcc",
   "metadata": {
    "execution": {
     "iopub.execute_input": "2022-05-11T11:04:29.960546Z",
     "iopub.status.busy": "2022-05-11T11:04:29.959532Z",
     "iopub.status.idle": "2022-05-11T11:04:29.963463Z",
     "shell.execute_reply": "2022-05-11T11:04:29.962812Z"
    },
    "papermill": {
     "duration": 0.124927,
     "end_time": "2022-05-11T11:04:29.965585",
     "exception": false,
     "start_time": "2022-05-11T11:04:29.840658",
     "status": "completed"
    },
    "tags": []
   },
   "outputs": [],
   "source": [
    "# test_df = pd.read_csv('/kaggle/input/new-york-city-taxi-fare-prediction/test.csv')\n",
    "# test_df.head()"
   ]
  },
  {
   "cell_type": "code",
   "execution_count": 4,
   "id": "1e5648a9",
   "metadata": {
    "execution": {
     "iopub.execute_input": "2022-05-11T11:04:30.156220Z",
     "iopub.status.busy": "2022-05-11T11:04:30.155273Z",
     "iopub.status.idle": "2022-05-11T11:04:30.159878Z",
     "shell.execute_reply": "2022-05-11T11:04:30.159013Z"
    },
    "papermill": {
     "duration": 0.100535,
     "end_time": "2022-05-11T11:04:30.161844",
     "exception": false,
     "start_time": "2022-05-11T11:04:30.061309",
     "status": "completed"
    },
    "tags": []
   },
   "outputs": [],
   "source": [
    "selected_cols = ['fare_amount',\n",
    "                'pickup_datetime',\n",
    "                'pickup_longitude',\n",
    "                'pickup_latitude',\n",
    "                'dropoff_longitude',\n",
    "                'dropoff_latitude',\n",
    "                'passenger_count']"
   ]
  },
  {
   "cell_type": "code",
   "execution_count": 5,
   "id": "11480998",
   "metadata": {
    "execution": {
     "iopub.execute_input": "2022-05-11T11:04:30.349731Z",
     "iopub.status.busy": "2022-05-11T11:04:30.349298Z",
     "iopub.status.idle": "2022-05-11T11:04:30.353212Z",
     "shell.execute_reply": "2022-05-11T11:04:30.352629Z"
    },
    "papermill": {
     "duration": 0.10044,
     "end_time": "2022-05-11T11:04:30.355158",
     "exception": false,
     "start_time": "2022-05-11T11:04:30.254718",
     "status": "completed"
    },
    "tags": []
   },
   "outputs": [],
   "source": [
    "dtypes = {'fare_amount': 'float32',\n",
    "                'pickup_longitude': 'float32',\n",
    "                'pickup_latitude': 'float32',\n",
    "                'dropoff_longitude': 'float32',\n",
    "                'dropoff_latitude': 'float32',\n",
    "                'passenger_count': 'uint8'\n",
    "}"
   ]
  },
  {
   "cell_type": "code",
   "execution_count": null,
   "id": "174e1909",
   "metadata": {
    "papermill": {
     "duration": 0.094665,
     "end_time": "2022-05-11T11:04:30.544333",
     "exception": false,
     "start_time": "2022-05-11T11:04:30.449668",
     "status": "completed"
    },
    "tags": []
   },
   "outputs": [],
   "source": []
  },
  {
   "cell_type": "code",
   "execution_count": 6,
   "id": "2c02788b",
   "metadata": {
    "execution": {
     "iopub.execute_input": "2022-05-11T11:04:30.726938Z",
     "iopub.status.busy": "2022-05-11T11:04:30.726457Z",
     "iopub.status.idle": "2022-05-11T11:04:46.039834Z",
     "shell.execute_reply": "2022-05-11T11:04:46.038902Z"
    },
    "papermill": {
     "duration": 15.407485,
     "end_time": "2022-05-11T11:04:46.042199",
     "exception": false,
     "start_time": "2022-05-11T11:04:30.634714",
     "status": "completed"
    },
    "tags": []
   },
   "outputs": [
    {
     "data": {
      "text/html": [
       "<div>\n",
       "<style scoped>\n",
       "    .dataframe tbody tr th:only-of-type {\n",
       "        vertical-align: middle;\n",
       "    }\n",
       "\n",
       "    .dataframe tbody tr th {\n",
       "        vertical-align: top;\n",
       "    }\n",
       "\n",
       "    .dataframe thead th {\n",
       "        text-align: right;\n",
       "    }\n",
       "</style>\n",
       "<table border=\"1\" class=\"dataframe\">\n",
       "  <thead>\n",
       "    <tr style=\"text-align: right;\">\n",
       "      <th></th>\n",
       "      <th>fare_amount</th>\n",
       "      <th>pickup_datetime</th>\n",
       "      <th>pickup_longitude</th>\n",
       "      <th>pickup_latitude</th>\n",
       "      <th>dropoff_longitude</th>\n",
       "      <th>dropoff_latitude</th>\n",
       "      <th>passenger_count</th>\n",
       "    </tr>\n",
       "  </thead>\n",
       "  <tbody>\n",
       "    <tr>\n",
       "      <th>0</th>\n",
       "      <td>4.5</td>\n",
       "      <td>2009-06-15 17:26:21+00:00</td>\n",
       "      <td>-73.844315</td>\n",
       "      <td>40.721317</td>\n",
       "      <td>-73.841614</td>\n",
       "      <td>40.712276</td>\n",
       "      <td>1</td>\n",
       "    </tr>\n",
       "    <tr>\n",
       "      <th>1</th>\n",
       "      <td>16.9</td>\n",
       "      <td>2010-01-05 16:52:16+00:00</td>\n",
       "      <td>-74.016045</td>\n",
       "      <td>40.711304</td>\n",
       "      <td>-73.979271</td>\n",
       "      <td>40.782005</td>\n",
       "      <td>1</td>\n",
       "    </tr>\n",
       "    <tr>\n",
       "      <th>2</th>\n",
       "      <td>5.7</td>\n",
       "      <td>2011-08-18 00:35:00+00:00</td>\n",
       "      <td>-73.982735</td>\n",
       "      <td>40.761269</td>\n",
       "      <td>-73.991241</td>\n",
       "      <td>40.750561</td>\n",
       "      <td>2</td>\n",
       "    </tr>\n",
       "    <tr>\n",
       "      <th>3</th>\n",
       "      <td>7.7</td>\n",
       "      <td>2012-04-21 04:30:42+00:00</td>\n",
       "      <td>-73.987129</td>\n",
       "      <td>40.733143</td>\n",
       "      <td>-73.991570</td>\n",
       "      <td>40.758091</td>\n",
       "      <td>1</td>\n",
       "    </tr>\n",
       "    <tr>\n",
       "      <th>4</th>\n",
       "      <td>5.3</td>\n",
       "      <td>2010-03-09 07:51:00+00:00</td>\n",
       "      <td>-73.968094</td>\n",
       "      <td>40.768009</td>\n",
       "      <td>-73.956657</td>\n",
       "      <td>40.783764</td>\n",
       "      <td>1</td>\n",
       "    </tr>\n",
       "  </tbody>\n",
       "</table>\n",
       "</div>"
      ],
      "text/plain": [
       "   fare_amount           pickup_datetime  pickup_longitude  pickup_latitude  \\\n",
       "0          4.5 2009-06-15 17:26:21+00:00        -73.844315        40.721317   \n",
       "1         16.9 2010-01-05 16:52:16+00:00        -74.016045        40.711304   \n",
       "2          5.7 2011-08-18 00:35:00+00:00        -73.982735        40.761269   \n",
       "3          7.7 2012-04-21 04:30:42+00:00        -73.987129        40.733143   \n",
       "4          5.3 2010-03-09 07:51:00+00:00        -73.968094        40.768009   \n",
       "\n",
       "   dropoff_longitude  dropoff_latitude  passenger_count  \n",
       "0         -73.841614         40.712276                1  \n",
       "1         -73.979271         40.782005                1  \n",
       "2         -73.991241         40.750561                2  \n",
       "3         -73.991570         40.758091                1  \n",
       "4         -73.956657         40.783764                1  "
      ]
     },
     "execution_count": 6,
     "metadata": {},
     "output_type": "execute_result"
    }
   ],
   "source": [
    "train_df_part = pd.read_csv('/kaggle/input/new-york-city-taxi-fare-prediction/train.csv', \n",
    "                           usecols=selected_cols, dtype=dtypes,\n",
    "                           parse_dates=['pickup_datetime'],\n",
    "                           nrows=100000)\n",
    "train_df_part.head()"
   ]
  },
  {
   "cell_type": "markdown",
   "id": "f8b92d7c",
   "metadata": {
    "papermill": {
     "duration": 0.093935,
     "end_time": "2022-05-11T11:04:46.231118",
     "exception": false,
     "start_time": "2022-05-11T11:04:46.137183",
     "status": "completed"
    },
    "tags": []
   },
   "source": [
    "load test dataset"
   ]
  },
  {
   "cell_type": "code",
   "execution_count": 7,
   "id": "5dfc3c1e",
   "metadata": {
    "execution": {
     "iopub.execute_input": "2022-05-11T11:04:46.414743Z",
     "iopub.status.busy": "2022-05-11T11:04:46.414222Z",
     "iopub.status.idle": "2022-05-11T11:04:46.762484Z",
     "shell.execute_reply": "2022-05-11T11:04:46.761541Z"
    },
    "papermill": {
     "duration": 0.442663,
     "end_time": "2022-05-11T11:04:46.764652",
     "exception": false,
     "start_time": "2022-05-11T11:04:46.321989",
     "status": "completed"
    },
    "tags": []
   },
   "outputs": [
    {
     "data": {
      "text/html": [
       "<div>\n",
       "<style scoped>\n",
       "    .dataframe tbody tr th:only-of-type {\n",
       "        vertical-align: middle;\n",
       "    }\n",
       "\n",
       "    .dataframe tbody tr th {\n",
       "        vertical-align: top;\n",
       "    }\n",
       "\n",
       "    .dataframe thead th {\n",
       "        text-align: right;\n",
       "    }\n",
       "</style>\n",
       "<table border=\"1\" class=\"dataframe\">\n",
       "  <thead>\n",
       "    <tr style=\"text-align: right;\">\n",
       "      <th></th>\n",
       "      <th>key</th>\n",
       "      <th>pickup_datetime</th>\n",
       "      <th>pickup_longitude</th>\n",
       "      <th>pickup_latitude</th>\n",
       "      <th>dropoff_longitude</th>\n",
       "      <th>dropoff_latitude</th>\n",
       "      <th>passenger_count</th>\n",
       "    </tr>\n",
       "  </thead>\n",
       "  <tbody>\n",
       "    <tr>\n",
       "      <th>0</th>\n",
       "      <td>2015-01-27 13:08:24.0000002</td>\n",
       "      <td>2015-01-27 13:08:24+00:00</td>\n",
       "      <td>-73.973320</td>\n",
       "      <td>40.763805</td>\n",
       "      <td>-73.981430</td>\n",
       "      <td>40.743835</td>\n",
       "      <td>1</td>\n",
       "    </tr>\n",
       "    <tr>\n",
       "      <th>1</th>\n",
       "      <td>2015-01-27 13:08:24.0000003</td>\n",
       "      <td>2015-01-27 13:08:24+00:00</td>\n",
       "      <td>-73.986862</td>\n",
       "      <td>40.719383</td>\n",
       "      <td>-73.998886</td>\n",
       "      <td>40.739201</td>\n",
       "      <td>1</td>\n",
       "    </tr>\n",
       "    <tr>\n",
       "      <th>2</th>\n",
       "      <td>2011-10-08 11:53:44.0000002</td>\n",
       "      <td>2011-10-08 11:53:44+00:00</td>\n",
       "      <td>-73.982521</td>\n",
       "      <td>40.751259</td>\n",
       "      <td>-73.979652</td>\n",
       "      <td>40.746140</td>\n",
       "      <td>1</td>\n",
       "    </tr>\n",
       "    <tr>\n",
       "      <th>3</th>\n",
       "      <td>2012-12-01 21:12:12.0000002</td>\n",
       "      <td>2012-12-01 21:12:12+00:00</td>\n",
       "      <td>-73.981163</td>\n",
       "      <td>40.767807</td>\n",
       "      <td>-73.990448</td>\n",
       "      <td>40.751637</td>\n",
       "      <td>1</td>\n",
       "    </tr>\n",
       "    <tr>\n",
       "      <th>4</th>\n",
       "      <td>2012-12-01 21:12:12.0000003</td>\n",
       "      <td>2012-12-01 21:12:12+00:00</td>\n",
       "      <td>-73.966049</td>\n",
       "      <td>40.789776</td>\n",
       "      <td>-73.988564</td>\n",
       "      <td>40.744427</td>\n",
       "      <td>1</td>\n",
       "    </tr>\n",
       "  </tbody>\n",
       "</table>\n",
       "</div>"
      ],
      "text/plain": [
       "                           key           pickup_datetime  pickup_longitude  \\\n",
       "0  2015-01-27 13:08:24.0000002 2015-01-27 13:08:24+00:00        -73.973320   \n",
       "1  2015-01-27 13:08:24.0000003 2015-01-27 13:08:24+00:00        -73.986862   \n",
       "2  2011-10-08 11:53:44.0000002 2011-10-08 11:53:44+00:00        -73.982521   \n",
       "3  2012-12-01 21:12:12.0000002 2012-12-01 21:12:12+00:00        -73.981163   \n",
       "4  2012-12-01 21:12:12.0000003 2012-12-01 21:12:12+00:00        -73.966049   \n",
       "\n",
       "   pickup_latitude  dropoff_longitude  dropoff_latitude  passenger_count  \n",
       "0        40.763805         -73.981430         40.743835                1  \n",
       "1        40.719383         -73.998886         40.739201                1  \n",
       "2        40.751259         -73.979652         40.746140                1  \n",
       "3        40.767807         -73.990448         40.751637                1  \n",
       "4        40.789776         -73.988564         40.744427                1  "
      ]
     },
     "execution_count": 7,
     "metadata": {},
     "output_type": "execute_result"
    }
   ],
   "source": [
    "test_df = pd.read_csv('/kaggle/input/new-york-city-taxi-fare-prediction/test.csv', \n",
    "                           dtype=dtypes,\n",
    "                           parse_dates=['pickup_datetime'])\n",
    "test_df.head()"
   ]
  },
  {
   "cell_type": "markdown",
   "id": "f646e5de",
   "metadata": {
    "papermill": {
     "duration": 0.094444,
     "end_time": "2022-05-11T11:04:46.951593",
     "exception": false,
     "start_time": "2022-05-11T11:04:46.857149",
     "status": "completed"
    },
    "tags": []
   },
   "source": [
    "# explore the dataset"
   ]
  },
  {
   "cell_type": "code",
   "execution_count": 8,
   "id": "8572dea9",
   "metadata": {
    "execution": {
     "iopub.execute_input": "2022-05-11T11:04:47.139453Z",
     "iopub.status.busy": "2022-05-11T11:04:47.138904Z",
     "iopub.status.idle": "2022-05-11T11:04:47.161214Z",
     "shell.execute_reply": "2022-05-11T11:04:47.160336Z"
    },
    "papermill": {
     "duration": 0.119836,
     "end_time": "2022-05-11T11:04:47.163731",
     "exception": false,
     "start_time": "2022-05-11T11:04:47.043895",
     "status": "completed"
    },
    "tags": []
   },
   "outputs": [
    {
     "name": "stdout",
     "output_type": "stream",
     "text": [
      "<class 'pandas.core.frame.DataFrame'>\n",
      "RangeIndex: 100000 entries, 0 to 99999\n",
      "Data columns (total 7 columns):\n",
      " #   Column             Non-Null Count   Dtype              \n",
      "---  ------             --------------   -----              \n",
      " 0   fare_amount        100000 non-null  float32            \n",
      " 1   pickup_datetime    100000 non-null  datetime64[ns, UTC]\n",
      " 2   pickup_longitude   100000 non-null  float32            \n",
      " 3   pickup_latitude    100000 non-null  float32            \n",
      " 4   dropoff_longitude  100000 non-null  float32            \n",
      " 5   dropoff_latitude   100000 non-null  float32            \n",
      " 6   passenger_count    100000 non-null  uint8              \n",
      "dtypes: datetime64[ns, UTC](1), float32(5), uint8(1)\n",
      "memory usage: 2.8 MB\n"
     ]
    }
   ],
   "source": [
    "train_df_part.info()"
   ]
  },
  {
   "cell_type": "code",
   "execution_count": 9,
   "id": "e4fa88df",
   "metadata": {
    "execution": {
     "iopub.execute_input": "2022-05-11T11:04:47.351579Z",
     "iopub.status.busy": "2022-05-11T11:04:47.351016Z",
     "iopub.status.idle": "2022-05-11T11:04:47.408779Z",
     "shell.execute_reply": "2022-05-11T11:04:47.407832Z"
    },
    "papermill": {
     "duration": 0.155421,
     "end_time": "2022-05-11T11:04:47.410797",
     "exception": false,
     "start_time": "2022-05-11T11:04:47.255376",
     "status": "completed"
    },
    "tags": []
   },
   "outputs": [
    {
     "data": {
      "text/html": [
       "<div>\n",
       "<style scoped>\n",
       "    .dataframe tbody tr th:only-of-type {\n",
       "        vertical-align: middle;\n",
       "    }\n",
       "\n",
       "    .dataframe tbody tr th {\n",
       "        vertical-align: top;\n",
       "    }\n",
       "\n",
       "    .dataframe thead th {\n",
       "        text-align: right;\n",
       "    }\n",
       "</style>\n",
       "<table border=\"1\" class=\"dataframe\">\n",
       "  <thead>\n",
       "    <tr style=\"text-align: right;\">\n",
       "      <th></th>\n",
       "      <th>fare_amount</th>\n",
       "      <th>pickup_longitude</th>\n",
       "      <th>pickup_latitude</th>\n",
       "      <th>dropoff_longitude</th>\n",
       "      <th>dropoff_latitude</th>\n",
       "      <th>passenger_count</th>\n",
       "    </tr>\n",
       "  </thead>\n",
       "  <tbody>\n",
       "    <tr>\n",
       "      <th>count</th>\n",
       "      <td>100000.000000</td>\n",
       "      <td>100000.000000</td>\n",
       "      <td>100000.000000</td>\n",
       "      <td>100000.000000</td>\n",
       "      <td>100000.000000</td>\n",
       "      <td>100000.000000</td>\n",
       "    </tr>\n",
       "    <tr>\n",
       "      <th>mean</th>\n",
       "      <td>11.354651</td>\n",
       "      <td>-72.494682</td>\n",
       "      <td>39.914482</td>\n",
       "      <td>-72.490959</td>\n",
       "      <td>39.919056</td>\n",
       "      <td>1.673820</td>\n",
       "    </tr>\n",
       "    <tr>\n",
       "      <th>std</th>\n",
       "      <td>9.716777</td>\n",
       "      <td>10.693933</td>\n",
       "      <td>6.225686</td>\n",
       "      <td>10.471387</td>\n",
       "      <td>6.213427</td>\n",
       "      <td>1.300171</td>\n",
       "    </tr>\n",
       "    <tr>\n",
       "      <th>min</th>\n",
       "      <td>-44.900002</td>\n",
       "      <td>-736.549988</td>\n",
       "      <td>-74.007668</td>\n",
       "      <td>-84.654243</td>\n",
       "      <td>-74.006378</td>\n",
       "      <td>0.000000</td>\n",
       "    </tr>\n",
       "    <tr>\n",
       "      <th>25%</th>\n",
       "      <td>6.000000</td>\n",
       "      <td>-73.992043</td>\n",
       "      <td>40.734997</td>\n",
       "      <td>-73.991219</td>\n",
       "      <td>40.734180</td>\n",
       "      <td>1.000000</td>\n",
       "    </tr>\n",
       "    <tr>\n",
       "      <th>50%</th>\n",
       "      <td>8.500000</td>\n",
       "      <td>-73.981789</td>\n",
       "      <td>40.752766</td>\n",
       "      <td>-73.980003</td>\n",
       "      <td>40.753242</td>\n",
       "      <td>1.000000</td>\n",
       "    </tr>\n",
       "    <tr>\n",
       "      <th>75%</th>\n",
       "      <td>12.500000</td>\n",
       "      <td>-73.966980</td>\n",
       "      <td>40.767258</td>\n",
       "      <td>-73.963432</td>\n",
       "      <td>40.768166</td>\n",
       "      <td>2.000000</td>\n",
       "    </tr>\n",
       "    <tr>\n",
       "      <th>max</th>\n",
       "      <td>200.000000</td>\n",
       "      <td>40.787575</td>\n",
       "      <td>401.083344</td>\n",
       "      <td>40.851028</td>\n",
       "      <td>404.616669</td>\n",
       "      <td>6.000000</td>\n",
       "    </tr>\n",
       "  </tbody>\n",
       "</table>\n",
       "</div>"
      ],
      "text/plain": [
       "         fare_amount  pickup_longitude  pickup_latitude  dropoff_longitude  \\\n",
       "count  100000.000000     100000.000000    100000.000000      100000.000000   \n",
       "mean       11.354651        -72.494682        39.914482         -72.490959   \n",
       "std         9.716777         10.693933         6.225686          10.471387   \n",
       "min       -44.900002       -736.549988       -74.007668         -84.654243   \n",
       "25%         6.000000        -73.992043        40.734997         -73.991219   \n",
       "50%         8.500000        -73.981789        40.752766         -73.980003   \n",
       "75%        12.500000        -73.966980        40.767258         -73.963432   \n",
       "max       200.000000         40.787575       401.083344          40.851028   \n",
       "\n",
       "       dropoff_latitude  passenger_count  \n",
       "count     100000.000000    100000.000000  \n",
       "mean          39.919056         1.673820  \n",
       "std            6.213427         1.300171  \n",
       "min          -74.006378         0.000000  \n",
       "25%           40.734180         1.000000  \n",
       "50%           40.753242         1.000000  \n",
       "75%           40.768166         2.000000  \n",
       "max          404.616669         6.000000  "
      ]
     },
     "execution_count": 9,
     "metadata": {},
     "output_type": "execute_result"
    }
   ],
   "source": [
    "train_df_part.describe()"
   ]
  },
  {
   "cell_type": "code",
   "execution_count": 10,
   "id": "1069f3eb",
   "metadata": {
    "execution": {
     "iopub.execute_input": "2022-05-11T11:04:47.597019Z",
     "iopub.status.busy": "2022-05-11T11:04:47.596524Z",
     "iopub.status.idle": "2022-05-11T11:04:47.604506Z",
     "shell.execute_reply": "2022-05-11T11:04:47.603586Z"
    },
    "papermill": {
     "duration": 0.10328,
     "end_time": "2022-05-11T11:04:47.606515",
     "exception": false,
     "start_time": "2022-05-11T11:04:47.503235",
     "status": "completed"
    },
    "tags": []
   },
   "outputs": [
    {
     "data": {
      "text/plain": [
       "(Timestamp('2009-01-01 00:41:00+0000', tz='UTC'),\n",
       " Timestamp('2015-06-30 22:54:07+0000', tz='UTC'))"
      ]
     },
     "execution_count": 10,
     "metadata": {},
     "output_type": "execute_result"
    }
   ],
   "source": [
    "df = train_df_part\n",
    "df['pickup_datetime'].min(), df['pickup_datetime'].max()"
   ]
  },
  {
   "cell_type": "code",
   "execution_count": null,
   "id": "2014522f",
   "metadata": {
    "papermill": {
     "duration": 0.093212,
     "end_time": "2022-05-11T11:04:47.797000",
     "exception": false,
     "start_time": "2022-05-11T11:04:47.703788",
     "status": "completed"
    },
    "tags": []
   },
   "outputs": [],
   "source": []
  },
  {
   "cell_type": "markdown",
   "id": "6f5c90b1",
   "metadata": {
    "papermill": {
     "duration": 0.093713,
     "end_time": "2022-05-11T11:04:47.987206",
     "exception": false,
     "start_time": "2022-05-11T11:04:47.893493",
     "status": "completed"
    },
    "tags": []
   },
   "source": [
    "## we could limit ranges to ranges in test dataset"
   ]
  },
  {
   "cell_type": "code",
   "execution_count": null,
   "id": "3cb6f372",
   "metadata": {
    "papermill": {
     "duration": 0.093464,
     "end_time": "2022-05-11T11:04:48.176457",
     "exception": false,
     "start_time": "2022-05-11T11:04:48.082993",
     "status": "completed"
    },
    "tags": []
   },
   "outputs": [],
   "source": []
  },
  {
   "cell_type": "code",
   "execution_count": null,
   "id": "ed46a61f",
   "metadata": {
    "papermill": {
     "duration": 0.092448,
     "end_time": "2022-05-11T11:04:48.362005",
     "exception": false,
     "start_time": "2022-05-11T11:04:48.269557",
     "status": "completed"
    },
    "tags": []
   },
   "outputs": [],
   "source": []
  },
  {
   "cell_type": "markdown",
   "id": "3e361acf",
   "metadata": {
    "papermill": {
     "duration": 0.092656,
     "end_time": "2022-05-11T11:04:48.547117",
     "exception": false,
     "start_time": "2022-05-11T11:04:48.454461",
     "status": "completed"
    },
    "tags": []
   },
   "source": [
    "### split to train and validation"
   ]
  },
  {
   "cell_type": "code",
   "execution_count": 11,
   "id": "32cdb543",
   "metadata": {
    "execution": {
     "iopub.execute_input": "2022-05-11T11:04:48.734477Z",
     "iopub.status.busy": "2022-05-11T11:04:48.734029Z",
     "iopub.status.idle": "2022-05-11T11:04:49.837832Z",
     "shell.execute_reply": "2022-05-11T11:04:49.836882Z"
    },
    "papermill": {
     "duration": 1.20053,
     "end_time": "2022-05-11T11:04:49.840287",
     "exception": false,
     "start_time": "2022-05-11T11:04:48.639757",
     "status": "completed"
    },
    "tags": []
   },
   "outputs": [],
   "source": [
    "from sklearn.model_selection import train_test_split\n",
    "train_df, val_df = train_test_split(df, test_size=0.2 )"
   ]
  },
  {
   "cell_type": "code",
   "execution_count": 12,
   "id": "f916e74b",
   "metadata": {
    "execution": {
     "iopub.execute_input": "2022-05-11T11:04:50.029699Z",
     "iopub.status.busy": "2022-05-11T11:04:50.029165Z",
     "iopub.status.idle": "2022-05-11T11:04:50.045146Z",
     "shell.execute_reply": "2022-05-11T11:04:50.044363Z"
    },
    "papermill": {
     "duration": 0.112189,
     "end_time": "2022-05-11T11:04:50.047312",
     "exception": false,
     "start_time": "2022-05-11T11:04:49.935123",
     "status": "completed"
    },
    "tags": []
   },
   "outputs": [],
   "source": [
    "train_df = train_df.dropna()\n",
    "val_df = val_df.dropna()"
   ]
  },
  {
   "cell_type": "code",
   "execution_count": 13,
   "id": "7dd77e51",
   "metadata": {
    "execution": {
     "iopub.execute_input": "2022-05-11T11:04:50.238217Z",
     "iopub.status.busy": "2022-05-11T11:04:50.237626Z",
     "iopub.status.idle": "2022-05-11T11:04:50.241599Z",
     "shell.execute_reply": "2022-05-11T11:04:50.240751Z"
    },
    "papermill": {
     "duration": 0.102731,
     "end_time": "2022-05-11T11:04:50.243451",
     "exception": false,
     "start_time": "2022-05-11T11:04:50.140720",
     "status": "completed"
    },
    "tags": []
   },
   "outputs": [],
   "source": [
    "X_cols = ['pickup_longitude',\n",
    "            'pickup_latitude',\n",
    "            'dropoff_longitude',\n",
    "            'dropoff_latitude',\n",
    "            'passenger_count']\n",
    "y_col = 'fare_amount'"
   ]
  },
  {
   "cell_type": "code",
   "execution_count": 14,
   "id": "586e2e3a",
   "metadata": {
    "execution": {
     "iopub.execute_input": "2022-05-11T11:04:50.434126Z",
     "iopub.status.busy": "2022-05-11T11:04:50.433609Z",
     "iopub.status.idle": "2022-05-11T11:04:50.439425Z",
     "shell.execute_reply": "2022-05-11T11:04:50.438750Z"
    },
    "papermill": {
     "duration": 0.103214,
     "end_time": "2022-05-11T11:04:50.441486",
     "exception": false,
     "start_time": "2022-05-11T11:04:50.338272",
     "status": "completed"
    },
    "tags": []
   },
   "outputs": [],
   "source": [
    "X_train = train_df[X_cols]\n",
    "y_train = train_df[y_col]"
   ]
  },
  {
   "cell_type": "code",
   "execution_count": 15,
   "id": "4d8276ed",
   "metadata": {
    "execution": {
     "iopub.execute_input": "2022-05-11T11:04:50.630508Z",
     "iopub.status.busy": "2022-05-11T11:04:50.629962Z",
     "iopub.status.idle": "2022-05-11T11:04:50.640636Z",
     "shell.execute_reply": "2022-05-11T11:04:50.640075Z"
    },
    "papermill": {
     "duration": 0.106849,
     "end_time": "2022-05-11T11:04:50.642671",
     "exception": false,
     "start_time": "2022-05-11T11:04:50.535822",
     "status": "completed"
    },
    "tags": []
   },
   "outputs": [
    {
     "data": {
      "text/html": [
       "<div>\n",
       "<style scoped>\n",
       "    .dataframe tbody tr th:only-of-type {\n",
       "        vertical-align: middle;\n",
       "    }\n",
       "\n",
       "    .dataframe tbody tr th {\n",
       "        vertical-align: top;\n",
       "    }\n",
       "\n",
       "    .dataframe thead th {\n",
       "        text-align: right;\n",
       "    }\n",
       "</style>\n",
       "<table border=\"1\" class=\"dataframe\">\n",
       "  <thead>\n",
       "    <tr style=\"text-align: right;\">\n",
       "      <th></th>\n",
       "      <th>pickup_longitude</th>\n",
       "      <th>pickup_latitude</th>\n",
       "      <th>dropoff_longitude</th>\n",
       "      <th>dropoff_latitude</th>\n",
       "      <th>passenger_count</th>\n",
       "    </tr>\n",
       "  </thead>\n",
       "  <tbody>\n",
       "    <tr>\n",
       "      <th>2744</th>\n",
       "      <td>-73.998276</td>\n",
       "      <td>40.740547</td>\n",
       "      <td>-74.005135</td>\n",
       "      <td>40.729626</td>\n",
       "      <td>6</td>\n",
       "    </tr>\n",
       "    <tr>\n",
       "      <th>1191</th>\n",
       "      <td>-73.976089</td>\n",
       "      <td>40.791340</td>\n",
       "      <td>-73.981438</td>\n",
       "      <td>40.745686</td>\n",
       "      <td>1</td>\n",
       "    </tr>\n",
       "    <tr>\n",
       "      <th>81441</th>\n",
       "      <td>-73.984581</td>\n",
       "      <td>40.764889</td>\n",
       "      <td>-73.993797</td>\n",
       "      <td>40.737000</td>\n",
       "      <td>1</td>\n",
       "    </tr>\n",
       "    <tr>\n",
       "      <th>14533</th>\n",
       "      <td>-73.996765</td>\n",
       "      <td>40.737579</td>\n",
       "      <td>-73.993752</td>\n",
       "      <td>40.751804</td>\n",
       "      <td>1</td>\n",
       "    </tr>\n",
       "    <tr>\n",
       "      <th>33793</th>\n",
       "      <td>-73.997864</td>\n",
       "      <td>40.737675</td>\n",
       "      <td>-73.913055</td>\n",
       "      <td>40.774235</td>\n",
       "      <td>1</td>\n",
       "    </tr>\n",
       "  </tbody>\n",
       "</table>\n",
       "</div>"
      ],
      "text/plain": [
       "       pickup_longitude  pickup_latitude  dropoff_longitude  dropoff_latitude  \\\n",
       "2744         -73.998276        40.740547         -74.005135         40.729626   \n",
       "1191         -73.976089        40.791340         -73.981438         40.745686   \n",
       "81441        -73.984581        40.764889         -73.993797         40.737000   \n",
       "14533        -73.996765        40.737579         -73.993752         40.751804   \n",
       "33793        -73.997864        40.737675         -73.913055         40.774235   \n",
       "\n",
       "       passenger_count  \n",
       "2744                 6  \n",
       "1191                 1  \n",
       "81441                1  \n",
       "14533                1  \n",
       "33793                1  "
      ]
     },
     "execution_count": 15,
     "metadata": {},
     "output_type": "execute_result"
    }
   ],
   "source": [
    "X_train.head()"
   ]
  },
  {
   "cell_type": "code",
   "execution_count": 16,
   "id": "c5dac811",
   "metadata": {
    "execution": {
     "iopub.execute_input": "2022-05-11T11:04:50.835994Z",
     "iopub.status.busy": "2022-05-11T11:04:50.835449Z",
     "iopub.status.idle": "2022-05-11T11:04:50.841892Z",
     "shell.execute_reply": "2022-05-11T11:04:50.841116Z"
    },
    "papermill": {
     "duration": 0.10594,
     "end_time": "2022-05-11T11:04:50.843831",
     "exception": false,
     "start_time": "2022-05-11T11:04:50.737891",
     "status": "completed"
    },
    "tags": []
   },
   "outputs": [
    {
     "data": {
      "text/plain": [
       "2744      5.5\n",
       "1191     17.0\n",
       "81441    16.5\n",
       "14533     6.5\n",
       "33793    23.5\n",
       "Name: fare_amount, dtype: float32"
      ]
     },
     "execution_count": 16,
     "metadata": {},
     "output_type": "execute_result"
    }
   ],
   "source": [
    "y_train.head()"
   ]
  },
  {
   "cell_type": "code",
   "execution_count": 17,
   "id": "df931a8f",
   "metadata": {
    "execution": {
     "iopub.execute_input": "2022-05-11T11:04:51.035448Z",
     "iopub.status.busy": "2022-05-11T11:04:51.035176Z",
     "iopub.status.idle": "2022-05-11T11:04:51.040637Z",
     "shell.execute_reply": "2022-05-11T11:04:51.039733Z"
    },
    "papermill": {
     "duration": 0.103928,
     "end_time": "2022-05-11T11:04:51.042516",
     "exception": false,
     "start_time": "2022-05-11T11:04:50.938588",
     "status": "completed"
    },
    "tags": []
   },
   "outputs": [],
   "source": [
    "X_val = val_df[X_cols]\n",
    "y_val = val_df[y_col]"
   ]
  },
  {
   "cell_type": "code",
   "execution_count": 18,
   "id": "f4b85825",
   "metadata": {
    "execution": {
     "iopub.execute_input": "2022-05-11T11:04:51.237281Z",
     "iopub.status.busy": "2022-05-11T11:04:51.236736Z",
     "iopub.status.idle": "2022-05-11T11:04:51.249218Z",
     "shell.execute_reply": "2022-05-11T11:04:51.248412Z"
    },
    "papermill": {
     "duration": 0.113397,
     "end_time": "2022-05-11T11:04:51.251308",
     "exception": false,
     "start_time": "2022-05-11T11:04:51.137911",
     "status": "completed"
    },
    "tags": []
   },
   "outputs": [
    {
     "data": {
      "text/html": [
       "<div>\n",
       "<style scoped>\n",
       "    .dataframe tbody tr th:only-of-type {\n",
       "        vertical-align: middle;\n",
       "    }\n",
       "\n",
       "    .dataframe tbody tr th {\n",
       "        vertical-align: top;\n",
       "    }\n",
       "\n",
       "    .dataframe thead th {\n",
       "        text-align: right;\n",
       "    }\n",
       "</style>\n",
       "<table border=\"1\" class=\"dataframe\">\n",
       "  <thead>\n",
       "    <tr style=\"text-align: right;\">\n",
       "      <th></th>\n",
       "      <th>pickup_longitude</th>\n",
       "      <th>pickup_latitude</th>\n",
       "      <th>dropoff_longitude</th>\n",
       "      <th>dropoff_latitude</th>\n",
       "      <th>passenger_count</th>\n",
       "    </tr>\n",
       "  </thead>\n",
       "  <tbody>\n",
       "    <tr>\n",
       "      <th>0</th>\n",
       "      <td>-73.973320</td>\n",
       "      <td>40.763805</td>\n",
       "      <td>-73.981430</td>\n",
       "      <td>40.743835</td>\n",
       "      <td>1</td>\n",
       "    </tr>\n",
       "    <tr>\n",
       "      <th>1</th>\n",
       "      <td>-73.986862</td>\n",
       "      <td>40.719383</td>\n",
       "      <td>-73.998886</td>\n",
       "      <td>40.739201</td>\n",
       "      <td>1</td>\n",
       "    </tr>\n",
       "    <tr>\n",
       "      <th>2</th>\n",
       "      <td>-73.982521</td>\n",
       "      <td>40.751259</td>\n",
       "      <td>-73.979652</td>\n",
       "      <td>40.746140</td>\n",
       "      <td>1</td>\n",
       "    </tr>\n",
       "    <tr>\n",
       "      <th>3</th>\n",
       "      <td>-73.981163</td>\n",
       "      <td>40.767807</td>\n",
       "      <td>-73.990448</td>\n",
       "      <td>40.751637</td>\n",
       "      <td>1</td>\n",
       "    </tr>\n",
       "    <tr>\n",
       "      <th>4</th>\n",
       "      <td>-73.966049</td>\n",
       "      <td>40.789776</td>\n",
       "      <td>-73.988564</td>\n",
       "      <td>40.744427</td>\n",
       "      <td>1</td>\n",
       "    </tr>\n",
       "  </tbody>\n",
       "</table>\n",
       "</div>"
      ],
      "text/plain": [
       "   pickup_longitude  pickup_latitude  dropoff_longitude  dropoff_latitude  \\\n",
       "0        -73.973320        40.763805         -73.981430         40.743835   \n",
       "1        -73.986862        40.719383         -73.998886         40.739201   \n",
       "2        -73.982521        40.751259         -73.979652         40.746140   \n",
       "3        -73.981163        40.767807         -73.990448         40.751637   \n",
       "4        -73.966049        40.789776         -73.988564         40.744427   \n",
       "\n",
       "   passenger_count  \n",
       "0                1  \n",
       "1                1  \n",
       "2                1  \n",
       "3                1  \n",
       "4                1  "
      ]
     },
     "execution_count": 18,
     "metadata": {},
     "output_type": "execute_result"
    }
   ],
   "source": [
    "test_df = test_df[X_cols]\n",
    "test_df.head()"
   ]
  },
  {
   "cell_type": "code",
   "execution_count": null,
   "id": "bebfd45b",
   "metadata": {
    "papermill": {
     "duration": 0.094264,
     "end_time": "2022-05-11T11:04:51.440015",
     "exception": false,
     "start_time": "2022-05-11T11:04:51.345751",
     "status": "completed"
    },
    "tags": []
   },
   "outputs": [],
   "source": []
  },
  {
   "cell_type": "markdown",
   "id": "f2dc1e01",
   "metadata": {
    "papermill": {
     "duration": 0.093963,
     "end_time": "2022-05-11T11:04:51.628438",
     "exception": false,
     "start_time": "2022-05-11T11:04:51.534475",
     "status": "completed"
    },
    "tags": []
   },
   "source": [
    "Train Hardcoded and baseline models"
   ]
  },
  {
   "cell_type": "code",
   "execution_count": 19,
   "id": "e70efb73",
   "metadata": {
    "execution": {
     "iopub.execute_input": "2022-05-11T11:04:51.819979Z",
     "iopub.status.busy": "2022-05-11T11:04:51.819397Z",
     "iopub.status.idle": "2022-05-11T11:04:51.825047Z",
     "shell.execute_reply": "2022-05-11T11:04:51.824189Z"
    },
    "papermill": {
     "duration": 0.1032,
     "end_time": "2022-05-11T11:04:51.827083",
     "exception": false,
     "start_time": "2022-05-11T11:04:51.723883",
     "status": "completed"
    },
    "tags": []
   },
   "outputs": [],
   "source": [
    "class MeanRegressor:\n",
    "    def fit(self, inputs, targets):\n",
    "        self.mean = targets.mean()\n",
    "        \n",
    "    def predict(self, inputs):\n",
    "        return np.full(inputs.shape[0], self.mean)"
   ]
  },
  {
   "cell_type": "code",
   "execution_count": 20,
   "id": "a7365d59",
   "metadata": {
    "execution": {
     "iopub.execute_input": "2022-05-11T11:04:52.042929Z",
     "iopub.status.busy": "2022-05-11T11:04:52.042154Z",
     "iopub.status.idle": "2022-05-11T11:04:52.046364Z",
     "shell.execute_reply": "2022-05-11T11:04:52.045812Z"
    },
    "papermill": {
     "duration": 0.103308,
     "end_time": "2022-05-11T11:04:52.048307",
     "exception": false,
     "start_time": "2022-05-11T11:04:51.944999",
     "status": "completed"
    },
    "tags": []
   },
   "outputs": [],
   "source": [
    "mean_model = MeanRegressor()"
   ]
  },
  {
   "cell_type": "code",
   "execution_count": 21,
   "id": "349e9f01",
   "metadata": {
    "execution": {
     "iopub.execute_input": "2022-05-11T11:04:52.241660Z",
     "iopub.status.busy": "2022-05-11T11:04:52.241321Z",
     "iopub.status.idle": "2022-05-11T11:04:52.248303Z",
     "shell.execute_reply": "2022-05-11T11:04:52.247420Z"
    },
    "papermill": {
     "duration": 0.107094,
     "end_time": "2022-05-11T11:04:52.250184",
     "exception": false,
     "start_time": "2022-05-11T11:04:52.143090",
     "status": "completed"
    },
    "tags": []
   },
   "outputs": [
    {
     "data": {
      "text/plain": [
       "11.354449"
      ]
     },
     "execution_count": 21,
     "metadata": {},
     "output_type": "execute_result"
    }
   ],
   "source": [
    "mean_model.fit(X_train, y_train)\n",
    "mean_model.mean"
   ]
  },
  {
   "cell_type": "code",
   "execution_count": 22,
   "id": "ecdc9aa5",
   "metadata": {
    "execution": {
     "iopub.execute_input": "2022-05-11T11:04:52.441251Z",
     "iopub.status.busy": "2022-05-11T11:04:52.440807Z",
     "iopub.status.idle": "2022-05-11T11:04:52.445360Z",
     "shell.execute_reply": "2022-05-11T11:04:52.444593Z"
    },
    "papermill": {
     "duration": 0.102614,
     "end_time": "2022-05-11T11:04:52.447509",
     "exception": false,
     "start_time": "2022-05-11T11:04:52.344895",
     "status": "completed"
    },
    "tags": []
   },
   "outputs": [],
   "source": [
    "train_pred = mean_model.predict(X_train)"
   ]
  },
  {
   "cell_type": "code",
   "execution_count": 23,
   "id": "32070930",
   "metadata": {
    "execution": {
     "iopub.execute_input": "2022-05-11T11:04:52.638546Z",
     "iopub.status.busy": "2022-05-11T11:04:52.638273Z",
     "iopub.status.idle": "2022-05-11T11:04:52.642187Z",
     "shell.execute_reply": "2022-05-11T11:04:52.641350Z"
    },
    "papermill": {
     "duration": 0.101966,
     "end_time": "2022-05-11T11:04:52.644212",
     "exception": false,
     "start_time": "2022-05-11T11:04:52.542246",
     "status": "completed"
    },
    "tags": []
   },
   "outputs": [],
   "source": [
    "val_pred = mean_model.predict(X_val)"
   ]
  },
  {
   "cell_type": "code",
   "execution_count": 24,
   "id": "8a3d3658",
   "metadata": {
    "execution": {
     "iopub.execute_input": "2022-05-11T11:04:52.837623Z",
     "iopub.status.busy": "2022-05-11T11:04:52.836695Z",
     "iopub.status.idle": "2022-05-11T11:04:52.841310Z",
     "shell.execute_reply": "2022-05-11T11:04:52.840469Z"
    },
    "papermill": {
     "duration": 0.102951,
     "end_time": "2022-05-11T11:04:52.843229",
     "exception": false,
     "start_time": "2022-05-11T11:04:52.740278",
     "status": "completed"
    },
    "tags": []
   },
   "outputs": [],
   "source": [
    "from sklearn.metrics import mean_squared_error"
   ]
  },
  {
   "cell_type": "code",
   "execution_count": 25,
   "id": "291e83a6",
   "metadata": {
    "execution": {
     "iopub.execute_input": "2022-05-11T11:04:53.038459Z",
     "iopub.status.busy": "2022-05-11T11:04:53.038159Z",
     "iopub.status.idle": "2022-05-11T11:04:53.042199Z",
     "shell.execute_reply": "2022-05-11T11:04:53.041522Z"
    },
    "papermill": {
     "duration": 0.103609,
     "end_time": "2022-05-11T11:04:53.043976",
     "exception": false,
     "start_time": "2022-05-11T11:04:52.940367",
     "status": "completed"
    },
    "tags": []
   },
   "outputs": [],
   "source": [
    "def rmse(targets, preds):\n",
    "    #get root mean squared error\n",
    "    return mean_squared_error(targets, preds, squared=False)"
   ]
  },
  {
   "cell_type": "code",
   "execution_count": 26,
   "id": "6092be61",
   "metadata": {
    "execution": {
     "iopub.execute_input": "2022-05-11T11:04:53.237730Z",
     "iopub.status.busy": "2022-05-11T11:04:53.237194Z",
     "iopub.status.idle": "2022-05-11T11:04:53.244633Z",
     "shell.execute_reply": "2022-05-11T11:04:53.243787Z"
    },
    "papermill": {
     "duration": 0.106589,
     "end_time": "2022-05-11T11:04:53.246419",
     "exception": false,
     "start_time": "2022-05-11T11:04:53.139830",
     "status": "completed"
    },
    "tags": []
   },
   "outputs": [
    {
     "data": {
      "text/plain": [
       "9.749306"
      ]
     },
     "execution_count": 26,
     "metadata": {},
     "output_type": "execute_result"
    }
   ],
   "source": [
    "train_rmse = rmse(y_train, train_pred)\n",
    "train_rmse"
   ]
  },
  {
   "cell_type": "code",
   "execution_count": 27,
   "id": "344baddb",
   "metadata": {
    "execution": {
     "iopub.execute_input": "2022-05-11T11:04:53.440472Z",
     "iopub.status.busy": "2022-05-11T11:04:53.439751Z",
     "iopub.status.idle": "2022-05-11T11:04:53.448096Z",
     "shell.execute_reply": "2022-05-11T11:04:53.447161Z"
    },
    "papermill": {
     "duration": 0.107743,
     "end_time": "2022-05-11T11:04:53.450093",
     "exception": false,
     "start_time": "2022-05-11T11:04:53.342350",
     "status": "completed"
    },
    "tags": []
   },
   "outputs": [
    {
     "data": {
      "text/plain": [
       "9.585312"
      ]
     },
     "execution_count": 27,
     "metadata": {},
     "output_type": "execute_result"
    }
   ],
   "source": [
    "val_rmse = rmse(y_val, val_pred)\n",
    "val_rmse"
   ]
  },
  {
   "cell_type": "markdown",
   "id": "bdfcd1a9",
   "metadata": {
    "papermill": {
     "duration": 0.097735,
     "end_time": "2022-05-11T11:04:53.646008",
     "exception": false,
     "start_time": "2022-05-11T11:04:53.548273",
     "status": "completed"
    },
    "tags": []
   },
   "source": [
    "## train and evaluate baseline model"
   ]
  },
  {
   "cell_type": "code",
   "execution_count": 28,
   "id": "895c15e2",
   "metadata": {
    "execution": {
     "iopub.execute_input": "2022-05-11T11:04:53.840361Z",
     "iopub.status.busy": "2022-05-11T11:04:53.839715Z",
     "iopub.status.idle": "2022-05-11T11:04:53.970651Z",
     "shell.execute_reply": "2022-05-11T11:04:53.969516Z"
    },
    "papermill": {
     "duration": 0.23176,
     "end_time": "2022-05-11T11:04:53.974255",
     "exception": false,
     "start_time": "2022-05-11T11:04:53.742495",
     "status": "completed"
    },
    "tags": []
   },
   "outputs": [],
   "source": [
    "from sklearn.linear_model import LinearRegression\n",
    "\n",
    "reg = LinearRegression()\n",
    "reg.fit(X_train, y_train)\n",
    "train_pred = reg.predict(X_train)\n",
    "val_pred = reg.predict(X_val)"
   ]
  },
  {
   "cell_type": "code",
   "execution_count": 29,
   "id": "7276476c",
   "metadata": {
    "execution": {
     "iopub.execute_input": "2022-05-11T11:04:54.221457Z",
     "iopub.status.busy": "2022-05-11T11:04:54.221185Z",
     "iopub.status.idle": "2022-05-11T11:04:54.228916Z",
     "shell.execute_reply": "2022-05-11T11:04:54.227932Z"
    },
    "papermill": {
     "duration": 0.107866,
     "end_time": "2022-05-11T11:04:54.230856",
     "exception": false,
     "start_time": "2022-05-11T11:04:54.122990",
     "status": "completed"
    },
    "tags": []
   },
   "outputs": [
    {
     "data": {
      "text/plain": [
       "9.747409"
      ]
     },
     "execution_count": 29,
     "metadata": {},
     "output_type": "execute_result"
    }
   ],
   "source": [
    "train_rmse = rmse(y_train, train_pred)\n",
    "train_rmse"
   ]
  },
  {
   "cell_type": "code",
   "execution_count": 30,
   "id": "c0ae1203",
   "metadata": {
    "execution": {
     "iopub.execute_input": "2022-05-11T11:04:54.429722Z",
     "iopub.status.busy": "2022-05-11T11:04:54.429170Z",
     "iopub.status.idle": "2022-05-11T11:04:54.436526Z",
     "shell.execute_reply": "2022-05-11T11:04:54.435639Z"
    },
    "papermill": {
     "duration": 0.11045,
     "end_time": "2022-05-11T11:04:54.438643",
     "exception": false,
     "start_time": "2022-05-11T11:04:54.328193",
     "status": "completed"
    },
    "tags": []
   },
   "outputs": [
    {
     "data": {
      "text/plain": [
       "9.583403"
      ]
     },
     "execution_count": 30,
     "metadata": {},
     "output_type": "execute_result"
    }
   ],
   "source": [
    "val_rmse = rmse(y_val, val_pred)\n",
    "val_rmse"
   ]
  },
  {
   "cell_type": "code",
   "execution_count": 31,
   "id": "af5b0a4d",
   "metadata": {
    "execution": {
     "iopub.execute_input": "2022-05-11T11:04:54.633469Z",
     "iopub.status.busy": "2022-05-11T11:04:54.633208Z",
     "iopub.status.idle": "2022-05-11T11:04:54.687190Z",
     "shell.execute_reply": "2022-05-11T11:04:54.686343Z"
    },
    "papermill": {
     "duration": 0.154669,
     "end_time": "2022-05-11T11:04:54.690380",
     "exception": false,
     "start_time": "2022-05-11T11:04:54.535711",
     "status": "completed"
    },
    "tags": []
   },
   "outputs": [
    {
     "data": {
      "text/html": [
       "<div>\n",
       "<style scoped>\n",
       "    .dataframe tbody tr th:only-of-type {\n",
       "        vertical-align: middle;\n",
       "    }\n",
       "\n",
       "    .dataframe tbody tr th {\n",
       "        vertical-align: top;\n",
       "    }\n",
       "\n",
       "    .dataframe thead th {\n",
       "        text-align: right;\n",
       "    }\n",
       "</style>\n",
       "<table border=\"1\" class=\"dataframe\">\n",
       "  <thead>\n",
       "    <tr style=\"text-align: right;\">\n",
       "      <th></th>\n",
       "      <th>key</th>\n",
       "      <th>fare_amount</th>\n",
       "    </tr>\n",
       "  </thead>\n",
       "  <tbody>\n",
       "    <tr>\n",
       "      <th>0</th>\n",
       "      <td>2015-01-27 13:08:24.0000002</td>\n",
       "      <td>11.35</td>\n",
       "    </tr>\n",
       "    <tr>\n",
       "      <th>1</th>\n",
       "      <td>2015-01-27 13:08:24.0000003</td>\n",
       "      <td>11.35</td>\n",
       "    </tr>\n",
       "    <tr>\n",
       "      <th>2</th>\n",
       "      <td>2011-10-08 11:53:44.0000002</td>\n",
       "      <td>11.35</td>\n",
       "    </tr>\n",
       "    <tr>\n",
       "      <th>3</th>\n",
       "      <td>2012-12-01 21:12:12.0000002</td>\n",
       "      <td>11.35</td>\n",
       "    </tr>\n",
       "    <tr>\n",
       "      <th>4</th>\n",
       "      <td>2012-12-01 21:12:12.0000003</td>\n",
       "      <td>11.35</td>\n",
       "    </tr>\n",
       "    <tr>\n",
       "      <th>...</th>\n",
       "      <td>...</td>\n",
       "      <td>...</td>\n",
       "    </tr>\n",
       "    <tr>\n",
       "      <th>9909</th>\n",
       "      <td>2015-05-10 12:37:51.0000002</td>\n",
       "      <td>11.35</td>\n",
       "    </tr>\n",
       "    <tr>\n",
       "      <th>9910</th>\n",
       "      <td>2015-01-12 17:05:51.0000001</td>\n",
       "      <td>11.35</td>\n",
       "    </tr>\n",
       "    <tr>\n",
       "      <th>9911</th>\n",
       "      <td>2015-04-19 20:44:15.0000001</td>\n",
       "      <td>11.35</td>\n",
       "    </tr>\n",
       "    <tr>\n",
       "      <th>9912</th>\n",
       "      <td>2015-01-31 01:05:19.0000005</td>\n",
       "      <td>11.35</td>\n",
       "    </tr>\n",
       "    <tr>\n",
       "      <th>9913</th>\n",
       "      <td>2015-01-18 14:06:23.0000006</td>\n",
       "      <td>11.35</td>\n",
       "    </tr>\n",
       "  </tbody>\n",
       "</table>\n",
       "<p>9914 rows × 2 columns</p>\n",
       "</div>"
      ],
      "text/plain": [
       "                              key  fare_amount\n",
       "0     2015-01-27 13:08:24.0000002        11.35\n",
       "1     2015-01-27 13:08:24.0000003        11.35\n",
       "2     2011-10-08 11:53:44.0000002        11.35\n",
       "3     2012-12-01 21:12:12.0000002        11.35\n",
       "4     2012-12-01 21:12:12.0000003        11.35\n",
       "...                           ...          ...\n",
       "9909  2015-05-10 12:37:51.0000002        11.35\n",
       "9910  2015-01-12 17:05:51.0000001        11.35\n",
       "9911  2015-04-19 20:44:15.0000001        11.35\n",
       "9912  2015-01-31 01:05:19.0000005        11.35\n",
       "9913  2015-01-18 14:06:23.0000006        11.35\n",
       "\n",
       "[9914 rows x 2 columns]"
      ]
     },
     "execution_count": 31,
     "metadata": {},
     "output_type": "execute_result"
    }
   ],
   "source": [
    "# to submit \n",
    "test_pred = reg.predict(test_df)\n",
    "sub_df = pd.read_csv('/kaggle/input/new-york-city-taxi-fare-prediction/sample_submission.csv')\n",
    "sub_df"
   ]
  },
  {
   "cell_type": "code",
   "execution_count": 32,
   "id": "8557af74",
   "metadata": {
    "execution": {
     "iopub.execute_input": "2022-05-11T11:04:54.917750Z",
     "iopub.status.busy": "2022-05-11T11:04:54.917433Z",
     "iopub.status.idle": "2022-05-11T11:04:54.930412Z",
     "shell.execute_reply": "2022-05-11T11:04:54.929433Z"
    },
    "papermill": {
     "duration": 0.114131,
     "end_time": "2022-05-11T11:04:54.932470",
     "exception": false,
     "start_time": "2022-05-11T11:04:54.818339",
     "status": "completed"
    },
    "tags": []
   },
   "outputs": [
    {
     "data": {
      "text/html": [
       "<div>\n",
       "<style scoped>\n",
       "    .dataframe tbody tr th:only-of-type {\n",
       "        vertical-align: middle;\n",
       "    }\n",
       "\n",
       "    .dataframe tbody tr th {\n",
       "        vertical-align: top;\n",
       "    }\n",
       "\n",
       "    .dataframe thead th {\n",
       "        text-align: right;\n",
       "    }\n",
       "</style>\n",
       "<table border=\"1\" class=\"dataframe\">\n",
       "  <thead>\n",
       "    <tr style=\"text-align: right;\">\n",
       "      <th></th>\n",
       "      <th>key</th>\n",
       "      <th>fare_amount</th>\n",
       "    </tr>\n",
       "  </thead>\n",
       "  <tbody>\n",
       "    <tr>\n",
       "      <th>0</th>\n",
       "      <td>2015-01-27 13:08:24.0000002</td>\n",
       "      <td>11.257696</td>\n",
       "    </tr>\n",
       "    <tr>\n",
       "      <th>1</th>\n",
       "      <td>2015-01-27 13:08:24.0000003</td>\n",
       "      <td>11.259074</td>\n",
       "    </tr>\n",
       "    <tr>\n",
       "      <th>2</th>\n",
       "      <td>2011-10-08 11:53:44.0000002</td>\n",
       "      <td>11.258145</td>\n",
       "    </tr>\n",
       "    <tr>\n",
       "      <th>3</th>\n",
       "      <td>2012-12-01 21:12:12.0000002</td>\n",
       "      <td>11.257758</td>\n",
       "    </tr>\n",
       "    <tr>\n",
       "      <th>4</th>\n",
       "      <td>2012-12-01 21:12:12.0000003</td>\n",
       "      <td>11.256870</td>\n",
       "    </tr>\n",
       "    <tr>\n",
       "      <th>...</th>\n",
       "      <td>...</td>\n",
       "      <td>...</td>\n",
       "    </tr>\n",
       "    <tr>\n",
       "      <th>9909</th>\n",
       "      <td>2015-05-10 12:37:51.0000002</td>\n",
       "      <td>11.902442</td>\n",
       "    </tr>\n",
       "    <tr>\n",
       "      <th>9910</th>\n",
       "      <td>2015-01-12 17:05:51.0000001</td>\n",
       "      <td>11.902212</td>\n",
       "    </tr>\n",
       "    <tr>\n",
       "      <th>9911</th>\n",
       "      <td>2015-04-19 20:44:15.0000001</td>\n",
       "      <td>11.900764</td>\n",
       "    </tr>\n",
       "    <tr>\n",
       "      <th>9912</th>\n",
       "      <td>2015-01-31 01:05:19.0000005</td>\n",
       "      <td>11.905018</td>\n",
       "    </tr>\n",
       "    <tr>\n",
       "      <th>9913</th>\n",
       "      <td>2015-01-18 14:06:23.0000006</td>\n",
       "      <td>11.903355</td>\n",
       "    </tr>\n",
       "  </tbody>\n",
       "</table>\n",
       "<p>9914 rows × 2 columns</p>\n",
       "</div>"
      ],
      "text/plain": [
       "                              key  fare_amount\n",
       "0     2015-01-27 13:08:24.0000002    11.257696\n",
       "1     2015-01-27 13:08:24.0000003    11.259074\n",
       "2     2011-10-08 11:53:44.0000002    11.258145\n",
       "3     2012-12-01 21:12:12.0000002    11.257758\n",
       "4     2012-12-01 21:12:12.0000003    11.256870\n",
       "...                           ...          ...\n",
       "9909  2015-05-10 12:37:51.0000002    11.902442\n",
       "9910  2015-01-12 17:05:51.0000001    11.902212\n",
       "9911  2015-04-19 20:44:15.0000001    11.900764\n",
       "9912  2015-01-31 01:05:19.0000005    11.905018\n",
       "9913  2015-01-18 14:06:23.0000006    11.903355\n",
       "\n",
       "[9914 rows x 2 columns]"
      ]
     },
     "execution_count": 32,
     "metadata": {},
     "output_type": "execute_result"
    }
   ],
   "source": [
    "sub_df['fare_amount'] = test_pred\n",
    "sub_df"
   ]
  },
  {
   "cell_type": "code",
   "execution_count": 33,
   "id": "04fd8503",
   "metadata": {
    "execution": {
     "iopub.execute_input": "2022-05-11T11:04:55.135049Z",
     "iopub.status.busy": "2022-05-11T11:04:55.134537Z",
     "iopub.status.idle": "2022-05-11T11:04:55.175950Z",
     "shell.execute_reply": "2022-05-11T11:04:55.174920Z"
    },
    "papermill": {
     "duration": 0.146082,
     "end_time": "2022-05-11T11:04:55.178276",
     "exception": false,
     "start_time": "2022-05-11T11:04:55.032194",
     "status": "completed"
    },
    "tags": []
   },
   "outputs": [],
   "source": [
    "sub_df.to_csv('linearReg.csv', index=None)"
   ]
  },
  {
   "cell_type": "code",
   "execution_count": null,
   "id": "be9f6516",
   "metadata": {
    "papermill": {
     "duration": 0.097768,
     "end_time": "2022-05-11T11:04:55.375477",
     "exception": false,
     "start_time": "2022-05-11T11:04:55.277709",
     "status": "completed"
    },
    "tags": []
   },
   "outputs": [],
   "source": []
  },
  {
   "cell_type": "markdown",
   "id": "f24e5949",
   "metadata": {
    "papermill": {
     "duration": 0.097296,
     "end_time": "2022-05-11T11:04:55.570468",
     "exception": false,
     "start_time": "2022-05-11T11:04:55.473172",
     "status": "completed"
    },
    "tags": []
   },
   "source": [
    "## Reusable functions"
   ]
  },
  {
   "cell_type": "code",
   "execution_count": 34,
   "id": "cd15554b",
   "metadata": {
    "execution": {
     "iopub.execute_input": "2022-05-11T11:04:55.767077Z",
     "iopub.status.busy": "2022-05-11T11:04:55.766574Z",
     "iopub.status.idle": "2022-05-11T11:04:55.771038Z",
     "shell.execute_reply": "2022-05-11T11:04:55.770490Z"
    },
    "papermill": {
     "duration": 0.105297,
     "end_time": "2022-05-11T11:04:55.773007",
     "exception": false,
     "start_time": "2022-05-11T11:04:55.667710",
     "status": "completed"
    },
    "tags": []
   },
   "outputs": [],
   "source": [
    "def predict_and_submit(model, test_imputs, fname):  \n",
    "    # to submit \n",
    "    test_pred = model.predict(test_imputs)\n",
    "    sub_df = pd.read_csv('/kaggle/input/new-york-city-taxi-fare-prediction/sample_submission.csv')\n",
    "    sub_df['fare_amount'] = test_pred\n",
    "    sub_df.to_csv(fname, index=None)\n",
    "    return sub_df"
   ]
  },
  {
   "cell_type": "markdown",
   "id": "0d4136f7",
   "metadata": {
    "papermill": {
     "duration": 0.097612,
     "end_time": "2022-05-11T11:04:55.971008",
     "exception": false,
     "start_time": "2022-05-11T11:04:55.873396",
     "status": "completed"
    },
    "tags": []
   },
   "source": [
    "##  Feature Engineering"
   ]
  },
  {
   "cell_type": "code",
   "execution_count": 35,
   "id": "a65a4880",
   "metadata": {
    "execution": {
     "iopub.execute_input": "2022-05-11T11:04:56.189472Z",
     "iopub.status.busy": "2022-05-11T11:04:56.188965Z",
     "iopub.status.idle": "2022-05-11T11:04:56.194286Z",
     "shell.execute_reply": "2022-05-11T11:04:56.193649Z"
    },
    "papermill": {
     "duration": 0.124906,
     "end_time": "2022-05-11T11:04:56.196500",
     "exception": false,
     "start_time": "2022-05-11T11:04:56.071594",
     "status": "completed"
    },
    "tags": []
   },
   "outputs": [],
   "source": [
    "def add_dateparts(df, col):\n",
    "    df[col +\"_year\"] = df[col].dt.year\n",
    "    df[col + \"_month\"] = df[col].dt.month\n",
    "    df[col +\"_day\"] = df[col].dt.day\n",
    "    df[col + \"_weekday\"] = df[col].dt.weekday\n",
    "    df[col+\"_hour\"] = df[col].dt.hour"
   ]
  },
  {
   "cell_type": "code",
   "execution_count": 36,
   "id": "61787108",
   "metadata": {
    "execution": {
     "iopub.execute_input": "2022-05-11T11:04:56.398018Z",
     "iopub.status.busy": "2022-05-11T11:04:56.397448Z",
     "iopub.status.idle": "2022-05-11T11:04:56.465363Z",
     "shell.execute_reply": "2022-05-11T11:04:56.464621Z"
    },
    "papermill": {
     "duration": 0.170258,
     "end_time": "2022-05-11T11:04:56.467656",
     "exception": false,
     "start_time": "2022-05-11T11:04:56.297398",
     "status": "completed"
    },
    "tags": []
   },
   "outputs": [],
   "source": [
    "col = 'pickup_datetime'\n",
    "add_dateparts(df, col)"
   ]
  },
  {
   "cell_type": "code",
   "execution_count": 37,
   "id": "4a1f4e4f",
   "metadata": {
    "execution": {
     "iopub.execute_input": "2022-05-11T11:04:56.667593Z",
     "iopub.status.busy": "2022-05-11T11:04:56.667267Z",
     "iopub.status.idle": "2022-05-11T11:04:56.684175Z",
     "shell.execute_reply": "2022-05-11T11:04:56.683622Z"
    },
    "papermill": {
     "duration": 0.119352,
     "end_time": "2022-05-11T11:04:56.686270",
     "exception": false,
     "start_time": "2022-05-11T11:04:56.566918",
     "status": "completed"
    },
    "tags": []
   },
   "outputs": [
    {
     "data": {
      "text/html": [
       "<div>\n",
       "<style scoped>\n",
       "    .dataframe tbody tr th:only-of-type {\n",
       "        vertical-align: middle;\n",
       "    }\n",
       "\n",
       "    .dataframe tbody tr th {\n",
       "        vertical-align: top;\n",
       "    }\n",
       "\n",
       "    .dataframe thead th {\n",
       "        text-align: right;\n",
       "    }\n",
       "</style>\n",
       "<table border=\"1\" class=\"dataframe\">\n",
       "  <thead>\n",
       "    <tr style=\"text-align: right;\">\n",
       "      <th></th>\n",
       "      <th>fare_amount</th>\n",
       "      <th>pickup_datetime</th>\n",
       "      <th>pickup_longitude</th>\n",
       "      <th>pickup_latitude</th>\n",
       "      <th>dropoff_longitude</th>\n",
       "      <th>dropoff_latitude</th>\n",
       "      <th>passenger_count</th>\n",
       "      <th>pickup_datetime_year</th>\n",
       "      <th>pickup_datetime_month</th>\n",
       "      <th>pickup_datetime_day</th>\n",
       "      <th>pickup_datetime_weekday</th>\n",
       "      <th>pickup_datetime_hour</th>\n",
       "    </tr>\n",
       "  </thead>\n",
       "  <tbody>\n",
       "    <tr>\n",
       "      <th>0</th>\n",
       "      <td>4.5</td>\n",
       "      <td>2009-06-15 17:26:21+00:00</td>\n",
       "      <td>-73.844315</td>\n",
       "      <td>40.721317</td>\n",
       "      <td>-73.841614</td>\n",
       "      <td>40.712276</td>\n",
       "      <td>1</td>\n",
       "      <td>2009</td>\n",
       "      <td>6</td>\n",
       "      <td>15</td>\n",
       "      <td>0</td>\n",
       "      <td>17</td>\n",
       "    </tr>\n",
       "    <tr>\n",
       "      <th>1</th>\n",
       "      <td>16.9</td>\n",
       "      <td>2010-01-05 16:52:16+00:00</td>\n",
       "      <td>-74.016045</td>\n",
       "      <td>40.711304</td>\n",
       "      <td>-73.979271</td>\n",
       "      <td>40.782005</td>\n",
       "      <td>1</td>\n",
       "      <td>2010</td>\n",
       "      <td>1</td>\n",
       "      <td>5</td>\n",
       "      <td>1</td>\n",
       "      <td>16</td>\n",
       "    </tr>\n",
       "    <tr>\n",
       "      <th>2</th>\n",
       "      <td>5.7</td>\n",
       "      <td>2011-08-18 00:35:00+00:00</td>\n",
       "      <td>-73.982735</td>\n",
       "      <td>40.761269</td>\n",
       "      <td>-73.991241</td>\n",
       "      <td>40.750561</td>\n",
       "      <td>2</td>\n",
       "      <td>2011</td>\n",
       "      <td>8</td>\n",
       "      <td>18</td>\n",
       "      <td>3</td>\n",
       "      <td>0</td>\n",
       "    </tr>\n",
       "    <tr>\n",
       "      <th>3</th>\n",
       "      <td>7.7</td>\n",
       "      <td>2012-04-21 04:30:42+00:00</td>\n",
       "      <td>-73.987129</td>\n",
       "      <td>40.733143</td>\n",
       "      <td>-73.991570</td>\n",
       "      <td>40.758091</td>\n",
       "      <td>1</td>\n",
       "      <td>2012</td>\n",
       "      <td>4</td>\n",
       "      <td>21</td>\n",
       "      <td>5</td>\n",
       "      <td>4</td>\n",
       "    </tr>\n",
       "    <tr>\n",
       "      <th>4</th>\n",
       "      <td>5.3</td>\n",
       "      <td>2010-03-09 07:51:00+00:00</td>\n",
       "      <td>-73.968094</td>\n",
       "      <td>40.768009</td>\n",
       "      <td>-73.956657</td>\n",
       "      <td>40.783764</td>\n",
       "      <td>1</td>\n",
       "      <td>2010</td>\n",
       "      <td>3</td>\n",
       "      <td>9</td>\n",
       "      <td>1</td>\n",
       "      <td>7</td>\n",
       "    </tr>\n",
       "  </tbody>\n",
       "</table>\n",
       "</div>"
      ],
      "text/plain": [
       "   fare_amount           pickup_datetime  pickup_longitude  pickup_latitude  \\\n",
       "0          4.5 2009-06-15 17:26:21+00:00        -73.844315        40.721317   \n",
       "1         16.9 2010-01-05 16:52:16+00:00        -74.016045        40.711304   \n",
       "2          5.7 2011-08-18 00:35:00+00:00        -73.982735        40.761269   \n",
       "3          7.7 2012-04-21 04:30:42+00:00        -73.987129        40.733143   \n",
       "4          5.3 2010-03-09 07:51:00+00:00        -73.968094        40.768009   \n",
       "\n",
       "   dropoff_longitude  dropoff_latitude  passenger_count  pickup_datetime_year  \\\n",
       "0         -73.841614         40.712276                1                  2009   \n",
       "1         -73.979271         40.782005                1                  2010   \n",
       "2         -73.991241         40.750561                2                  2011   \n",
       "3         -73.991570         40.758091                1                  2012   \n",
       "4         -73.956657         40.783764                1                  2010   \n",
       "\n",
       "   pickup_datetime_month  pickup_datetime_day  pickup_datetime_weekday  \\\n",
       "0                      6                   15                        0   \n",
       "1                      1                    5                        1   \n",
       "2                      8                   18                        3   \n",
       "3                      4                   21                        5   \n",
       "4                      3                    9                        1   \n",
       "\n",
       "   pickup_datetime_hour  \n",
       "0                    17  \n",
       "1                    16  \n",
       "2                     0  \n",
       "3                     4  \n",
       "4                     7  "
      ]
     },
     "execution_count": 37,
     "metadata": {},
     "output_type": "execute_result"
    }
   ],
   "source": [
    "df.head()"
   ]
  },
  {
   "cell_type": "code",
   "execution_count": 38,
   "id": "8c6bc0f7",
   "metadata": {
    "execution": {
     "iopub.execute_input": "2022-05-11T11:04:56.892541Z",
     "iopub.status.busy": "2022-05-11T11:04:56.891621Z",
     "iopub.status.idle": "2022-05-11T11:04:57.219094Z",
     "shell.execute_reply": "2022-05-11T11:04:57.218224Z"
    },
    "papermill": {
     "duration": 0.432493,
     "end_time": "2022-05-11T11:04:57.221658",
     "exception": false,
     "start_time": "2022-05-11T11:04:56.789165",
     "status": "completed"
    },
    "tags": []
   },
   "outputs": [],
   "source": [
    "test_df = pd.read_csv('/kaggle/input/new-york-city-taxi-fare-prediction/test.csv', \n",
    "                           dtype=dtypes,\n",
    "                           parse_dates=['pickup_datetime'])"
   ]
  },
  {
   "cell_type": "code",
   "execution_count": 39,
   "id": "5ca234f1",
   "metadata": {
    "execution": {
     "iopub.execute_input": "2022-05-11T11:04:57.423339Z",
     "iopub.status.busy": "2022-05-11T11:04:57.423087Z",
     "iopub.status.idle": "2022-05-11T11:04:57.447544Z",
     "shell.execute_reply": "2022-05-11T11:04:57.446743Z"
    },
    "papermill": {
     "duration": 0.126397,
     "end_time": "2022-05-11T11:04:57.449602",
     "exception": false,
     "start_time": "2022-05-11T11:04:57.323205",
     "status": "completed"
    },
    "tags": []
   },
   "outputs": [
    {
     "data": {
      "text/html": [
       "<div>\n",
       "<style scoped>\n",
       "    .dataframe tbody tr th:only-of-type {\n",
       "        vertical-align: middle;\n",
       "    }\n",
       "\n",
       "    .dataframe tbody tr th {\n",
       "        vertical-align: top;\n",
       "    }\n",
       "\n",
       "    .dataframe thead th {\n",
       "        text-align: right;\n",
       "    }\n",
       "</style>\n",
       "<table border=\"1\" class=\"dataframe\">\n",
       "  <thead>\n",
       "    <tr style=\"text-align: right;\">\n",
       "      <th></th>\n",
       "      <th>key</th>\n",
       "      <th>pickup_datetime</th>\n",
       "      <th>pickup_longitude</th>\n",
       "      <th>pickup_latitude</th>\n",
       "      <th>dropoff_longitude</th>\n",
       "      <th>dropoff_latitude</th>\n",
       "      <th>passenger_count</th>\n",
       "      <th>pickup_datetime_year</th>\n",
       "      <th>pickup_datetime_month</th>\n",
       "      <th>pickup_datetime_day</th>\n",
       "      <th>pickup_datetime_weekday</th>\n",
       "      <th>pickup_datetime_hour</th>\n",
       "    </tr>\n",
       "  </thead>\n",
       "  <tbody>\n",
       "    <tr>\n",
       "      <th>0</th>\n",
       "      <td>2015-01-27 13:08:24.0000002</td>\n",
       "      <td>2015-01-27 13:08:24+00:00</td>\n",
       "      <td>-73.973320</td>\n",
       "      <td>40.763805</td>\n",
       "      <td>-73.981430</td>\n",
       "      <td>40.743835</td>\n",
       "      <td>1</td>\n",
       "      <td>2015</td>\n",
       "      <td>1</td>\n",
       "      <td>27</td>\n",
       "      <td>1</td>\n",
       "      <td>13</td>\n",
       "    </tr>\n",
       "    <tr>\n",
       "      <th>1</th>\n",
       "      <td>2015-01-27 13:08:24.0000003</td>\n",
       "      <td>2015-01-27 13:08:24+00:00</td>\n",
       "      <td>-73.986862</td>\n",
       "      <td>40.719383</td>\n",
       "      <td>-73.998886</td>\n",
       "      <td>40.739201</td>\n",
       "      <td>1</td>\n",
       "      <td>2015</td>\n",
       "      <td>1</td>\n",
       "      <td>27</td>\n",
       "      <td>1</td>\n",
       "      <td>13</td>\n",
       "    </tr>\n",
       "    <tr>\n",
       "      <th>2</th>\n",
       "      <td>2011-10-08 11:53:44.0000002</td>\n",
       "      <td>2011-10-08 11:53:44+00:00</td>\n",
       "      <td>-73.982521</td>\n",
       "      <td>40.751259</td>\n",
       "      <td>-73.979652</td>\n",
       "      <td>40.746140</td>\n",
       "      <td>1</td>\n",
       "      <td>2011</td>\n",
       "      <td>10</td>\n",
       "      <td>8</td>\n",
       "      <td>5</td>\n",
       "      <td>11</td>\n",
       "    </tr>\n",
       "    <tr>\n",
       "      <th>3</th>\n",
       "      <td>2012-12-01 21:12:12.0000002</td>\n",
       "      <td>2012-12-01 21:12:12+00:00</td>\n",
       "      <td>-73.981163</td>\n",
       "      <td>40.767807</td>\n",
       "      <td>-73.990448</td>\n",
       "      <td>40.751637</td>\n",
       "      <td>1</td>\n",
       "      <td>2012</td>\n",
       "      <td>12</td>\n",
       "      <td>1</td>\n",
       "      <td>5</td>\n",
       "      <td>21</td>\n",
       "    </tr>\n",
       "    <tr>\n",
       "      <th>4</th>\n",
       "      <td>2012-12-01 21:12:12.0000003</td>\n",
       "      <td>2012-12-01 21:12:12+00:00</td>\n",
       "      <td>-73.966049</td>\n",
       "      <td>40.789776</td>\n",
       "      <td>-73.988564</td>\n",
       "      <td>40.744427</td>\n",
       "      <td>1</td>\n",
       "      <td>2012</td>\n",
       "      <td>12</td>\n",
       "      <td>1</td>\n",
       "      <td>5</td>\n",
       "      <td>21</td>\n",
       "    </tr>\n",
       "  </tbody>\n",
       "</table>\n",
       "</div>"
      ],
      "text/plain": [
       "                           key           pickup_datetime  pickup_longitude  \\\n",
       "0  2015-01-27 13:08:24.0000002 2015-01-27 13:08:24+00:00        -73.973320   \n",
       "1  2015-01-27 13:08:24.0000003 2015-01-27 13:08:24+00:00        -73.986862   \n",
       "2  2011-10-08 11:53:44.0000002 2011-10-08 11:53:44+00:00        -73.982521   \n",
       "3  2012-12-01 21:12:12.0000002 2012-12-01 21:12:12+00:00        -73.981163   \n",
       "4  2012-12-01 21:12:12.0000003 2012-12-01 21:12:12+00:00        -73.966049   \n",
       "\n",
       "   pickup_latitude  dropoff_longitude  dropoff_latitude  passenger_count  \\\n",
       "0        40.763805         -73.981430         40.743835                1   \n",
       "1        40.719383         -73.998886         40.739201                1   \n",
       "2        40.751259         -73.979652         40.746140                1   \n",
       "3        40.767807         -73.990448         40.751637                1   \n",
       "4        40.789776         -73.988564         40.744427                1   \n",
       "\n",
       "   pickup_datetime_year  pickup_datetime_month  pickup_datetime_day  \\\n",
       "0                  2015                      1                   27   \n",
       "1                  2015                      1                   27   \n",
       "2                  2011                     10                    8   \n",
       "3                  2012                     12                    1   \n",
       "4                  2012                     12                    1   \n",
       "\n",
       "   pickup_datetime_weekday  pickup_datetime_hour  \n",
       "0                        1                    13  \n",
       "1                        1                    13  \n",
       "2                        5                    11  \n",
       "3                        5                    21  \n",
       "4                        5                    21  "
      ]
     },
     "execution_count": 39,
     "metadata": {},
     "output_type": "execute_result"
    }
   ],
   "source": [
    "add_dateparts(test_df, col)\n",
    "test_df.head()"
   ]
  },
  {
   "cell_type": "code",
   "execution_count": 40,
   "id": "0e95f39d",
   "metadata": {
    "execution": {
     "iopub.execute_input": "2022-05-11T11:04:57.648923Z",
     "iopub.status.busy": "2022-05-11T11:04:57.648312Z",
     "iopub.status.idle": "2022-05-11T11:04:57.654413Z",
     "shell.execute_reply": "2022-05-11T11:04:57.653834Z"
    },
    "papermill": {
     "duration": 0.108337,
     "end_time": "2022-05-11T11:04:57.656385",
     "exception": false,
     "start_time": "2022-05-11T11:04:57.548048",
     "status": "completed"
    },
    "tags": []
   },
   "outputs": [],
   "source": [
    "test_df.drop(columns ='key', inplace=True)"
   ]
  },
  {
   "cell_type": "markdown",
   "id": "371d66ba",
   "metadata": {
    "papermill": {
     "duration": 0.102912,
     "end_time": "2022-05-11T11:04:57.858337",
     "exception": false,
     "start_time": "2022-05-11T11:04:57.755425",
     "status": "completed"
    },
    "tags": []
   },
   "source": [
    "## Add distance between pickup and dropoff location"
   ]
  },
  {
   "cell_type": "markdown",
   "id": "8980b80a",
   "metadata": {
    "papermill": {
     "duration": 0.098345,
     "end_time": "2022-05-11T11:04:58.057557",
     "exception": false,
     "start_time": "2022-05-11T11:04:57.959212",
     "status": "completed"
    },
    "tags": []
   },
   "source": [
    "#### use haversine formuala"
   ]
  },
  {
   "cell_type": "code",
   "execution_count": 41,
   "id": "f55a1ea1",
   "metadata": {
    "execution": {
     "iopub.execute_input": "2022-05-11T11:04:58.261185Z",
     "iopub.status.busy": "2022-05-11T11:04:58.260680Z",
     "iopub.status.idle": "2022-05-11T11:04:58.267702Z",
     "shell.execute_reply": "2022-05-11T11:04:58.267066Z"
    },
    "papermill": {
     "duration": 0.109572,
     "end_time": "2022-05-11T11:04:58.269717",
     "exception": false,
     "start_time": "2022-05-11T11:04:58.160145",
     "status": "completed"
    },
    "tags": []
   },
   "outputs": [],
   "source": [
    "def haversine(lon1, lat1, lon2, lat2):\n",
    "    \"\"\"\n",
    "    calculate the great circle distance between two points\n",
    "    on the earth (in decimal degrees)\n",
    "    \n",
    "    all args must be of equal length \n",
    "    works on a list\n",
    "    \"\"\"\n",
    "    lon1, lat1, lon2, lat2 = map(np.radians, [lon1, lat1, lon2, lat2])\n",
    "    dlon = lon2 - lon1 \n",
    "    dlat = lat2 - lat1 \n",
    "    a = np.sin(dlat/2)**2 + np.cos(lat1) * np.cos(lat2) * np.sin(dlon/2)**2\n",
    "    c = 2 * np.arcsin(np.sqrt(a)) \n",
    "    km = 6367 * c\n",
    "    return km"
   ]
  },
  {
   "cell_type": "code",
   "execution_count": 42,
   "id": "f85dbc5f",
   "metadata": {
    "execution": {
     "iopub.execute_input": "2022-05-11T11:04:58.468373Z",
     "iopub.status.busy": "2022-05-11T11:04:58.467942Z",
     "iopub.status.idle": "2022-05-11T11:04:58.481589Z",
     "shell.execute_reply": "2022-05-11T11:04:58.480960Z"
    },
    "papermill": {
     "duration": 0.115426,
     "end_time": "2022-05-11T11:04:58.483697",
     "exception": false,
     "start_time": "2022-05-11T11:04:58.368271",
     "status": "completed"
    },
    "tags": []
   },
   "outputs": [],
   "source": [
    "lon1 = df['pickup_longitude']\n",
    "lat1 = df['pickup_latitude']\n",
    "lon2 = df['dropoff_longitude']\n",
    "lat2 = df['dropoff_latitude']\n",
    "\n",
    "df['trip_distance'] = haversine(lon1, lat1, lon2, lat2)"
   ]
  },
  {
   "cell_type": "code",
   "execution_count": 43,
   "id": "d13a0b58",
   "metadata": {
    "execution": {
     "iopub.execute_input": "2022-05-11T11:04:58.684724Z",
     "iopub.status.busy": "2022-05-11T11:04:58.684267Z",
     "iopub.status.idle": "2022-05-11T11:04:58.704285Z",
     "shell.execute_reply": "2022-05-11T11:04:58.703474Z"
    },
    "papermill": {
     "duration": 0.122964,
     "end_time": "2022-05-11T11:04:58.706260",
     "exception": false,
     "start_time": "2022-05-11T11:04:58.583296",
     "status": "completed"
    },
    "tags": []
   },
   "outputs": [
    {
     "data": {
      "text/html": [
       "<div>\n",
       "<style scoped>\n",
       "    .dataframe tbody tr th:only-of-type {\n",
       "        vertical-align: middle;\n",
       "    }\n",
       "\n",
       "    .dataframe tbody tr th {\n",
       "        vertical-align: top;\n",
       "    }\n",
       "\n",
       "    .dataframe thead th {\n",
       "        text-align: right;\n",
       "    }\n",
       "</style>\n",
       "<table border=\"1\" class=\"dataframe\">\n",
       "  <thead>\n",
       "    <tr style=\"text-align: right;\">\n",
       "      <th></th>\n",
       "      <th>pickup_datetime</th>\n",
       "      <th>pickup_longitude</th>\n",
       "      <th>pickup_latitude</th>\n",
       "      <th>dropoff_longitude</th>\n",
       "      <th>dropoff_latitude</th>\n",
       "      <th>passenger_count</th>\n",
       "      <th>pickup_datetime_year</th>\n",
       "      <th>pickup_datetime_month</th>\n",
       "      <th>pickup_datetime_day</th>\n",
       "      <th>pickup_datetime_weekday</th>\n",
       "      <th>pickup_datetime_hour</th>\n",
       "      <th>trip_distance</th>\n",
       "    </tr>\n",
       "  </thead>\n",
       "  <tbody>\n",
       "    <tr>\n",
       "      <th>0</th>\n",
       "      <td>2015-01-27 13:08:24+00:00</td>\n",
       "      <td>-73.973320</td>\n",
       "      <td>40.763805</td>\n",
       "      <td>-73.981430</td>\n",
       "      <td>40.743835</td>\n",
       "      <td>1</td>\n",
       "      <td>2015</td>\n",
       "      <td>1</td>\n",
       "      <td>27</td>\n",
       "      <td>1</td>\n",
       "      <td>13</td>\n",
       "      <td>2.321899</td>\n",
       "    </tr>\n",
       "    <tr>\n",
       "      <th>1</th>\n",
       "      <td>2015-01-27 13:08:24+00:00</td>\n",
       "      <td>-73.986862</td>\n",
       "      <td>40.719383</td>\n",
       "      <td>-73.998886</td>\n",
       "      <td>40.739201</td>\n",
       "      <td>1</td>\n",
       "      <td>2015</td>\n",
       "      <td>1</td>\n",
       "      <td>27</td>\n",
       "      <td>1</td>\n",
       "      <td>13</td>\n",
       "      <td>2.423777</td>\n",
       "    </tr>\n",
       "    <tr>\n",
       "      <th>2</th>\n",
       "      <td>2011-10-08 11:53:44+00:00</td>\n",
       "      <td>-73.982521</td>\n",
       "      <td>40.751259</td>\n",
       "      <td>-73.979652</td>\n",
       "      <td>40.746140</td>\n",
       "      <td>1</td>\n",
       "      <td>2011</td>\n",
       "      <td>10</td>\n",
       "      <td>8</td>\n",
       "      <td>5</td>\n",
       "      <td>11</td>\n",
       "      <td>0.618015</td>\n",
       "    </tr>\n",
       "    <tr>\n",
       "      <th>3</th>\n",
       "      <td>2012-12-01 21:12:12+00:00</td>\n",
       "      <td>-73.981163</td>\n",
       "      <td>40.767807</td>\n",
       "      <td>-73.990448</td>\n",
       "      <td>40.751637</td>\n",
       "      <td>1</td>\n",
       "      <td>2012</td>\n",
       "      <td>12</td>\n",
       "      <td>1</td>\n",
       "      <td>5</td>\n",
       "      <td>21</td>\n",
       "      <td>1.959681</td>\n",
       "    </tr>\n",
       "    <tr>\n",
       "      <th>4</th>\n",
       "      <td>2012-12-01 21:12:12+00:00</td>\n",
       "      <td>-73.966049</td>\n",
       "      <td>40.789776</td>\n",
       "      <td>-73.988564</td>\n",
       "      <td>40.744427</td>\n",
       "      <td>1</td>\n",
       "      <td>2012</td>\n",
       "      <td>12</td>\n",
       "      <td>1</td>\n",
       "      <td>5</td>\n",
       "      <td>21</td>\n",
       "      <td>5.383829</td>\n",
       "    </tr>\n",
       "  </tbody>\n",
       "</table>\n",
       "</div>"
      ],
      "text/plain": [
       "            pickup_datetime  pickup_longitude  pickup_latitude  \\\n",
       "0 2015-01-27 13:08:24+00:00        -73.973320        40.763805   \n",
       "1 2015-01-27 13:08:24+00:00        -73.986862        40.719383   \n",
       "2 2011-10-08 11:53:44+00:00        -73.982521        40.751259   \n",
       "3 2012-12-01 21:12:12+00:00        -73.981163        40.767807   \n",
       "4 2012-12-01 21:12:12+00:00        -73.966049        40.789776   \n",
       "\n",
       "   dropoff_longitude  dropoff_latitude  passenger_count  pickup_datetime_year  \\\n",
       "0         -73.981430         40.743835                1                  2015   \n",
       "1         -73.998886         40.739201                1                  2015   \n",
       "2         -73.979652         40.746140                1                  2011   \n",
       "3         -73.990448         40.751637                1                  2012   \n",
       "4         -73.988564         40.744427                1                  2012   \n",
       "\n",
       "   pickup_datetime_month  pickup_datetime_day  pickup_datetime_weekday  \\\n",
       "0                      1                   27                        1   \n",
       "1                      1                   27                        1   \n",
       "2                     10                    8                        5   \n",
       "3                     12                    1                        5   \n",
       "4                     12                    1                        5   \n",
       "\n",
       "   pickup_datetime_hour  trip_distance  \n",
       "0                    13       2.321899  \n",
       "1                    13       2.423777  \n",
       "2                    11       0.618015  \n",
       "3                    21       1.959681  \n",
       "4                    21       5.383829  "
      ]
     },
     "execution_count": 43,
     "metadata": {},
     "output_type": "execute_result"
    }
   ],
   "source": [
    "lon1 = test_df['pickup_longitude']\n",
    "lat1 = test_df['pickup_latitude']\n",
    "lon2 = test_df['dropoff_longitude']\n",
    "lat2 = test_df['dropoff_latitude']\n",
    "\n",
    "test_df['trip_distance'] = haversine(lon1, lat1, lon2, lat2)\n",
    "test_df.head()"
   ]
  },
  {
   "cell_type": "code",
   "execution_count": 44,
   "id": "40ff98bd",
   "metadata": {
    "execution": {
     "iopub.execute_input": "2022-05-11T11:04:58.906110Z",
     "iopub.status.busy": "2022-05-11T11:04:58.905698Z",
     "iopub.status.idle": "2022-05-11T11:04:58.936269Z",
     "shell.execute_reply": "2022-05-11T11:04:58.935442Z"
    },
    "papermill": {
     "duration": 0.133431,
     "end_time": "2022-05-11T11:04:58.938654",
     "exception": false,
     "start_time": "2022-05-11T11:04:58.805223",
     "status": "completed"
    },
    "tags": []
   },
   "outputs": [],
   "source": [
    "train_df, val_df = train_test_split(df, test_size=0.2 )"
   ]
  },
  {
   "cell_type": "code",
   "execution_count": 45,
   "id": "6d021259",
   "metadata": {
    "execution": {
     "iopub.execute_input": "2022-05-11T11:04:59.139523Z",
     "iopub.status.busy": "2022-05-11T11:04:59.138691Z",
     "iopub.status.idle": "2022-05-11T11:04:59.154114Z",
     "shell.execute_reply": "2022-05-11T11:04:59.153590Z"
    },
    "papermill": {
     "duration": 0.11783,
     "end_time": "2022-05-11T11:04:59.155831",
     "exception": false,
     "start_time": "2022-05-11T11:04:59.038001",
     "status": "completed"
    },
    "tags": []
   },
   "outputs": [
    {
     "data": {
      "text/html": [
       "<div>\n",
       "<style scoped>\n",
       "    .dataframe tbody tr th:only-of-type {\n",
       "        vertical-align: middle;\n",
       "    }\n",
       "\n",
       "    .dataframe tbody tr th {\n",
       "        vertical-align: top;\n",
       "    }\n",
       "\n",
       "    .dataframe thead th {\n",
       "        text-align: right;\n",
       "    }\n",
       "</style>\n",
       "<table border=\"1\" class=\"dataframe\">\n",
       "  <thead>\n",
       "    <tr style=\"text-align: right;\">\n",
       "      <th></th>\n",
       "      <th>fare_amount</th>\n",
       "      <th>pickup_datetime</th>\n",
       "      <th>pickup_longitude</th>\n",
       "      <th>pickup_latitude</th>\n",
       "      <th>dropoff_longitude</th>\n",
       "      <th>dropoff_latitude</th>\n",
       "      <th>passenger_count</th>\n",
       "      <th>pickup_datetime_year</th>\n",
       "      <th>pickup_datetime_month</th>\n",
       "      <th>pickup_datetime_day</th>\n",
       "      <th>pickup_datetime_weekday</th>\n",
       "      <th>pickup_datetime_hour</th>\n",
       "      <th>trip_distance</th>\n",
       "    </tr>\n",
       "  </thead>\n",
       "  <tbody>\n",
       "    <tr>\n",
       "      <th>22816</th>\n",
       "      <td>7.1</td>\n",
       "      <td>2009-02-20 16:25:59+00:00</td>\n",
       "      <td>-73.972496</td>\n",
       "      <td>40.746262</td>\n",
       "      <td>-73.985474</td>\n",
       "      <td>40.734310</td>\n",
       "      <td>1</td>\n",
       "      <td>2009</td>\n",
       "      <td>2</td>\n",
       "      <td>20</td>\n",
       "      <td>4</td>\n",
       "      <td>16</td>\n",
       "      <td>1.719931</td>\n",
       "    </tr>\n",
       "    <tr>\n",
       "      <th>93140</th>\n",
       "      <td>8.1</td>\n",
       "      <td>2010-03-19 09:35:32+00:00</td>\n",
       "      <td>-73.986176</td>\n",
       "      <td>40.728127</td>\n",
       "      <td>-73.997292</td>\n",
       "      <td>40.746616</td>\n",
       "      <td>1</td>\n",
       "      <td>2010</td>\n",
       "      <td>3</td>\n",
       "      <td>19</td>\n",
       "      <td>4</td>\n",
       "      <td>9</td>\n",
       "      <td>2.257897</td>\n",
       "    </tr>\n",
       "    <tr>\n",
       "      <th>71262</th>\n",
       "      <td>8.1</td>\n",
       "      <td>2011-10-05 23:49:40+00:00</td>\n",
       "      <td>-73.994095</td>\n",
       "      <td>40.731213</td>\n",
       "      <td>-73.986954</td>\n",
       "      <td>40.754559</td>\n",
       "      <td>2</td>\n",
       "      <td>2011</td>\n",
       "      <td>10</td>\n",
       "      <td>5</td>\n",
       "      <td>2</td>\n",
       "      <td>23</td>\n",
       "      <td>2.663101</td>\n",
       "    </tr>\n",
       "    <tr>\n",
       "      <th>71736</th>\n",
       "      <td>5.0</td>\n",
       "      <td>2015-06-02 10:55:08+00:00</td>\n",
       "      <td>-73.975151</td>\n",
       "      <td>40.758755</td>\n",
       "      <td>-73.980240</td>\n",
       "      <td>40.752522</td>\n",
       "      <td>1</td>\n",
       "      <td>2015</td>\n",
       "      <td>6</td>\n",
       "      <td>2</td>\n",
       "      <td>1</td>\n",
       "      <td>10</td>\n",
       "      <td>0.814344</td>\n",
       "    </tr>\n",
       "  </tbody>\n",
       "</table>\n",
       "</div>"
      ],
      "text/plain": [
       "       fare_amount           pickup_datetime  pickup_longitude  \\\n",
       "22816          7.1 2009-02-20 16:25:59+00:00        -73.972496   \n",
       "93140          8.1 2010-03-19 09:35:32+00:00        -73.986176   \n",
       "71262          8.1 2011-10-05 23:49:40+00:00        -73.994095   \n",
       "71736          5.0 2015-06-02 10:55:08+00:00        -73.975151   \n",
       "\n",
       "       pickup_latitude  dropoff_longitude  dropoff_latitude  passenger_count  \\\n",
       "22816        40.746262         -73.985474         40.734310                1   \n",
       "93140        40.728127         -73.997292         40.746616                1   \n",
       "71262        40.731213         -73.986954         40.754559                2   \n",
       "71736        40.758755         -73.980240         40.752522                1   \n",
       "\n",
       "       pickup_datetime_year  pickup_datetime_month  pickup_datetime_day  \\\n",
       "22816                  2009                      2                   20   \n",
       "93140                  2010                      3                   19   \n",
       "71262                  2011                     10                    5   \n",
       "71736                  2015                      6                    2   \n",
       "\n",
       "       pickup_datetime_weekday  pickup_datetime_hour  trip_distance  \n",
       "22816                        4                    16       1.719931  \n",
       "93140                        4                     9       2.257897  \n",
       "71262                        2                    23       2.663101  \n",
       "71736                        1                    10       0.814344  "
      ]
     },
     "execution_count": 45,
     "metadata": {},
     "output_type": "execute_result"
    }
   ],
   "source": [
    "train_df.head(4)"
   ]
  },
  {
   "cell_type": "markdown",
   "id": "cd837b9d",
   "metadata": {
    "papermill": {
     "duration": 0.100359,
     "end_time": "2022-05-11T11:04:59.356890",
     "exception": false,
     "start_time": "2022-05-11T11:04:59.256531",
     "status": "completed"
    },
    "tags": []
   },
   "source": [
    "## add distance from popular landmarks\n",
    "#### add distance from drop location to\n",
    "1- JFK, LAG, EWR airports\n",
    "2- Times Square\n",
    "3- Met Museum\n",
    "4- World Trade Center\n"
   ]
  },
  {
   "cell_type": "code",
   "execution_count": 46,
   "id": "58c0f4d8",
   "metadata": {
    "execution": {
     "iopub.execute_input": "2022-05-11T11:04:59.558141Z",
     "iopub.status.busy": "2022-05-11T11:04:59.557632Z",
     "iopub.status.idle": "2022-05-11T11:04:59.561896Z",
     "shell.execute_reply": "2022-05-11T11:04:59.561149Z"
    },
    "papermill": {
     "duration": 0.106914,
     "end_time": "2022-05-11T11:04:59.563813",
     "exception": false,
     "start_time": "2022-05-11T11:04:59.456899",
     "status": "completed"
    },
    "tags": []
   },
   "outputs": [],
   "source": [
    "jfk_lonlat = -73.7781, 40.6413\n",
    "lga_lonlat = -73.8740, 40.7769\n",
    "ewr_lonlat = -74.1745, 40.6895\n",
    "met_lonlat = -73.9632, 40.7794\n",
    "wtc_lonlat = -74.0099, 40.7126"
   ]
  },
  {
   "cell_type": "code",
   "execution_count": 47,
   "id": "3b631299",
   "metadata": {
    "execution": {
     "iopub.execute_input": "2022-05-11T11:04:59.765438Z",
     "iopub.status.busy": "2022-05-11T11:04:59.764904Z",
     "iopub.status.idle": "2022-05-11T11:04:59.768995Z",
     "shell.execute_reply": "2022-05-11T11:04:59.768459Z"
    },
    "papermill": {
     "duration": 0.10696,
     "end_time": "2022-05-11T11:04:59.770851",
     "exception": false,
     "start_time": "2022-05-11T11:04:59.663891",
     "status": "completed"
    },
    "tags": []
   },
   "outputs": [],
   "source": [
    "def add_landmark_dropoff_distance(df, landmark_name, landmark_lonlat):\n",
    "    lon, lat = landmark_lonlat\n",
    "    df[landmark_name + '_drop_distance'] = haversine(lon, lat, df['dropoff_longitude'], df['dropoff_latitude'])"
   ]
  },
  {
   "cell_type": "code",
   "execution_count": 48,
   "id": "56d57d61",
   "metadata": {
    "execution": {
     "iopub.execute_input": "2022-05-11T11:04:59.974079Z",
     "iopub.status.busy": "2022-05-11T11:04:59.973463Z",
     "iopub.status.idle": "2022-05-11T11:05:00.034615Z",
     "shell.execute_reply": "2022-05-11T11:05:00.033795Z"
    },
    "papermill": {
     "duration": 0.165117,
     "end_time": "2022-05-11T11:05:00.036861",
     "exception": false,
     "start_time": "2022-05-11T11:04:59.871744",
     "status": "completed"
    },
    "tags": []
   },
   "outputs": [],
   "source": [
    "for a_df in [train_df, val_df, test_df]:\n",
    "    for name, lonlat in [('jfk', jfk_lonlat), ('lga', lga_lonlat), ('ewr', ewr_lonlat), ('met', met_lonlat), ('wtc', wtc_lonlat)]:\n",
    "        add_landmark_dropoff_distance(a_df, name, lonlat)"
   ]
  },
  {
   "cell_type": "code",
   "execution_count": null,
   "id": "8b74067e",
   "metadata": {
    "papermill": {
     "duration": 0.101328,
     "end_time": "2022-05-11T11:05:00.238079",
     "exception": false,
     "start_time": "2022-05-11T11:05:00.136751",
     "status": "completed"
    },
    "tags": []
   },
   "outputs": [],
   "source": []
  },
  {
   "cell_type": "markdown",
   "id": "48d96069",
   "metadata": {
    "papermill": {
     "duration": 0.100692,
     "end_time": "2022-05-11T11:05:00.438691",
     "exception": false,
     "start_time": "2022-05-11T11:05:00.337999",
     "status": "completed"
    },
    "tags": []
   },
   "source": [
    "We'll use the following ranges:\n",
    "\n",
    "    fare_amount: 1to500\n",
    "    longitudes: -75 to -72\n",
    "    latitudes: 40 to 42\n",
    "    passenger_count: 1 to 6"
   ]
  },
  {
   "cell_type": "code",
   "execution_count": 49,
   "id": "1a2b0075",
   "metadata": {
    "execution": {
     "iopub.execute_input": "2022-05-11T11:05:00.640509Z",
     "iopub.status.busy": "2022-05-11T11:05:00.640247Z",
     "iopub.status.idle": "2022-05-11T11:05:00.730535Z",
     "shell.execute_reply": "2022-05-11T11:05:00.729629Z"
    },
    "papermill": {
     "duration": 0.193573,
     "end_time": "2022-05-11T11:05:00.732553",
     "exception": false,
     "start_time": "2022-05-11T11:05:00.538980",
     "status": "completed"
    },
    "tags": []
   },
   "outputs": [
    {
     "data": {
      "text/html": [
       "<div>\n",
       "<style scoped>\n",
       "    .dataframe tbody tr th:only-of-type {\n",
       "        vertical-align: middle;\n",
       "    }\n",
       "\n",
       "    .dataframe tbody tr th {\n",
       "        vertical-align: top;\n",
       "    }\n",
       "\n",
       "    .dataframe thead th {\n",
       "        text-align: right;\n",
       "    }\n",
       "</style>\n",
       "<table border=\"1\" class=\"dataframe\">\n",
       "  <thead>\n",
       "    <tr style=\"text-align: right;\">\n",
       "      <th></th>\n",
       "      <th>fare_amount</th>\n",
       "      <th>pickup_longitude</th>\n",
       "      <th>pickup_latitude</th>\n",
       "      <th>dropoff_longitude</th>\n",
       "      <th>dropoff_latitude</th>\n",
       "      <th>passenger_count</th>\n",
       "      <th>pickup_datetime_year</th>\n",
       "      <th>pickup_datetime_month</th>\n",
       "      <th>pickup_datetime_day</th>\n",
       "      <th>pickup_datetime_weekday</th>\n",
       "      <th>pickup_datetime_hour</th>\n",
       "      <th>trip_distance</th>\n",
       "    </tr>\n",
       "  </thead>\n",
       "  <tbody>\n",
       "    <tr>\n",
       "      <th>count</th>\n",
       "      <td>100000.000000</td>\n",
       "      <td>100000.000000</td>\n",
       "      <td>100000.000000</td>\n",
       "      <td>100000.000000</td>\n",
       "      <td>100000.000000</td>\n",
       "      <td>100000.000000</td>\n",
       "      <td>100000.00000</td>\n",
       "      <td>100000.000000</td>\n",
       "      <td>100000.000000</td>\n",
       "      <td>100000.000000</td>\n",
       "      <td>100000.000000</td>\n",
       "      <td>100000.000000</td>\n",
       "    </tr>\n",
       "    <tr>\n",
       "      <th>mean</th>\n",
       "      <td>11.354651</td>\n",
       "      <td>-72.494682</td>\n",
       "      <td>39.914482</td>\n",
       "      <td>-72.490959</td>\n",
       "      <td>39.919056</td>\n",
       "      <td>1.673820</td>\n",
       "      <td>2011.74389</td>\n",
       "      <td>6.261230</td>\n",
       "      <td>15.664270</td>\n",
       "      <td>3.036180</td>\n",
       "      <td>13.495110</td>\n",
       "      <td>18.580544</td>\n",
       "    </tr>\n",
       "    <tr>\n",
       "      <th>std</th>\n",
       "      <td>9.716777</td>\n",
       "      <td>10.693933</td>\n",
       "      <td>6.225686</td>\n",
       "      <td>10.471387</td>\n",
       "      <td>6.213427</td>\n",
       "      <td>1.300171</td>\n",
       "      <td>1.86602</td>\n",
       "      <td>3.450569</td>\n",
       "      <td>8.677631</td>\n",
       "      <td>1.949484</td>\n",
       "      <td>6.507434</td>\n",
       "      <td>356.537933</td>\n",
       "    </tr>\n",
       "    <tr>\n",
       "      <th>min</th>\n",
       "      <td>-44.900002</td>\n",
       "      <td>-736.549988</td>\n",
       "      <td>-74.007668</td>\n",
       "      <td>-84.654243</td>\n",
       "      <td>-74.006378</td>\n",
       "      <td>0.000000</td>\n",
       "      <td>2009.00000</td>\n",
       "      <td>1.000000</td>\n",
       "      <td>1.000000</td>\n",
       "      <td>0.000000</td>\n",
       "      <td>0.000000</td>\n",
       "      <td>0.000000</td>\n",
       "    </tr>\n",
       "    <tr>\n",
       "      <th>25%</th>\n",
       "      <td>6.000000</td>\n",
       "      <td>-73.992043</td>\n",
       "      <td>40.734997</td>\n",
       "      <td>-73.991219</td>\n",
       "      <td>40.734180</td>\n",
       "      <td>1.000000</td>\n",
       "      <td>2010.00000</td>\n",
       "      <td>3.000000</td>\n",
       "      <td>8.000000</td>\n",
       "      <td>1.000000</td>\n",
       "      <td>9.000000</td>\n",
       "      <td>1.213685</td>\n",
       "    </tr>\n",
       "    <tr>\n",
       "      <th>50%</th>\n",
       "      <td>8.500000</td>\n",
       "      <td>-73.981789</td>\n",
       "      <td>40.752766</td>\n",
       "      <td>-73.980003</td>\n",
       "      <td>40.753242</td>\n",
       "      <td>1.000000</td>\n",
       "      <td>2012.00000</td>\n",
       "      <td>6.000000</td>\n",
       "      <td>16.000000</td>\n",
       "      <td>3.000000</td>\n",
       "      <td>14.000000</td>\n",
       "      <td>2.117939</td>\n",
       "    </tr>\n",
       "    <tr>\n",
       "      <th>75%</th>\n",
       "      <td>12.500000</td>\n",
       "      <td>-73.966980</td>\n",
       "      <td>40.767258</td>\n",
       "      <td>-73.963432</td>\n",
       "      <td>40.768166</td>\n",
       "      <td>2.000000</td>\n",
       "      <td>2013.00000</td>\n",
       "      <td>9.000000</td>\n",
       "      <td>23.000000</td>\n",
       "      <td>5.000000</td>\n",
       "      <td>19.000000</td>\n",
       "      <td>3.885313</td>\n",
       "    </tr>\n",
       "    <tr>\n",
       "      <th>max</th>\n",
       "      <td>200.000000</td>\n",
       "      <td>40.787575</td>\n",
       "      <td>401.083344</td>\n",
       "      <td>40.851028</td>\n",
       "      <td>404.616669</td>\n",
       "      <td>6.000000</td>\n",
       "      <td>2015.00000</td>\n",
       "      <td>12.000000</td>\n",
       "      <td>31.000000</td>\n",
       "      <td>6.000000</td>\n",
       "      <td>23.000000</td>\n",
       "      <td>8669.175781</td>\n",
       "    </tr>\n",
       "  </tbody>\n",
       "</table>\n",
       "</div>"
      ],
      "text/plain": [
       "         fare_amount  pickup_longitude  pickup_latitude  dropoff_longitude  \\\n",
       "count  100000.000000     100000.000000    100000.000000      100000.000000   \n",
       "mean       11.354651        -72.494682        39.914482         -72.490959   \n",
       "std         9.716777         10.693933         6.225686          10.471387   \n",
       "min       -44.900002       -736.549988       -74.007668         -84.654243   \n",
       "25%         6.000000        -73.992043        40.734997         -73.991219   \n",
       "50%         8.500000        -73.981789        40.752766         -73.980003   \n",
       "75%        12.500000        -73.966980        40.767258         -73.963432   \n",
       "max       200.000000         40.787575       401.083344          40.851028   \n",
       "\n",
       "       dropoff_latitude  passenger_count  pickup_datetime_year  \\\n",
       "count     100000.000000    100000.000000          100000.00000   \n",
       "mean          39.919056         1.673820            2011.74389   \n",
       "std            6.213427         1.300171               1.86602   \n",
       "min          -74.006378         0.000000            2009.00000   \n",
       "25%           40.734180         1.000000            2010.00000   \n",
       "50%           40.753242         1.000000            2012.00000   \n",
       "75%           40.768166         2.000000            2013.00000   \n",
       "max          404.616669         6.000000            2015.00000   \n",
       "\n",
       "       pickup_datetime_month  pickup_datetime_day  pickup_datetime_weekday  \\\n",
       "count          100000.000000        100000.000000            100000.000000   \n",
       "mean                6.261230            15.664270                 3.036180   \n",
       "std                 3.450569             8.677631                 1.949484   \n",
       "min                 1.000000             1.000000                 0.000000   \n",
       "25%                 3.000000             8.000000                 1.000000   \n",
       "50%                 6.000000            16.000000                 3.000000   \n",
       "75%                 9.000000            23.000000                 5.000000   \n",
       "max                12.000000            31.000000                 6.000000   \n",
       "\n",
       "       pickup_datetime_hour  trip_distance  \n",
       "count         100000.000000  100000.000000  \n",
       "mean              13.495110      18.580544  \n",
       "std                6.507434     356.537933  \n",
       "min                0.000000       0.000000  \n",
       "25%                9.000000       1.213685  \n",
       "50%               14.000000       2.117939  \n",
       "75%               19.000000       3.885313  \n",
       "max               23.000000    8669.175781  "
      ]
     },
     "execution_count": 49,
     "metadata": {},
     "output_type": "execute_result"
    }
   ],
   "source": [
    "df.describe()"
   ]
  },
  {
   "cell_type": "code",
   "execution_count": 50,
   "id": "e86d8e4a",
   "metadata": {
    "execution": {
     "iopub.execute_input": "2022-05-11T11:05:00.937068Z",
     "iopub.status.busy": "2022-05-11T11:05:00.936797Z",
     "iopub.status.idle": "2022-05-11T11:05:00.943499Z",
     "shell.execute_reply": "2022-05-11T11:05:00.942556Z"
    },
    "papermill": {
     "duration": 0.111333,
     "end_time": "2022-05-11T11:05:00.945580",
     "exception": false,
     "start_time": "2022-05-11T11:05:00.834247",
     "status": "completed"
    },
    "tags": []
   },
   "outputs": [],
   "source": [
    "def remove_outliers(df):\n",
    "    return df[(df['fare_amount'] >= 1.) & \n",
    "              (df['fare_amount'] <= 500.) &\n",
    "              (df['pickup_longitude'] >= -75) & \n",
    "              (df['pickup_longitude'] <= -72) & \n",
    "              (df['dropoff_longitude'] >= -75) & \n",
    "              (df['dropoff_longitude'] <= -72) & \n",
    "              (df['pickup_latitude'] >= 40) & \n",
    "              (df['pickup_latitude'] <= 42) & \n",
    "              (df['dropoff_latitude'] >=40) & \n",
    "              (df['dropoff_latitude'] <= 42) & \n",
    "              (df['passenger_count'] >= 1) & \n",
    "              (df['passenger_count'] <= 6)]"
   ]
  },
  {
   "cell_type": "code",
   "execution_count": 51,
   "id": "8b566910",
   "metadata": {
    "execution": {
     "iopub.execute_input": "2022-05-11T11:05:01.149671Z",
     "iopub.status.busy": "2022-05-11T11:05:01.149339Z",
     "iopub.status.idle": "2022-05-11T11:05:01.165658Z",
     "shell.execute_reply": "2022-05-11T11:05:01.164943Z"
    },
    "papermill": {
     "duration": 0.12216,
     "end_time": "2022-05-11T11:05:01.167914",
     "exception": false,
     "start_time": "2022-05-11T11:05:01.045754",
     "status": "completed"
    },
    "tags": []
   },
   "outputs": [],
   "source": [
    "train_df = remove_outliers(train_df)"
   ]
  },
  {
   "cell_type": "code",
   "execution_count": 52,
   "id": "1302df80",
   "metadata": {
    "execution": {
     "iopub.execute_input": "2022-05-11T11:05:01.372536Z",
     "iopub.status.busy": "2022-05-11T11:05:01.372227Z",
     "iopub.status.idle": "2022-05-11T11:05:01.383074Z",
     "shell.execute_reply": "2022-05-11T11:05:01.382291Z"
    },
    "papermill": {
     "duration": 0.115117,
     "end_time": "2022-05-11T11:05:01.385168",
     "exception": false,
     "start_time": "2022-05-11T11:05:01.270051",
     "status": "completed"
    },
    "tags": []
   },
   "outputs": [],
   "source": [
    "val_df = remove_outliers(val_df)"
   ]
  },
  {
   "cell_type": "code",
   "execution_count": null,
   "id": "1ba33ab7",
   "metadata": {
    "papermill": {
     "duration": 0.099839,
     "end_time": "2022-05-11T11:05:01.586876",
     "exception": false,
     "start_time": "2022-05-11T11:05:01.487037",
     "status": "completed"
    },
    "tags": []
   },
   "outputs": [],
   "source": []
  },
  {
   "cell_type": "markdown",
   "id": "2d56aa87",
   "metadata": {
    "papermill": {
     "duration": 0.100589,
     "end_time": "2022-05-11T11:05:01.788626",
     "exception": false,
     "start_time": "2022-05-11T11:05:01.688037",
     "status": "completed"
    },
    "tags": []
   },
   "source": [
    "### we could scale data later"
   ]
  },
  {
   "cell_type": "code",
   "execution_count": null,
   "id": "834ebe3e",
   "metadata": {
    "papermill": {
     "duration": 0.102077,
     "end_time": "2022-05-11T11:05:01.996621",
     "exception": false,
     "start_time": "2022-05-11T11:05:01.894544",
     "status": "completed"
    },
    "tags": []
   },
   "outputs": [],
   "source": []
  },
  {
   "cell_type": "markdown",
   "id": "e8280e13",
   "metadata": {
    "papermill": {
     "duration": 0.100489,
     "end_time": "2022-05-11T11:05:02.199545",
     "exception": false,
     "start_time": "2022-05-11T11:05:02.099056",
     "status": "completed"
    },
    "tags": []
   },
   "source": [
    "## train models"
   ]
  },
  {
   "cell_type": "markdown",
   "id": "11377b77",
   "metadata": {
    "papermill": {
     "duration": 0.100303,
     "end_time": "2022-05-11T11:05:02.401120",
     "exception": false,
     "start_time": "2022-05-11T11:05:02.300817",
     "status": "completed"
    },
    "tags": []
   },
   "source": [
    "#### Ridge Regression"
   ]
  },
  {
   "cell_type": "code",
   "execution_count": 53,
   "id": "66a68a5a",
   "metadata": {
    "execution": {
     "iopub.execute_input": "2022-05-11T11:05:02.603867Z",
     "iopub.status.busy": "2022-05-11T11:05:02.603552Z",
     "iopub.status.idle": "2022-05-11T11:05:02.613925Z",
     "shell.execute_reply": "2022-05-11T11:05:02.612988Z"
    },
    "papermill": {
     "duration": 0.114404,
     "end_time": "2022-05-11T11:05:02.616059",
     "exception": false,
     "start_time": "2022-05-11T11:05:02.501655",
     "status": "completed"
    },
    "tags": []
   },
   "outputs": [],
   "source": [
    "X_train = train_df.drop(columns=['fare_amount', 'pickup_datetime'])\n",
    "y_train = train_df['fare_amount']"
   ]
  },
  {
   "cell_type": "code",
   "execution_count": 54,
   "id": "d022fc8a",
   "metadata": {
    "execution": {
     "iopub.execute_input": "2022-05-11T11:05:02.818901Z",
     "iopub.status.busy": "2022-05-11T11:05:02.818625Z",
     "iopub.status.idle": "2022-05-11T11:05:02.825544Z",
     "shell.execute_reply": "2022-05-11T11:05:02.824768Z"
    },
    "papermill": {
     "duration": 0.110784,
     "end_time": "2022-05-11T11:05:02.827465",
     "exception": false,
     "start_time": "2022-05-11T11:05:02.716681",
     "status": "completed"
    },
    "tags": []
   },
   "outputs": [],
   "source": [
    "X_val = val_df.drop(columns=['fare_amount', 'pickup_datetime'])\n",
    "y_val = val_df['fare_amount']"
   ]
  },
  {
   "cell_type": "code",
   "execution_count": null,
   "id": "6ed876c8",
   "metadata": {
    "papermill": {
     "duration": 0.102497,
     "end_time": "2022-05-11T11:05:03.061442",
     "exception": false,
     "start_time": "2022-05-11T11:05:02.958945",
     "status": "completed"
    },
    "tags": []
   },
   "outputs": [],
   "source": []
  },
  {
   "cell_type": "code",
   "execution_count": 55,
   "id": "c756115e",
   "metadata": {
    "execution": {
     "iopub.execute_input": "2022-05-11T11:05:03.264219Z",
     "iopub.status.busy": "2022-05-11T11:05:03.263949Z",
     "iopub.status.idle": "2022-05-11T11:05:03.270057Z",
     "shell.execute_reply": "2022-05-11T11:05:03.269492Z"
    },
    "papermill": {
     "duration": 0.109917,
     "end_time": "2022-05-11T11:05:03.271843",
     "exception": false,
     "start_time": "2022-05-11T11:05:03.161926",
     "status": "completed"
    },
    "tags": []
   },
   "outputs": [],
   "source": [
    "test_df=test_df.drop(columns = 'pickup_datetime')"
   ]
  },
  {
   "cell_type": "code",
   "execution_count": 56,
   "id": "19a30eef",
   "metadata": {
    "execution": {
     "iopub.execute_input": "2022-05-11T11:05:03.476388Z",
     "iopub.status.busy": "2022-05-11T11:05:03.476116Z",
     "iopub.status.idle": "2022-05-11T11:05:03.492995Z",
     "shell.execute_reply": "2022-05-11T11:05:03.492205Z"
    },
    "papermill": {
     "duration": 0.121053,
     "end_time": "2022-05-11T11:05:03.495241",
     "exception": false,
     "start_time": "2022-05-11T11:05:03.374188",
     "status": "completed"
    },
    "tags": []
   },
   "outputs": [
    {
     "data": {
      "text/html": [
       "<div>\n",
       "<style scoped>\n",
       "    .dataframe tbody tr th:only-of-type {\n",
       "        vertical-align: middle;\n",
       "    }\n",
       "\n",
       "    .dataframe tbody tr th {\n",
       "        vertical-align: top;\n",
       "    }\n",
       "\n",
       "    .dataframe thead th {\n",
       "        text-align: right;\n",
       "    }\n",
       "</style>\n",
       "<table border=\"1\" class=\"dataframe\">\n",
       "  <thead>\n",
       "    <tr style=\"text-align: right;\">\n",
       "      <th></th>\n",
       "      <th>pickup_longitude</th>\n",
       "      <th>pickup_latitude</th>\n",
       "      <th>dropoff_longitude</th>\n",
       "      <th>dropoff_latitude</th>\n",
       "      <th>passenger_count</th>\n",
       "      <th>pickup_datetime_year</th>\n",
       "      <th>pickup_datetime_month</th>\n",
       "      <th>pickup_datetime_day</th>\n",
       "      <th>pickup_datetime_weekday</th>\n",
       "      <th>pickup_datetime_hour</th>\n",
       "      <th>trip_distance</th>\n",
       "      <th>jfk_drop_distance</th>\n",
       "      <th>lga_drop_distance</th>\n",
       "      <th>ewr_drop_distance</th>\n",
       "      <th>met_drop_distance</th>\n",
       "      <th>wtc_drop_distance</th>\n",
       "    </tr>\n",
       "  </thead>\n",
       "  <tbody>\n",
       "    <tr>\n",
       "      <th>0</th>\n",
       "      <td>-73.973320</td>\n",
       "      <td>40.763805</td>\n",
       "      <td>-73.981430</td>\n",
       "      <td>40.743835</td>\n",
       "      <td>1</td>\n",
       "      <td>2015</td>\n",
       "      <td>1</td>\n",
       "      <td>27</td>\n",
       "      <td>1</td>\n",
       "      <td>13</td>\n",
       "      <td>2.321899</td>\n",
       "      <td>20.574911</td>\n",
       "      <td>9.760167</td>\n",
       "      <td>17.346842</td>\n",
       "      <td>4.239343</td>\n",
       "      <td>4.218709</td>\n",
       "    </tr>\n",
       "    <tr>\n",
       "      <th>1</th>\n",
       "      <td>-73.986862</td>\n",
       "      <td>40.719383</td>\n",
       "      <td>-73.998886</td>\n",
       "      <td>40.739201</td>\n",
       "      <td>1</td>\n",
       "      <td>2015</td>\n",
       "      <td>1</td>\n",
       "      <td>27</td>\n",
       "      <td>1</td>\n",
       "      <td>13</td>\n",
       "      <td>2.423777</td>\n",
       "      <td>21.550976</td>\n",
       "      <td>11.315990</td>\n",
       "      <td>15.789623</td>\n",
       "      <td>5.382879</td>\n",
       "      <td>3.098136</td>\n",
       "    </tr>\n",
       "    <tr>\n",
       "      <th>2</th>\n",
       "      <td>-73.982521</td>\n",
       "      <td>40.751259</td>\n",
       "      <td>-73.979652</td>\n",
       "      <td>40.746140</td>\n",
       "      <td>1</td>\n",
       "      <td>2011</td>\n",
       "      <td>10</td>\n",
       "      <td>8</td>\n",
       "      <td>5</td>\n",
       "      <td>11</td>\n",
       "      <td>0.618015</td>\n",
       "      <td>20.594069</td>\n",
       "      <td>9.526829</td>\n",
       "      <td>17.576965</td>\n",
       "      <td>3.946721</td>\n",
       "      <td>4.514503</td>\n",
       "    </tr>\n",
       "  </tbody>\n",
       "</table>\n",
       "</div>"
      ],
      "text/plain": [
       "   pickup_longitude  pickup_latitude  dropoff_longitude  dropoff_latitude  \\\n",
       "0        -73.973320        40.763805         -73.981430         40.743835   \n",
       "1        -73.986862        40.719383         -73.998886         40.739201   \n",
       "2        -73.982521        40.751259         -73.979652         40.746140   \n",
       "\n",
       "   passenger_count  pickup_datetime_year  pickup_datetime_month  \\\n",
       "0                1                  2015                      1   \n",
       "1                1                  2015                      1   \n",
       "2                1                  2011                     10   \n",
       "\n",
       "   pickup_datetime_day  pickup_datetime_weekday  pickup_datetime_hour  \\\n",
       "0                   27                        1                    13   \n",
       "1                   27                        1                    13   \n",
       "2                    8                        5                    11   \n",
       "\n",
       "   trip_distance  jfk_drop_distance  lga_drop_distance  ewr_drop_distance  \\\n",
       "0       2.321899          20.574911           9.760167          17.346842   \n",
       "1       2.423777          21.550976          11.315990          15.789623   \n",
       "2       0.618015          20.594069           9.526829          17.576965   \n",
       "\n",
       "   met_drop_distance  wtc_drop_distance  \n",
       "0           4.239343           4.218709  \n",
       "1           5.382879           3.098136  \n",
       "2           3.946721           4.514503  "
      ]
     },
     "execution_count": 56,
     "metadata": {},
     "output_type": "execute_result"
    }
   ],
   "source": [
    "test_df.head(3)"
   ]
  },
  {
   "cell_type": "code",
   "execution_count": 57,
   "id": "c7fdb800",
   "metadata": {
    "execution": {
     "iopub.execute_input": "2022-05-11T11:05:03.699350Z",
     "iopub.status.busy": "2022-05-11T11:05:03.699053Z",
     "iopub.status.idle": "2022-05-11T11:05:03.704285Z",
     "shell.execute_reply": "2022-05-11T11:05:03.703492Z"
    },
    "papermill": {
     "duration": 0.109375,
     "end_time": "2022-05-11T11:05:03.706169",
     "exception": false,
     "start_time": "2022-05-11T11:05:03.596794",
     "status": "completed"
    },
    "tags": []
   },
   "outputs": [],
   "source": [
    "def evaluate(model , train_inputs, train_targets, val_inputs, val_targets):\n",
    "    train_pred = model.predict(train_inputs)\n",
    "    train_rmse = rmse(train_targets, train_pred)\n",
    "    \n",
    "    val_pred = model.predict(val_inputs)\n",
    "    val_rmse = rmse(val_targets, val_pred)\n",
    "    \n",
    "    return train_rmse, val_rmse, train_pred, val_pred"
   ]
  },
  {
   "cell_type": "code",
   "execution_count": 58,
   "id": "936c5073",
   "metadata": {
    "execution": {
     "iopub.execute_input": "2022-05-11T11:05:03.914769Z",
     "iopub.status.busy": "2022-05-11T11:05:03.914446Z",
     "iopub.status.idle": "2022-05-11T11:05:03.918205Z",
     "shell.execute_reply": "2022-05-11T11:05:03.917616Z"
    },
    "papermill": {
     "duration": 0.109358,
     "end_time": "2022-05-11T11:05:03.919904",
     "exception": false,
     "start_time": "2022-05-11T11:05:03.810546",
     "status": "completed"
    },
    "tags": []
   },
   "outputs": [],
   "source": [
    "from sklearn.linear_model import Ridge"
   ]
  },
  {
   "cell_type": "code",
   "execution_count": 59,
   "id": "8400ecb0",
   "metadata": {
    "execution": {
     "iopub.execute_input": "2022-05-11T11:05:04.127362Z",
     "iopub.status.busy": "2022-05-11T11:05:04.127084Z",
     "iopub.status.idle": "2022-05-11T11:05:04.171650Z",
     "shell.execute_reply": "2022-05-11T11:05:04.170614Z"
    },
    "papermill": {
     "duration": 0.151387,
     "end_time": "2022-05-11T11:05:04.174542",
     "exception": false,
     "start_time": "2022-05-11T11:05:04.023155",
     "status": "completed"
    },
    "tags": []
   },
   "outputs": [
    {
     "data": {
      "text/plain": [
       "Ridge(alpha=0.9)"
      ]
     },
     "execution_count": 59,
     "metadata": {},
     "output_type": "execute_result"
    }
   ],
   "source": [
    "model1 = Ridge(alpha=0.9)\n",
    "model1.fit(X_train, y_train)"
   ]
  },
  {
   "cell_type": "code",
   "execution_count": 60,
   "id": "1952fb49",
   "metadata": {
    "execution": {
     "iopub.execute_input": "2022-05-11T11:05:04.426485Z",
     "iopub.status.busy": "2022-05-11T11:05:04.426167Z",
     "iopub.status.idle": "2022-05-11T11:05:04.447132Z",
     "shell.execute_reply": "2022-05-11T11:05:04.446103Z"
    },
    "papermill": {
     "duration": 0.127294,
     "end_time": "2022-05-11T11:05:04.450173",
     "exception": false,
     "start_time": "2022-05-11T11:05:04.322879",
     "status": "completed"
    },
    "tags": []
   },
   "outputs": [
    {
     "data": {
      "text/plain": [
       "(5.326117523346616,\n",
       " 5.611531415462144,\n",
       " array([ 6.32861593,  8.37121456,  9.82042067, ...,  7.30930831,\n",
       "        10.35476797, 23.6933982 ]),\n",
       " array([ 8.59818019, 10.12984928,  7.20813377, ...,  7.51492656,\n",
       "         5.10248606, 22.24490651]))"
      ]
     },
     "execution_count": 60,
     "metadata": {},
     "output_type": "execute_result"
    }
   ],
   "source": [
    "evaluate(model1, X_train, y_train, X_val, y_val)"
   ]
  },
  {
   "cell_type": "code",
   "execution_count": null,
   "id": "8d2bd6b8",
   "metadata": {
    "papermill": {
     "duration": 0.101583,
     "end_time": "2022-05-11T11:05:04.704278",
     "exception": false,
     "start_time": "2022-05-11T11:05:04.602695",
     "status": "completed"
    },
    "tags": []
   },
   "outputs": [],
   "source": []
  },
  {
   "cell_type": "code",
   "execution_count": 61,
   "id": "73d05a67",
   "metadata": {
    "execution": {
     "iopub.execute_input": "2022-05-11T11:05:04.910065Z",
     "iopub.status.busy": "2022-05-11T11:05:04.909770Z",
     "iopub.status.idle": "2022-05-11T11:05:05.028224Z",
     "shell.execute_reply": "2022-05-11T11:05:05.027242Z"
    },
    "papermill": {
     "duration": 0.22507,
     "end_time": "2022-05-11T11:05:05.031170",
     "exception": false,
     "start_time": "2022-05-11T11:05:04.806100",
     "status": "completed"
    },
    "tags": []
   },
   "outputs": [
    {
     "data": {
      "text/html": [
       "<div>\n",
       "<style scoped>\n",
       "    .dataframe tbody tr th:only-of-type {\n",
       "        vertical-align: middle;\n",
       "    }\n",
       "\n",
       "    .dataframe tbody tr th {\n",
       "        vertical-align: top;\n",
       "    }\n",
       "\n",
       "    .dataframe thead th {\n",
       "        text-align: right;\n",
       "    }\n",
       "</style>\n",
       "<table border=\"1\" class=\"dataframe\">\n",
       "  <thead>\n",
       "    <tr style=\"text-align: right;\">\n",
       "      <th></th>\n",
       "      <th>key</th>\n",
       "      <th>fare_amount</th>\n",
       "    </tr>\n",
       "  </thead>\n",
       "  <tbody>\n",
       "    <tr>\n",
       "      <th>0</th>\n",
       "      <td>2015-01-27 13:08:24.0000002</td>\n",
       "      <td>10.187471</td>\n",
       "    </tr>\n",
       "    <tr>\n",
       "      <th>1</th>\n",
       "      <td>2015-01-27 13:08:24.0000003</td>\n",
       "      <td>11.502309</td>\n",
       "    </tr>\n",
       "    <tr>\n",
       "      <th>2</th>\n",
       "      <td>2011-10-08 11:53:44.0000002</td>\n",
       "      <td>5.707271</td>\n",
       "    </tr>\n",
       "    <tr>\n",
       "      <th>3</th>\n",
       "      <td>2012-12-01 21:12:12.0000002</td>\n",
       "      <td>8.710552</td>\n",
       "    </tr>\n",
       "    <tr>\n",
       "      <th>4</th>\n",
       "      <td>2012-12-01 21:12:12.0000003</td>\n",
       "      <td>13.953351</td>\n",
       "    </tr>\n",
       "    <tr>\n",
       "      <th>...</th>\n",
       "      <td>...</td>\n",
       "      <td>...</td>\n",
       "    </tr>\n",
       "    <tr>\n",
       "      <th>9909</th>\n",
       "      <td>2015-05-10 12:37:51.0000002</td>\n",
       "      <td>9.010244</td>\n",
       "    </tr>\n",
       "    <tr>\n",
       "      <th>9910</th>\n",
       "      <td>2015-01-12 17:05:51.0000001</td>\n",
       "      <td>11.234315</td>\n",
       "    </tr>\n",
       "    <tr>\n",
       "      <th>9911</th>\n",
       "      <td>2015-04-19 20:44:15.0000001</td>\n",
       "      <td>47.402014</td>\n",
       "    </tr>\n",
       "    <tr>\n",
       "      <th>9912</th>\n",
       "      <td>2015-01-31 01:05:19.0000005</td>\n",
       "      <td>21.665360</td>\n",
       "    </tr>\n",
       "    <tr>\n",
       "      <th>9913</th>\n",
       "      <td>2015-01-18 14:06:23.0000006</td>\n",
       "      <td>9.054656</td>\n",
       "    </tr>\n",
       "  </tbody>\n",
       "</table>\n",
       "<p>9914 rows × 2 columns</p>\n",
       "</div>"
      ],
      "text/plain": [
       "                              key  fare_amount\n",
       "0     2015-01-27 13:08:24.0000002    10.187471\n",
       "1     2015-01-27 13:08:24.0000003    11.502309\n",
       "2     2011-10-08 11:53:44.0000002     5.707271\n",
       "3     2012-12-01 21:12:12.0000002     8.710552\n",
       "4     2012-12-01 21:12:12.0000003    13.953351\n",
       "...                           ...          ...\n",
       "9909  2015-05-10 12:37:51.0000002     9.010244\n",
       "9910  2015-01-12 17:05:51.0000001    11.234315\n",
       "9911  2015-04-19 20:44:15.0000001    47.402014\n",
       "9912  2015-01-31 01:05:19.0000005    21.665360\n",
       "9913  2015-01-18 14:06:23.0000006     9.054656\n",
       "\n",
       "[9914 rows x 2 columns]"
      ]
     },
     "execution_count": 61,
     "metadata": {},
     "output_type": "execute_result"
    }
   ],
   "source": [
    "predict_and_submit(model1, test_df, 'Ridge.csv')"
   ]
  },
  {
   "cell_type": "code",
   "execution_count": null,
   "id": "4e16ba64",
   "metadata": {
    "papermill": {
     "duration": 0.103878,
     "end_time": "2022-05-11T11:05:05.240946",
     "exception": false,
     "start_time": "2022-05-11T11:05:05.137068",
     "status": "completed"
    },
    "tags": []
   },
   "outputs": [],
   "source": []
  },
  {
   "cell_type": "markdown",
   "id": "3d130c68",
   "metadata": {
    "papermill": {
     "duration": 0.102214,
     "end_time": "2022-05-11T11:05:05.445998",
     "exception": false,
     "start_time": "2022-05-11T11:05:05.343784",
     "status": "completed"
    },
    "tags": []
   },
   "source": [
    "# Random Forest"
   ]
  },
  {
   "cell_type": "code",
   "execution_count": 62,
   "id": "c7639861",
   "metadata": {
    "execution": {
     "iopub.execute_input": "2022-05-11T11:05:05.651396Z",
     "iopub.status.busy": "2022-05-11T11:05:05.651091Z",
     "iopub.status.idle": "2022-05-11T11:05:05.807491Z",
     "shell.execute_reply": "2022-05-11T11:05:05.806582Z"
    },
    "papermill": {
     "duration": 0.261595,
     "end_time": "2022-05-11T11:05:05.809973",
     "exception": false,
     "start_time": "2022-05-11T11:05:05.548378",
     "status": "completed"
    },
    "tags": []
   },
   "outputs": [],
   "source": [
    "from sklearn.ensemble import RandomForestRegressor"
   ]
  },
  {
   "cell_type": "code",
   "execution_count": 63,
   "id": "1ce911cf",
   "metadata": {
    "execution": {
     "iopub.execute_input": "2022-05-11T11:05:06.016177Z",
     "iopub.status.busy": "2022-05-11T11:05:06.015688Z",
     "iopub.status.idle": "2022-05-11T11:05:06.020302Z",
     "shell.execute_reply": "2022-05-11T11:05:06.019675Z"
    },
    "papermill": {
     "duration": 0.110123,
     "end_time": "2022-05-11T11:05:06.022222",
     "exception": false,
     "start_time": "2022-05-11T11:05:05.912099",
     "status": "completed"
    },
    "tags": []
   },
   "outputs": [],
   "source": [
    "model2 = RandomForestRegressor(max_depth=10, n_jobs=-1, random_state=42, n_estimators=50)"
   ]
  },
  {
   "cell_type": "code",
   "execution_count": 64,
   "id": "73fb01e3",
   "metadata": {
    "execution": {
     "iopub.execute_input": "2022-05-11T11:05:06.233620Z",
     "iopub.status.busy": "2022-05-11T11:05:06.233303Z",
     "iopub.status.idle": "2022-05-11T11:05:19.304238Z",
     "shell.execute_reply": "2022-05-11T11:05:19.303336Z"
    },
    "papermill": {
     "duration": 13.180853,
     "end_time": "2022-05-11T11:05:19.306495",
     "exception": false,
     "start_time": "2022-05-11T11:05:06.125642",
     "status": "completed"
    },
    "tags": []
   },
   "outputs": [
    {
     "data": {
      "text/plain": [
       "RandomForestRegressor(max_depth=10, n_estimators=50, n_jobs=-1, random_state=42)"
      ]
     },
     "execution_count": 64,
     "metadata": {},
     "output_type": "execute_result"
    }
   ],
   "source": [
    "model2.fit(X_train, y_train)"
   ]
  },
  {
   "cell_type": "code",
   "execution_count": 65,
   "id": "cc7821b1",
   "metadata": {
    "execution": {
     "iopub.execute_input": "2022-05-11T11:05:19.516754Z",
     "iopub.status.busy": "2022-05-11T11:05:19.516437Z",
     "iopub.status.idle": "2022-05-11T11:05:19.837798Z",
     "shell.execute_reply": "2022-05-11T11:05:19.837080Z"
    },
    "papermill": {
     "duration": 0.427152,
     "end_time": "2022-05-11T11:05:19.839901",
     "exception": false,
     "start_time": "2022-05-11T11:05:19.412749",
     "status": "completed"
    },
    "tags": []
   },
   "outputs": [
    {
     "data": {
      "text/plain": [
       "(3.2799850492456657,\n",
       " 4.369673952581463,\n",
       " array([ 7.12605579,  8.16815145,  8.81286858, ...,  5.49895337,\n",
       "         9.18569119, 29.85372471]),\n",
       " array([ 7.31501694, 11.06197729,  5.36252115, ...,  7.16691342,\n",
       "         5.24534503, 33.52712937]))"
      ]
     },
     "execution_count": 65,
     "metadata": {},
     "output_type": "execute_result"
    }
   ],
   "source": [
    "evaluate(model2, X_train, y_train, X_val, y_val)"
   ]
  },
  {
   "cell_type": "code",
   "execution_count": 66,
   "id": "ffe37b34",
   "metadata": {
    "execution": {
     "iopub.execute_input": "2022-05-11T11:05:20.048637Z",
     "iopub.status.busy": "2022-05-11T11:05:20.048171Z",
     "iopub.status.idle": "2022-05-11T11:05:20.215790Z",
     "shell.execute_reply": "2022-05-11T11:05:20.215224Z"
    },
    "papermill": {
     "duration": 0.274558,
     "end_time": "2022-05-11T11:05:20.217587",
     "exception": false,
     "start_time": "2022-05-11T11:05:19.943029",
     "status": "completed"
    },
    "tags": []
   },
   "outputs": [
    {
     "data": {
      "text/html": [
       "<div>\n",
       "<style scoped>\n",
       "    .dataframe tbody tr th:only-of-type {\n",
       "        vertical-align: middle;\n",
       "    }\n",
       "\n",
       "    .dataframe tbody tr th {\n",
       "        vertical-align: top;\n",
       "    }\n",
       "\n",
       "    .dataframe thead th {\n",
       "        text-align: right;\n",
       "    }\n",
       "</style>\n",
       "<table border=\"1\" class=\"dataframe\">\n",
       "  <thead>\n",
       "    <tr style=\"text-align: right;\">\n",
       "      <th></th>\n",
       "      <th>key</th>\n",
       "      <th>fare_amount</th>\n",
       "    </tr>\n",
       "  </thead>\n",
       "  <tbody>\n",
       "    <tr>\n",
       "      <th>0</th>\n",
       "      <td>2015-01-27 13:08:24.0000002</td>\n",
       "      <td>10.524685</td>\n",
       "    </tr>\n",
       "    <tr>\n",
       "      <th>1</th>\n",
       "      <td>2015-01-27 13:08:24.0000003</td>\n",
       "      <td>10.525550</td>\n",
       "    </tr>\n",
       "    <tr>\n",
       "      <th>2</th>\n",
       "      <td>2011-10-08 11:53:44.0000002</td>\n",
       "      <td>4.860634</td>\n",
       "    </tr>\n",
       "    <tr>\n",
       "      <th>3</th>\n",
       "      <td>2012-12-01 21:12:12.0000002</td>\n",
       "      <td>8.209483</td>\n",
       "    </tr>\n",
       "    <tr>\n",
       "      <th>4</th>\n",
       "      <td>2012-12-01 21:12:12.0000003</td>\n",
       "      <td>15.305116</td>\n",
       "    </tr>\n",
       "    <tr>\n",
       "      <th>...</th>\n",
       "      <td>...</td>\n",
       "      <td>...</td>\n",
       "    </tr>\n",
       "    <tr>\n",
       "      <th>9909</th>\n",
       "      <td>2015-05-10 12:37:51.0000002</td>\n",
       "      <td>9.251399</td>\n",
       "    </tr>\n",
       "    <tr>\n",
       "      <th>9910</th>\n",
       "      <td>2015-01-12 17:05:51.0000001</td>\n",
       "      <td>12.821020</td>\n",
       "    </tr>\n",
       "    <tr>\n",
       "      <th>9911</th>\n",
       "      <td>2015-04-19 20:44:15.0000001</td>\n",
       "      <td>55.335369</td>\n",
       "    </tr>\n",
       "    <tr>\n",
       "      <th>9912</th>\n",
       "      <td>2015-01-31 01:05:19.0000005</td>\n",
       "      <td>21.439991</td>\n",
       "    </tr>\n",
       "    <tr>\n",
       "      <th>9913</th>\n",
       "      <td>2015-01-18 14:06:23.0000006</td>\n",
       "      <td>7.270292</td>\n",
       "    </tr>\n",
       "  </tbody>\n",
       "</table>\n",
       "<p>9914 rows × 2 columns</p>\n",
       "</div>"
      ],
      "text/plain": [
       "                              key  fare_amount\n",
       "0     2015-01-27 13:08:24.0000002    10.524685\n",
       "1     2015-01-27 13:08:24.0000003    10.525550\n",
       "2     2011-10-08 11:53:44.0000002     4.860634\n",
       "3     2012-12-01 21:12:12.0000002     8.209483\n",
       "4     2012-12-01 21:12:12.0000003    15.305116\n",
       "...                           ...          ...\n",
       "9909  2015-05-10 12:37:51.0000002     9.251399\n",
       "9910  2015-01-12 17:05:51.0000001    12.821020\n",
       "9911  2015-04-19 20:44:15.0000001    55.335369\n",
       "9912  2015-01-31 01:05:19.0000005    21.439991\n",
       "9913  2015-01-18 14:06:23.0000006     7.270292\n",
       "\n",
       "[9914 rows x 2 columns]"
      ]
     },
     "execution_count": 66,
     "metadata": {},
     "output_type": "execute_result"
    }
   ],
   "source": [
    "predict_and_submit(model2, test_df, 'rf_submission.csv')"
   ]
  },
  {
   "cell_type": "code",
   "execution_count": 67,
   "id": "3fbe1743",
   "metadata": {
    "execution": {
     "iopub.execute_input": "2022-05-11T11:05:20.428653Z",
     "iopub.status.busy": "2022-05-11T11:05:20.428191Z",
     "iopub.status.idle": "2022-05-11T11:05:20.432513Z",
     "shell.execute_reply": "2022-05-11T11:05:20.431670Z"
    },
    "papermill": {
     "duration": 0.113669,
     "end_time": "2022-05-11T11:05:20.434584",
     "exception": false,
     "start_time": "2022-05-11T11:05:20.320915",
     "status": "completed"
    },
    "tags": []
   },
   "outputs": [],
   "source": [
    "from sklearn.model_selection import GridSearchCV"
   ]
  },
  {
   "cell_type": "code",
   "execution_count": 68,
   "id": "d1010c1d",
   "metadata": {
    "execution": {
     "iopub.execute_input": "2022-05-11T11:05:20.643621Z",
     "iopub.status.busy": "2022-05-11T11:05:20.643290Z",
     "iopub.status.idle": "2022-05-11T11:05:20.648630Z",
     "shell.execute_reply": "2022-05-11T11:05:20.648036Z"
    },
    "papermill": {
     "duration": 0.111675,
     "end_time": "2022-05-11T11:05:20.650289",
     "exception": false,
     "start_time": "2022-05-11T11:05:20.538614",
     "status": "completed"
    },
    "tags": []
   },
   "outputs": [
    {
     "data": {
      "text/plain": [
       "RandomForestRegressor(max_depth=10, n_estimators=50, n_jobs=-1, random_state=42)"
      ]
     },
     "execution_count": 68,
     "metadata": {},
     "output_type": "execute_result"
    }
   ],
   "source": [
    "model2"
   ]
  },
  {
   "cell_type": "code",
   "execution_count": 69,
   "id": "f73e2b67",
   "metadata": {
    "execution": {
     "iopub.execute_input": "2022-05-11T11:05:20.863244Z",
     "iopub.status.busy": "2022-05-11T11:05:20.862316Z",
     "iopub.status.idle": "2022-05-11T11:05:20.867159Z",
     "shell.execute_reply": "2022-05-11T11:05:20.866519Z"
    },
    "papermill": {
     "duration": 0.111777,
     "end_time": "2022-05-11T11:05:20.869053",
     "exception": false,
     "start_time": "2022-05-11T11:05:20.757276",
     "status": "completed"
    },
    "tags": []
   },
   "outputs": [],
   "source": [
    "parameters = {'n_estimators':(50, 80), 'max_depth':[10, 20]}\n",
    "model_2 = RandomForestRegressor()\n",
    "model2_GS= GridSearchCV(model_2, parameters)"
   ]
  },
  {
   "cell_type": "code",
   "execution_count": 70,
   "id": "96bba940",
   "metadata": {
    "execution": {
     "iopub.execute_input": "2022-05-11T11:05:21.080957Z",
     "iopub.status.busy": "2022-05-11T11:05:21.080391Z",
     "iopub.status.idle": "2022-05-11T11:22:04.919421Z",
     "shell.execute_reply": "2022-05-11T11:22:04.918410Z"
    },
    "papermill": {
     "duration": 1004.054222,
     "end_time": "2022-05-11T11:22:05.027663",
     "exception": false,
     "start_time": "2022-05-11T11:05:20.973441",
     "status": "completed"
    },
    "tags": []
   },
   "outputs": [
    {
     "data": {
      "text/plain": [
       "GridSearchCV(estimator=RandomForestRegressor(),\n",
       "             param_grid={'max_depth': [10, 20], 'n_estimators': (50, 80)})"
      ]
     },
     "execution_count": 70,
     "metadata": {},
     "output_type": "execute_result"
    }
   ],
   "source": [
    "model2_GS.fit(X_train, y_train)"
   ]
  },
  {
   "cell_type": "code",
   "execution_count": 71,
   "id": "69e36ce2",
   "metadata": {
    "execution": {
     "iopub.execute_input": "2022-05-11T11:22:05.239704Z",
     "iopub.status.busy": "2022-05-11T11:22:05.239409Z",
     "iopub.status.idle": "2022-05-11T11:22:05.245012Z",
     "shell.execute_reply": "2022-05-11T11:22:05.244158Z"
    },
    "papermill": {
     "duration": 0.113082,
     "end_time": "2022-05-11T11:22:05.246790",
     "exception": false,
     "start_time": "2022-05-11T11:22:05.133708",
     "status": "completed"
    },
    "tags": []
   },
   "outputs": [
    {
     "data": {
      "text/plain": [
       "{'max_depth': 20, 'n_estimators': 80}"
      ]
     },
     "execution_count": 71,
     "metadata": {},
     "output_type": "execute_result"
    }
   ],
   "source": [
    "model2_GS.best_params_"
   ]
  },
  {
   "cell_type": "code",
   "execution_count": 72,
   "id": "20b6d0e0",
   "metadata": {
    "execution": {
     "iopub.execute_input": "2022-05-11T11:22:05.456716Z",
     "iopub.status.busy": "2022-05-11T11:22:05.456408Z",
     "iopub.status.idle": "2022-05-11T11:22:07.736474Z",
     "shell.execute_reply": "2022-05-11T11:22:07.735709Z"
    },
    "papermill": {
     "duration": 2.387785,
     "end_time": "2022-05-11T11:22:07.738519",
     "exception": false,
     "start_time": "2022-05-11T11:22:05.350734",
     "status": "completed"
    },
    "tags": []
   },
   "outputs": [
    {
     "data": {
      "text/plain": [
       "(1.7998621361114802,\n",
       " 4.326903258528662,\n",
       " array([ 6.5698331 ,  8.26764608,  8.39170951, ...,  5.46054232,\n",
       "         8.3994305 , 33.50113948]),\n",
       " array([ 7.86640848, 11.4862139 ,  5.25759671, ...,  6.71560056,\n",
       "         4.82469452, 33.17725115]))"
      ]
     },
     "execution_count": 72,
     "metadata": {},
     "output_type": "execute_result"
    }
   ],
   "source": [
    "evaluate(model2_GS, X_train, y_train, X_val, y_val)"
   ]
  },
  {
   "cell_type": "code",
   "execution_count": 73,
   "id": "ce749f87",
   "metadata": {
    "execution": {
     "iopub.execute_input": "2022-05-11T11:22:07.957724Z",
     "iopub.status.busy": "2022-05-11T11:22:07.957423Z",
     "iopub.status.idle": "2022-05-11T11:22:08.133219Z",
     "shell.execute_reply": "2022-05-11T11:22:08.132326Z"
    },
    "papermill": {
     "duration": 0.286708,
     "end_time": "2022-05-11T11:22:08.135496",
     "exception": false,
     "start_time": "2022-05-11T11:22:07.848788",
     "status": "completed"
    },
    "tags": []
   },
   "outputs": [
    {
     "data": {
      "text/html": [
       "<div>\n",
       "<style scoped>\n",
       "    .dataframe tbody tr th:only-of-type {\n",
       "        vertical-align: middle;\n",
       "    }\n",
       "\n",
       "    .dataframe tbody tr th {\n",
       "        vertical-align: top;\n",
       "    }\n",
       "\n",
       "    .dataframe thead th {\n",
       "        text-align: right;\n",
       "    }\n",
       "</style>\n",
       "<table border=\"1\" class=\"dataframe\">\n",
       "  <thead>\n",
       "    <tr style=\"text-align: right;\">\n",
       "      <th></th>\n",
       "      <th>key</th>\n",
       "      <th>fare_amount</th>\n",
       "    </tr>\n",
       "  </thead>\n",
       "  <tbody>\n",
       "    <tr>\n",
       "      <th>0</th>\n",
       "      <td>2015-01-27 13:08:24.0000002</td>\n",
       "      <td>10.524685</td>\n",
       "    </tr>\n",
       "    <tr>\n",
       "      <th>1</th>\n",
       "      <td>2015-01-27 13:08:24.0000003</td>\n",
       "      <td>10.525550</td>\n",
       "    </tr>\n",
       "    <tr>\n",
       "      <th>2</th>\n",
       "      <td>2011-10-08 11:53:44.0000002</td>\n",
       "      <td>4.860634</td>\n",
       "    </tr>\n",
       "    <tr>\n",
       "      <th>3</th>\n",
       "      <td>2012-12-01 21:12:12.0000002</td>\n",
       "      <td>8.209483</td>\n",
       "    </tr>\n",
       "    <tr>\n",
       "      <th>4</th>\n",
       "      <td>2012-12-01 21:12:12.0000003</td>\n",
       "      <td>15.305116</td>\n",
       "    </tr>\n",
       "    <tr>\n",
       "      <th>...</th>\n",
       "      <td>...</td>\n",
       "      <td>...</td>\n",
       "    </tr>\n",
       "    <tr>\n",
       "      <th>9909</th>\n",
       "      <td>2015-05-10 12:37:51.0000002</td>\n",
       "      <td>9.251399</td>\n",
       "    </tr>\n",
       "    <tr>\n",
       "      <th>9910</th>\n",
       "      <td>2015-01-12 17:05:51.0000001</td>\n",
       "      <td>12.821020</td>\n",
       "    </tr>\n",
       "    <tr>\n",
       "      <th>9911</th>\n",
       "      <td>2015-04-19 20:44:15.0000001</td>\n",
       "      <td>55.335369</td>\n",
       "    </tr>\n",
       "    <tr>\n",
       "      <th>9912</th>\n",
       "      <td>2015-01-31 01:05:19.0000005</td>\n",
       "      <td>21.439991</td>\n",
       "    </tr>\n",
       "    <tr>\n",
       "      <th>9913</th>\n",
       "      <td>2015-01-18 14:06:23.0000006</td>\n",
       "      <td>7.270292</td>\n",
       "    </tr>\n",
       "  </tbody>\n",
       "</table>\n",
       "<p>9914 rows × 2 columns</p>\n",
       "</div>"
      ],
      "text/plain": [
       "                              key  fare_amount\n",
       "0     2015-01-27 13:08:24.0000002    10.524685\n",
       "1     2015-01-27 13:08:24.0000003    10.525550\n",
       "2     2011-10-08 11:53:44.0000002     4.860634\n",
       "3     2012-12-01 21:12:12.0000002     8.209483\n",
       "4     2012-12-01 21:12:12.0000003    15.305116\n",
       "...                           ...          ...\n",
       "9909  2015-05-10 12:37:51.0000002     9.251399\n",
       "9910  2015-01-12 17:05:51.0000001    12.821020\n",
       "9911  2015-04-19 20:44:15.0000001    55.335369\n",
       "9912  2015-01-31 01:05:19.0000005    21.439991\n",
       "9913  2015-01-18 14:06:23.0000006     7.270292\n",
       "\n",
       "[9914 rows x 2 columns]"
      ]
     },
     "execution_count": 73,
     "metadata": {},
     "output_type": "execute_result"
    }
   ],
   "source": [
    "predict_and_submit(model2, test_df, 'rf_gridsearch.csv')"
   ]
  },
  {
   "cell_type": "code",
   "execution_count": null,
   "id": "5c489506",
   "metadata": {
    "papermill": {
     "duration": 0.181869,
     "end_time": "2022-05-11T11:22:08.425762",
     "exception": false,
     "start_time": "2022-05-11T11:22:08.243893",
     "status": "completed"
    },
    "tags": []
   },
   "outputs": [],
   "source": []
  }
 ],
 "metadata": {
  "kernelspec": {
   "display_name": "Python 3",
   "language": "python",
   "name": "python3"
  },
  "language_info": {
   "codemirror_mode": {
    "name": "ipython",
    "version": 3
   },
   "file_extension": ".py",
   "mimetype": "text/x-python",
   "name": "python",
   "nbconvert_exporter": "python",
   "pygments_lexer": "ipython3",
   "version": "3.7.12"
  },
  "papermill": {
   "default_parameters": {},
   "duration": 1069.834312,
   "end_time": "2022-05-11T11:22:09.254577",
   "environment_variables": {},
   "exception": null,
   "input_path": "__notebook__.ipynb",
   "output_path": "__notebook__.ipynb",
   "parameters": {},
   "start_time": "2022-05-11T11:04:19.420265",
   "version": "2.3.4"
  }
 },
 "nbformat": 4,
 "nbformat_minor": 5
}
