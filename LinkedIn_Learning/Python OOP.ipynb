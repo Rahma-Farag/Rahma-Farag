{
 "cells": [
  {
   "cell_type": "markdown",
   "id": "cd4b6ed3",
   "metadata": {},
   "source": [
    "# definition_start"
   ]
  },
  {
   "cell_type": "code",
   "execution_count": 1,
   "id": "b7dd96b8",
   "metadata": {},
   "outputs": [
    {
     "name": "stdout",
     "output_type": "stream",
     "text": [
      "<__main__.Book object at 0x7f78184146d0>\n",
      "Brave new world\n"
     ]
    }
   ],
   "source": [
    "# Python Object Oriented Programming by Joe Marini course example\n",
    "# Basic class definitions\n",
    "\n",
    "\n",
    "# TODO: create a basic class\n",
    "#we say class Book() if Book inherites from another class\n",
    "class Book:\n",
    "    def __init__(self, title):\n",
    "        self.title = title\n",
    "\n",
    "# TODO: create instances of the class\n",
    "b1 = Book(\"Brave new world\") #self is automaticaly the object\n",
    "\n",
    "# TODO: print the class and property\n",
    "print(b1)\n",
    "print(b1.title)"
   ]
  },
  {
   "cell_type": "markdown",
   "id": "69e9b57f",
   "metadata": {},
   "source": [
    "# instance_start"
   ]
  },
  {
   "cell_type": "code",
   "execution_count": 8,
   "id": "afffa278",
   "metadata": {},
   "outputs": [
    {
     "name": "stdout",
     "output_type": "stream",
     "text": [
      "39.95\n",
      "29.962500000000002\n",
      " this is a secret attr\n"
     ]
    }
   ],
   "source": [
    "# Python Object Oriented Programming by Joe Marini course example\n",
    "# Using instance methods and attributes\n",
    "\n",
    "\n",
    "class Book:\n",
    "    # the \"init\" function is called when the instance is\n",
    "    # created and ready to be initialized\n",
    "    def __init__(self, title, author, pages, price):\n",
    "        self.title = title\n",
    "        # TODO: add properties\n",
    "        self.author = author\n",
    "        self.pages = pages\n",
    "        self.price = price\n",
    "        self.__secret = \" this is a secret attr\"\n",
    "\n",
    "    # TODO: create instance methods\n",
    "    def getprice(self):\n",
    "        if hasattr(self, \"_discount\"):\n",
    "            return self.price - (self.price * self._discount)\n",
    "        else:\n",
    "            return self.price\n",
    "    \n",
    "    def setdiscount(self, amount):\n",
    "        self._discount = amount \n",
    "        #the underscore it to say it should be private\n",
    "\n",
    "# TODO: create some book instances\n",
    "b1 = Book(\"War and Peace\", \"Leo Tolstoy\", 1225, 39.95)\n",
    "\n",
    "# TODO: print the price of book1\n",
    "print(b1.getprice())\n",
    "\n",
    "# TODO: try setting the discount\n",
    "b1.setdiscount(0.25)\n",
    "print(b1.getprice())\n",
    "\n",
    "# TODO: properties with double underscores are hidden by the interpreter\n",
    "#print(b1.__secret) -> gives error\n",
    "#python changes it to _Book__secret\n",
    "print(b1._Book__secret)"
   ]
  },
  {
   "cell_type": "markdown",
   "id": "bc24c9c6",
   "metadata": {},
   "source": [
    "# typecheck_start"
   ]
  },
  {
   "cell_type": "code",
   "execution_count": 13,
   "id": "05a4ce55",
   "metadata": {},
   "outputs": [
    {
     "name": "stdout",
     "output_type": "stream",
     "text": [
      "<class '__main__.Book'>\n",
      "<class '__main__.Newspaper'>\n",
      "True\n",
      "False\n",
      "True\n",
      "True\n",
      "False\n",
      "True\n"
     ]
    }
   ],
   "source": [
    "# Python Object Oriented Programming by Joe Marini course example\n",
    "# Checking class types and instances\n",
    "\n",
    "\n",
    "class Book:\n",
    "    def __init__(self, title):\n",
    "        self.title = title\n",
    "\n",
    "\n",
    "class Newspaper:\n",
    "    def __init__(self, name):\n",
    "        self.name = name\n",
    "\n",
    "\n",
    "# Create some instances of the classes\n",
    "b1 = Book(\"The Catcher In The Rye\")\n",
    "b2 = Book(\"The Grapes of Wrath\")\n",
    "n1 = Newspaper(\"The Washington Post\")\n",
    "n2 = Newspaper(\"The New York Times\")\n",
    "\n",
    "# TODO: use type() to inspect the object type\n",
    "print(type(b1))\n",
    "print(type(n1))\n",
    "# TODO: compare two types together\n",
    "print(type(b1) == type(b2))\n",
    "print(type(b1) == type(n2))\n",
    "\n",
    "# TODO: use isinstance to compare a specific instance to a known type\n",
    "print(isinstance(b1, Book))\n",
    "print(isinstance(n1, Newspaper))\n",
    "print(isinstance(n1, Book))\n",
    "print(isinstance(b1, object))"
   ]
  },
  {
   "cell_type": "markdown",
   "id": "39c08b4e",
   "metadata": {},
   "source": [
    "# class_start"
   ]
  },
  {
   "cell_type": "code",
   "execution_count": 21,
   "id": "f869a4b9",
   "metadata": {},
   "outputs": [
    {
     "name": "stdout",
     "output_type": "stream",
     "text": [
      "Book type:  ('HARDCOVER', 'PAPERBACK', 'EBOOK')\n",
      "[<__main__.Book object at 0x7f78183da640>, <__main__.Book object at 0x7f78183da4f0>]\n",
      "[<__main__.Book object at 0x7f78183da640>, <__main__.Book object at 0x7f78183da4f0>]\n"
     ]
    }
   ],
   "source": [
    "# Python Object Oriented Programming by Joe Marini course example\n",
    "# Using class-level and static methods\n",
    "\n",
    "\n",
    "class Book:\n",
    "    # TODO: Properties defined at the class level are shared by all instances\n",
    "    BOOK_TYPES = (\"HARDCOVER\", \"PAPERBACK\", \"EBOOK\")\n",
    "    # TODO: double-underscore properties are hidden from other classes\n",
    "    __booklist = None\n",
    "    # TODO: create a class method\n",
    "    #works on a class instance not an object instance\n",
    "    @classmethod\n",
    "    def getbooktype(cls):\n",
    "        return cls.BOOK_TYPES\n",
    "    # TODO: create a static method\n",
    "    #don't modify the state\n",
    "    #if you don't need to access any properties of an object or class\n",
    "    #like global function\n",
    "    @staticmethod\n",
    "    def getbooklist():\n",
    "        if Book.__booklist == None:\n",
    "            Book.__booklist = []\n",
    "        return Book.__booklist\n",
    "    \n",
    "    # instance methods receive a specific object instance as an argument\n",
    "    # and operate on data specific to that object instance\n",
    "    def setTitle(self, newtitle):\n",
    "        self.title = newtitle\n",
    "\n",
    "    def __init__(self, title, booktype):\n",
    "        self.title = title\n",
    "        if(not booktype in Book.BOOK_TYPES):\n",
    "            raise ValueError(f\"{booktype} is not a valid book type\")\n",
    "        else:\n",
    "            self.booktype = booktype\n",
    "\n",
    "\n",
    "# TODO: access the class attribute\n",
    "print(\"Book type: \", Book.getbooktype())\n",
    "\n",
    "# TODO: Create some book instances\n",
    "b1 = Book(\"Title 1\", \"EBOOK\")\n",
    "b2 = Book(\"Title 2\", \"HARDCOVER\")\n",
    "\n",
    "# TODO: Use the static method to access a singleton object\n",
    "thebooks = Book.getbooklist()\n",
    "thebooks.append(b1)\n",
    "thebooks.append(b2)\n",
    "print(thebooks)\n",
    "thebooks2 = Book.getbooklist()\n",
    "print(thebooks2)"
   ]
  },
  {
   "cell_type": "markdown",
   "id": "b17b484a",
   "metadata": {},
   "source": [
    "# inheretance_start"
   ]
  },
  {
   "cell_type": "code",
   "execution_count": 23,
   "id": "38ad0446",
   "metadata": {},
   "outputs": [
    {
     "name": "stdout",
     "output_type": "stream",
     "text": [
      "Aldous Huxley\n",
      "New York Times Company\n",
      "29.0 5.99 6.0\n"
     ]
    }
   ],
   "source": [
    "# Python Object Oriented Programming by Joe Marini course example\n",
    "# Understanding class inheritance\n",
    "class Publication:\n",
    "    def __init__(self, title, price):\n",
    "        self.title = title\n",
    "        self.price = price\n",
    "\n",
    "class Periodical(Publication):\n",
    "    def __init__(self, title, price, period, publisher):\n",
    "        super().__init__(title, price)\n",
    "        self.period = period\n",
    "        self.publisher = publisher\n",
    "        \n",
    "class Book(Publication):\n",
    "    def __init__(self, title, author, pages, price):\n",
    "        super().__init__(title, price)\n",
    "        self.author = author\n",
    "        self.pages = pages\n",
    "\n",
    "\n",
    "class Magazine(Periodical):\n",
    "    def __init__(self, title, publisher, price, period):\n",
    "        super().__init__(title, price, period, publisher)\n",
    "\n",
    "\n",
    "class Newspaper(Periodical):\n",
    "    def __init__(self, title, publisher, price, period):\n",
    "        super().__init__(title, price, period, publisher)\n",
    "\n",
    "\n",
    "b1 = Book(\"Brave New World\", \"Aldous Huxley\", 311, 29.0)\n",
    "n1 = Newspaper(\"NY Times\", \"New York Times Company\", 6.0, \"Daily\")\n",
    "m1 = Magazine(\"Scientific American\", \"Springer Nature\", 5.99, \"Monthly\")\n",
    "\n",
    "print(b1.author)\n",
    "print(n1.publisher)\n",
    "print(b1.price, m1.price, n1.price)\n"
   ]
  },
  {
   "cell_type": "markdown",
   "id": "2696f894",
   "metadata": {},
   "source": [
    "# abstract_start"
   ]
  },
  {
   "cell_type": "code",
   "execution_count": 25,
   "id": "9eef236e",
   "metadata": {},
   "outputs": [
    {
     "name": "stdout",
     "output_type": "stream",
     "text": [
      "314.0\n",
      "144\n"
     ]
    }
   ],
   "source": [
    "# Python Object Oriented Programming by Joe Marini course example\n",
    "# Using Abstract Base Classes to enforce class constraints\n",
    "from abc import ABC, abstractmethod\n",
    "\n",
    "#ABC abstract base class\n",
    "class GraphicShape(ABC):\n",
    "    def __init__(self):\n",
    "        super().__init__()\n",
    "\n",
    "    #each subclass has to implemennt this\n",
    "    #we can't instanstiate this class\n",
    "    @abstractmethod\n",
    "    def calcArea(self):\n",
    "        pass\n",
    "\n",
    "\n",
    "class Circle(GraphicShape):\n",
    "    def __init__(self, radius):\n",
    "        self.radius = radius\n",
    "    #has to be implemented\n",
    "    def calcArea(self):\n",
    "        return 3.14*(self.radius**2)\n",
    "\n",
    "\n",
    "class Square(GraphicShape):\n",
    "    def __init__(self, side):\n",
    "        self.side = side\n",
    "    def calcArea(self):\n",
    "        return self.side * self.side\n",
    "\n",
    "#error\n",
    "#g = GraphicShape()\n",
    "\n",
    "c = Circle(10)\n",
    "print(c.calcArea())\n",
    "s = Square(12)\n",
    "print(s.calcArea())\n"
   ]
  },
  {
   "cell_type": "markdown",
   "id": "5b151e0d",
   "metadata": {},
   "source": [
    "# multiple_start"
   ]
  },
  {
   "cell_type": "code",
   "execution_count": 30,
   "id": "91a73318",
   "metadata": {},
   "outputs": [
    {
     "name": "stdout",
     "output_type": "stream",
     "text": [
      "foo\n",
      "bar\n",
      "Class A\n",
      "(<class '__main__.C'>, <class '__main__.A'>, <class '__main__.B'>, <class 'object'>)\n"
     ]
    }
   ],
   "source": [
    "# Python Object Oriented Programming by Joe Marini course example\n",
    "# Understanding multiple inheritance\n",
    "\n",
    "\n",
    "class A:\n",
    "    def __init__(self):\n",
    "        super().__init__()\n",
    "        self.foo = \"foo\"\n",
    "        self.name = \"Class A\"\n",
    "\n",
    "\n",
    "class B:\n",
    "    def __init__(self):\n",
    "        super().__init__()\n",
    "        self.bar = \"bar\"\n",
    "        self.name = \"Class B\"\n",
    "\n",
    "\n",
    "class C(A, B):\n",
    "    def __init__(self):\n",
    "        super().__init__()\n",
    "        \n",
    "    def showprops(self):\n",
    "        print(self.foo)\n",
    "        print(self.bar)\n",
    "        #prints A since A is written first in inheretance (A,B)\n",
    "        print(self.name)\n",
    "\n",
    "\n",
    "c = C()\n",
    "c.showprops()\n",
    "print(C.__mro__) #order"
   ]
  },
  {
   "cell_type": "markdown",
   "id": "9505538b",
   "metadata": {},
   "source": [
    "# interface_start"
   ]
  },
  {
   "cell_type": "code",
   "execution_count": 37,
   "id": "f280996e",
   "metadata": {},
   "outputs": [
    {
     "name": "stdout",
     "output_type": "stream",
     "text": [
      "314.0\n",
      "{\"circle\" : 314.0 }\n"
     ]
    }
   ],
   "source": [
    "# Python Object Oriented Programming by Joe Marini course example\n",
    "# Using Abstract Base Classes to implement interfaces\n",
    "\n",
    "from abc import ABC, abstractmethod\n",
    "\n",
    "class JSONify(ABC):\n",
    "    @abstractmethod\n",
    "    def toJSON(self):\n",
    "        pass\n",
    "\n",
    "class GraphicShape(ABC):\n",
    "    def __init__(self):\n",
    "        super().__init__()\n",
    "\n",
    "    @abstractmethod\n",
    "    def calcArea(self):\n",
    "        pass\n",
    "\n",
    "\n",
    "class Circle(GraphicShape, JSONify):\n",
    "    def __init__(self, radius):\n",
    "        self.radius = radius\n",
    "\n",
    "    def calcArea(self):\n",
    "        return 3.14 * (self.radius ** 2)\n",
    "\n",
    "    def toJSON(self):\n",
    "        return f\"{{\\\"circle\\\" : {str(self.calcArea())} }}\"\n",
    "\n",
    "c = Circle(10)\n",
    "print(c.calcArea())\n",
    "print(c.toJSON())"
   ]
  },
  {
   "cell_type": "markdown",
   "id": "dbf8516f",
   "metadata": {},
   "source": [
    "# composition_start"
   ]
  },
  {
   "cell_type": "code",
   "execution_count": 40,
   "id": "12296ac6",
   "metadata": {},
   "outputs": [
    {
     "name": "stdout",
     "output_type": "stream",
     "text": [
      "Leo Tolstoy\n",
      "War and Peace\n",
      "365\n"
     ]
    }
   ],
   "source": [
    "# Python Object Oriented Programming by Joe Marini course example\n",
    "# Using composition to build complex objects\n",
    "\n",
    "\n",
    "class Book:\n",
    "    def __init__(self, title, price, author= None):\n",
    "        self.title = title\n",
    "        self.price = price\n",
    "\n",
    "        self.author = author\n",
    "        \n",
    "        self.chapters = []\n",
    "\n",
    "    def addchapter(self, chapter):\n",
    "        self.chapters.append(chapter)\n",
    "        \n",
    "    def getbookpagecount(self):\n",
    "        result = 0\n",
    "        for ch in self.chapters:\n",
    "            result += ch.pagecount\n",
    "        return result\n",
    "\n",
    "class Author:\n",
    "    def __init__(self, fname, lname):\n",
    "        self.fname = fname\n",
    "        self.lname = lname\n",
    "        \n",
    "    def __str__(self):\n",
    "        return f\"{self.fname} {self.lname}\"\n",
    "    \n",
    "class Chapter:\n",
    "    def __init__(self, name, pagecount):\n",
    "        self.name = name\n",
    "        self.pagecount = pagecount\n",
    "\n",
    "auth = Author(\"Leo\", \"Tolstoy\")\n",
    "b1 = Book(\"War and Peace\", 39.0, auth)\n",
    "\n",
    "b1.addchapter(Chapter(\"Chapter 1\", 125))\n",
    "b1.addchapter(Chapter(\"Chapter 2\", 97))\n",
    "b1.addchapter(Chapter(\"Chapter 3\", 143))\n",
    "\n",
    "print(b1.author)\n",
    "print(b1.title)\n",
    "print(b1.getbookpagecount())"
   ]
  },
  {
   "cell_type": "markdown",
   "id": "a4adbdf0",
   "metadata": {},
   "source": [
    "# magicstr_start"
   ]
  },
  {
   "cell_type": "code",
   "execution_count": 48,
   "id": "b58f63f1",
   "metadata": {},
   "outputs": [
    {
     "name": "stdout",
     "output_type": "stream",
     "text": [
      "War and Peace by Leo Tolstoy, costs 39.95\n",
      "The Catcher in the Rye by JD Salinger, costs 29.95\n",
      "War and Peace by Leo Tolstoy, costs 39.95\n",
      "title = The Catcher in the Rye, author = JD Salinger, price = 29.95\n"
     ]
    }
   ],
   "source": [
    "# Python Object Oriented Programming by Joe Marini course example\n",
    "# Using the __str__ and __repr__ magic methods\n",
    "\n",
    "\n",
    "class Book:\n",
    "    def __init__(self, title, author, price):\n",
    "        super().__init__()\n",
    "        self.title = title\n",
    "        self.author = author\n",
    "        self.price = price\n",
    "\n",
    "    # TODO: use the __str__ method to return a string\n",
    "    # __str__ is used to provide a user friendly string description of the object\n",
    "    #to be displayed to the user\n",
    "    # before implementation <__main__.Book object at 0x7f7818360e20>\n",
    "    # after War and Peace by Leo Tolstoy, costs 39.95\n",
    "    # double__ means it's magic function\n",
    "    def __str__(self):\n",
    "        return f\"{self.title} by {self.author}, costs {self.price}\"\n",
    "    \n",
    "    # TODO: use the __repr__ method to return an obj representation\n",
    "    # generate a more developer-faceing string\n",
    "    # more for debugging\n",
    "    # detailed info\n",
    "    def __repr__(self):\n",
    "        return f\"title = {self.title}, author = {self.author}, price = {self.price}\"\n",
    "\n",
    "b1 = Book(\"War and Peace\", \"Leo Tolstoy\", 39.95)\n",
    "b2 = Book(\"The Catcher in the Rye\", \"JD Salinger\", 29.95)\n",
    "\n",
    "print(b1)#str is used\n",
    "print(b2)\n",
    "print(str(b1))#str is used\n",
    "print(repr(b2))#repr is used"
   ]
  },
  {
   "cell_type": "markdown",
   "id": "50edd8fb",
   "metadata": {},
   "source": [
    "# magiceq_start"
   ]
  },
  {
   "cell_type": "code",
   "execution_count": 53,
   "id": "b5926e1a",
   "metadata": {},
   "outputs": [
    {
     "name": "stdout",
     "output_type": "stream",
     "text": [
      "True\n",
      "True\n",
      "False\n",
      "['To Kill a Mockingbird', 'The Catcher in the Rye', 'War and Peace', 'War and Peace']\n"
     ]
    }
   ],
   "source": [
    "# Python Object Oriented Programming by Joe Marini course example\n",
    "# Using the __str__ and __repr__ magic methods\n",
    "\n",
    "\n",
    "class Book:\n",
    "    def __init__(self, title, author, price):\n",
    "        super().__init__()\n",
    "        self.title = title\n",
    "        self.author = author\n",
    "        self.price = price\n",
    "\n",
    "    # TODO: the __eq__ method checks for equality between two objects\n",
    "    def __eq__(self, value):\n",
    "        if not isinstance(value, Book):\n",
    "            raise ValueError(\"Can't compare book to none book\")\n",
    "        return (self.title == value.title and\n",
    "                self.author  == value.author  and\n",
    "                self.price == value.price) \n",
    "        \n",
    "    # TODO: the __ge__ establishes >= relationship with another obj\n",
    "    def __ge__(self, value):\n",
    "        if not isinstance(value, Book):\n",
    "            raise ValueError(\"Can't compare book to none book\")\n",
    "        return self.price >= value.price\n",
    "    # TODO: the __lt__ establishes < relationship with another obj\n",
    "    def __lt__(self, value):\n",
    "        if not isinstance(value, Book):\n",
    "            raise ValueError(\"Can't compare book to none book\")\n",
    "        return self.price < value.price\n",
    "b1 = Book(\"War and Peace\", \"Leo Tolstoy\", 39.95)\n",
    "b2 = Book(\"The Catcher in the Rye\", \"JD Salinger\", 29.95)\n",
    "b3 = Book(\"War and Peace\", \"Leo Tolstoy\", 39.95)\n",
    "b4 = Book(\"To Kill a Mockingbird\", \"Harper Lee\", 24.95)\n",
    "\n",
    "# TODO: Check for equality\n",
    "print(b1== b3)\n",
    "#false not same in memory we can change __eq__\n",
    "#true after we overide method\n",
    "\n",
    "\n",
    "# TODO: Check for greater and lesser value\n",
    "print(b1 >= b2)\n",
    "print(b1 < b2)\n",
    "# TODO: Now we can sort them too\n",
    "\n",
    "books = [b1, b3, b2, b4]\n",
    "books.sort() #use lessthan operator to sort\n",
    "print([book.title for book in books])"
   ]
  },
  {
   "cell_type": "markdown",
   "id": "c5bd9532",
   "metadata": {},
   "source": [
    "# magicatr_start"
   ]
  },
  {
   "cell_type": "code",
   "execution_count": 58,
   "id": "558b2517",
   "metadata": {},
   "outputs": [
    {
     "name": "stdout",
     "output_type": "stream",
     "text": [
      "War and Peace by Leo Tolstoy, costs 35.055\n",
      "getrandompropis not here!\n"
     ]
    }
   ],
   "source": [
    "# Python Object Oriented Programming by Joe Marini course example\n",
    "# Using the __str__ and __repr__ magic methods\n",
    "\n",
    "\n",
    "class Book:\n",
    "    def __init__(self, title, author, price):\n",
    "        super().__init__()\n",
    "        self.title = title\n",
    "        self.author = author\n",
    "        self.price = price\n",
    "        self._discount = 0.1\n",
    "\n",
    "    # The __str__ function is used to return a user-friendly string\n",
    "    # representation of the object\n",
    "    def __str__(self):\n",
    "        return f\"{self.title} by {self.author}, costs {self.price}\"\n",
    "\n",
    "    # TODO: __getattribute__ called when an attr is retrieved. Don't\n",
    "    # directly access the attr name otherwise a recursive loop is created\n",
    "    def __getattribute__(self, name):\n",
    "        if name == \"price\":\n",
    "            p = super().__getattribute__(\"price\")\n",
    "            d = super().__getattribute__(\"_discount\")\n",
    "            return p - (p*d)\n",
    "        return super().__getattribute__(name)\n",
    "    # TODO: __setattr__ called when an attribute value is set. Don't set the attr\n",
    "    # directly here otherwise a recursive loop causes a crash\n",
    "    def __setattr__(self, name, value):\n",
    "        if name == \"price\":\n",
    "            if type(value) is not float:\n",
    "                raise ValueError(\"The price attr must be float\")\n",
    "        return super().__setattr__(name, value)\n",
    "    # TODO: __getattr__ called when __getattribute__ lookup fails - you can\n",
    "    # pretty much generate attributes on the fly with this method\n",
    "    def __getattr__(self, name):\n",
    "        return name + \" is not here!\"\n",
    "\n",
    "b1 = Book(\"War and Peace\", \"Leo Tolstoy\", 39.95)\n",
    "b2 = Book(\"The Catcher in the Rye\", \"JD Salinger\", 29.95)\n",
    "\n",
    "b1.price = 38.95\n",
    "print(b1)\n",
    "print(b2.getrandomprop)"
   ]
  },
  {
   "cell_type": "markdown",
   "id": "8173039c",
   "metadata": {},
   "source": [
    "# magiccall_start"
   ]
  },
  {
   "cell_type": "code",
   "execution_count": 59,
   "id": "22597285",
   "metadata": {},
   "outputs": [
    {
     "name": "stdout",
     "output_type": "stream",
     "text": [
      "War and Peace by Leo Tolstoy, costs 39.95\n",
      "Anna Karenina by Leo Tolstoy, costs 49.95\n"
     ]
    }
   ],
   "source": [
    "# Python Object Oriented Programming by Joe Marini course example\n",
    "# Using the __str__ and __repr__ magic methods\n",
    "\n",
    "\n",
    "class Book:\n",
    "    def __init__(self, title, author, price):\n",
    "        super().__init__()\n",
    "        self.title = title\n",
    "        self.author = author\n",
    "        self.price = price\n",
    "\n",
    "    def __str__(self):\n",
    "        return f\"{self.title} by {self.author}, costs {self.price}\"\n",
    "\n",
    "    # TODO: the __call__ method can be used to call the object like a function\n",
    "    def __call__(self, title, author, price):\n",
    "        self.title = title\n",
    "        self.author = author\n",
    "        self.price = price\n",
    "\n",
    "b1 = Book(\"War and Peace\", \"Leo Tolstoy\", 39.95)\n",
    "b2 = Book(\"The Catcher in the Rye\", \"JD Salinger\", 29.95)\n",
    "\n",
    "# TODO: call the object as if it were a function\n",
    "print(b1)\n",
    "b1(\"Anna Karenina\", \"Leo Tolstoy\", 49.95)\n",
    "print(b1)"
   ]
  },
  {
   "cell_type": "markdown",
   "id": "6ef8e5d6",
   "metadata": {},
   "source": [
    "# dataclass_start"
   ]
  },
  {
   "cell_type": "code",
   "execution_count": 63,
   "id": "02af452a",
   "metadata": {},
   "outputs": [
    {
     "name": "stdout",
     "output_type": "stream",
     "text": [
      "War and Peace\n",
      "JD Salinger\n",
      "Book(title='War and Peace', author='Leo Tolstoy', pages=1225, price=39.95)\n",
      "True\n",
      "Anna Karenina, by Leo Tolstoy\n"
     ]
    }
   ],
   "source": [
    "# Python Object Oriented Programming by Joe Marini course example\n",
    "# Using data classes to represent data objects\n",
    "from dataclasses import dataclass\n",
    "\n",
    "@dataclass\n",
    "class Book:\n",
    "    title : str\n",
    "    author : str\n",
    "    pages : int\n",
    "    price : float\n",
    "        \n",
    "    def bookinfo(self):\n",
    "        return f\"{self.title}, by {self.author}\"\n",
    "\n",
    "\n",
    "# create some instances\n",
    "b1 = Book(\"War and Peace\", \"Leo Tolstoy\", 1225, 39.95)\n",
    "b2 = Book(\"The Catcher in the Rye\", \"JD Salinger\", 234, 29.95)\n",
    "b3 = Book(\"War and Peace\", \"Leo Tolstoy\", 1225, 39.95)\n",
    "\n",
    "# access fields\n",
    "print(b1.title)\n",
    "print(b2.author)\n",
    "\n",
    "# TODO: print the book itself - dataclasses implement __repr__\n",
    "#automatically implemented\n",
    "print(b1)\n",
    "# TODO: comparing two dataclasses - they implement __eq__\n",
    "print(b1 == b3)\n",
    "\n",
    "# TODO: change some fields\n",
    "b1.title = \"Anna Karenina\"\n",
    "print(b1.bookinfo())"
   ]
  },
  {
   "cell_type": "markdown",
   "id": "12407f36",
   "metadata": {},
   "source": [
    "# postinit_start"
   ]
  },
  {
   "cell_type": "code",
   "execution_count": 65,
   "id": "d639e174",
   "metadata": {},
   "outputs": [
    {
     "name": "stdout",
     "output_type": "stream",
     "text": [
      "War and Peace by Leo Tolstoy\n"
     ]
    }
   ],
   "source": [
    "# Python Object Oriented Programming by Joe Marini course example\n",
    "# Using the postinit function in data classes\n",
    "\n",
    "from dataclasses import dataclass\n",
    "\n",
    "\n",
    "@dataclass\n",
    "class Book:\n",
    "    title: str\n",
    "    author: str\n",
    "    pages: int\n",
    "    price: float\n",
    "\n",
    "    # TODO: the __post_init__ function lets us customize additional properties\n",
    "    # after the object has been initialized via built-in __init__\n",
    "    #will be called for us\n",
    "    def __post_init__(self):\n",
    "        self.description = f\"{self.title} by {self.author}\"\n",
    "\n",
    "# create some Book objects\n",
    "b1 = Book(\"War and Peace\", \"Leo Tolstoy\", 1225, 39.95)\n",
    "b2 = Book(\"The Catcher in the Rye\", \"JD Salinger\", 234, 29.95)\n",
    "\n",
    "# TODO: use the description attribute\n",
    "print(b1.description)"
   ]
  },
  {
   "cell_type": "markdown",
   "id": "54cbc34f",
   "metadata": {},
   "source": [
    "# datadefault_start"
   ]
  },
  {
   "cell_type": "code",
   "execution_count": 69,
   "id": "a6ab6907",
   "metadata": {},
   "outputs": [
    {
     "name": "stdout",
     "output_type": "stream",
     "text": [
      "Book(title='No title', author='No author', pages=0, price=23.0)\n"
     ]
    }
   ],
   "source": [
    "# Python Object Oriented Programming by Joe Marini course example\n",
    "# implementing default values in data classes\n",
    "\n",
    "from dataclasses import dataclass, field\n",
    "import random\n",
    "\n",
    "def price_func():\n",
    "    return float(random.randrange(20,40))\n",
    "\n",
    "@dataclass\n",
    "class Book:\n",
    "    # you can define default values when attributes are declared\n",
    "    title: str = \"No title\"\n",
    "    author: str = \"No author\"\n",
    "    pages: int = 0\n",
    "    #price: float = field(default=0.0) #another way for default values\n",
    "    price: float = field(default_factory= price_func)\n",
    "    #attribute with no default value have to come first\n",
    "        \n",
    "b1 = Book()\n",
    "print(b1)\n"
   ]
  },
  {
   "cell_type": "markdown",
   "id": "68a8303f",
   "metadata": {},
   "source": [
    "# immutable_start"
   ]
  },
  {
   "cell_type": "code",
   "execution_count": 74,
   "id": "673bb1e6",
   "metadata": {},
   "outputs": [
    {
     "name": "stdout",
     "output_type": "stream",
     "text": [
      "Value 1\n"
     ]
    }
   ],
   "source": [
    "# Python Object Oriented Programming by Joe Marini course example\n",
    "# Creating immutable data classes\n",
    "\n",
    "from dataclasses import dataclass\n",
    "\n",
    "#prevents values from being modified\n",
    "@dataclass(frozen = True)  # TODO: \"The \"frozen\" parameter makes the class immutable\n",
    "class ImmutableClass:\n",
    "    value1: str = \"Value 1\"\n",
    "    value2: int = 0\n",
    "    def somefunc(self, value):\n",
    "        self.value2 = value\n",
    "\n",
    "obj = ImmutableClass()\n",
    "print(obj.value1)\n",
    "\n",
    "# TODO: attempting to change the value of an immutable class throws an exception\n",
    "#obj.value2 = 10 error\n",
    "\n",
    "# TODO: even functions within the class can't change anything\n",
    "#obj.somefunc(11)"
   ]
  },
  {
   "cell_type": "code",
   "execution_count": null,
   "id": "d88cdb26",
   "metadata": {},
   "outputs": [],
   "source": []
  }
 ],
 "metadata": {
  "kernelspec": {
   "display_name": "Python 3",
   "language": "python",
   "name": "python3"
  },
  "language_info": {
   "codemirror_mode": {
    "name": "ipython",
    "version": 3
   },
   "file_extension": ".py",
   "mimetype": "text/x-python",
   "name": "python",
   "nbconvert_exporter": "python",
   "pygments_lexer": "ipython3",
   "version": "3.8.8"
  }
 },
 "nbformat": 4,
 "nbformat_minor": 5
}
