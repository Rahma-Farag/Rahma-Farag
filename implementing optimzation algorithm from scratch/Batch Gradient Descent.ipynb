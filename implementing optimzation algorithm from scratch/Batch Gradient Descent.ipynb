{
 "cells": [
  {
   "cell_type": "code",
   "execution_count": 1,
   "id": "6688d019",
   "metadata": {},
   "outputs": [],
   "source": [
    "import numpy as np\n",
    "import pandas as pd\n",
    "import matplotlib.pyplot as plt\n",
    "%matplotlib inline\n",
    "from sklearn.metrics import r2_score\n",
    "import random"
   ]
  },
  {
   "cell_type": "markdown",
   "id": "6cf2aacc",
   "metadata": {},
   "source": [
    "# data"
   ]
  },
  {
   "cell_type": "code",
   "execution_count": 2,
   "id": "39f82a60",
   "metadata": {},
   "outputs": [],
   "source": [
    "data_1d = pd.read_csv('RegData.csv', header=None)\n",
    "X_1d = data_1d[0]\n",
    "y_1d = data_1d[1]"
   ]
  },
  {
   "cell_type": "code",
   "execution_count": 3,
   "id": "ebee4701",
   "metadata": {},
   "outputs": [
    {
     "data": {
      "image/png": "[encoded data removed]",
      "text/plain": [
       "<Figure size 432x288 with 1 Axes>"
      ]
     },
     "metadata": {
      "needs_background": "light"
     },
     "output_type": "display_data"
    }
   ],
   "source": [
    "plt.scatter(X_1d, y_1d)\n",
    "plt.show()"
   ]
  },
  {
   "cell_type": "code",
   "execution_count": 4,
   "id": "a1175e41",
   "metadata": {},
   "outputs": [],
   "source": [
    "data_2d = pd.read_csv('MultipleLR.csv', header=None)\n",
    "X_2d= data_2d.iloc[:,:-1]\n",
    "y_2d = data_2d.iloc[:,-1:]"
   ]
  },
  {
   "cell_type": "markdown",
   "id": "80321584",
   "metadata": {},
   "source": [
    "# batch"
   ]
  },
  {
   "cell_type": "markdown",
   "id": "1204eda4",
   "metadata": {},
   "source": [
    "## Gradient Descent"
   ]
  },
  {
   "cell_type": "code",
   "execution_count": 5,
   "id": "49d99f88",
   "metadata": {},
   "outputs": [],
   "source": [
    "def Gradient_Descent(X, y, n_iters, theta_0=0, theta_1=0, learning_rate=0.001):\n",
    "    # Step1: Initialize parameters (theta_0 & theta_1) with random value or simply zero. \n",
    "    # Also choose the Learning rate.\n",
    "    theta_0, theta_1 = theta_0, theta_1\n",
    "    learning_rate = learning_rate\n",
    "    MSE_list = []\n",
    "    for i in range(0, n_iters):\n",
    "        #Step2: Use (theta_0 & theta_1) to predict the output h(x)= theta_0 + theta_1 * x.\n",
    "        h_theta = theta_0 + theta_1*X\n",
    "\n",
    "        #Step3: Calculate Cost function 𝑱(theta_0,theta_1 ).\n",
    "        m = len(X)\n",
    "        MSE = (1/(2*m))* sum((h_theta - y)**2)\n",
    "        MSE_list.append(MSE)\n",
    "        #Step4: Calculate the gradient.\n",
    "        drev_theta0 = (1/m) * sum(h_theta - y)\n",
    "        drev_theta1 = (1/m) * sum( (h_theta - y)* X)\n",
    "\n",
    "        #Step5: Update the parameters (simultaneously).\n",
    "        theta_0 = theta_0 - learning_rate*drev_theta0\n",
    "        theta_1 = theta_1 - learning_rate*drev_theta1\n",
    "\n",
    "        #Step6: Repeat from 2 to 5 until converge to the minimum or achieve maximum iterations.\n",
    "        #stop condition 1\n",
    "        if (i>0) and (np.abs(MSE_list[-2] - MSE_list[-1]) < 0.00001):\n",
    "            break\n",
    "           \n",
    "        #stop condition 2\n",
    "        theta_vector = [drev_theta0, drev_theta1]\n",
    "        gradient = np.linalg.norm(theta_vector)\n",
    "        if i > 0 and gradient < 0.3:\n",
    "            break\n",
    "        \n",
    "    return theta_0, theta_1, MSE_list"
   ]
  },
  {
   "cell_type": "code",
   "execution_count": 6,
   "id": "7f66aab7",
   "metadata": {},
   "outputs": [],
   "source": [
    "theta_0, theta_1, error_list = Gradient_Descent(X_1d, y_1d, 500, 0, 0, 0.001)"
   ]
  },
  {
   "cell_type": "code",
   "execution_count": 7,
   "id": "45920f50",
   "metadata": {},
   "outputs": [
    {
     "data": {
      "image/png": "[encoded data removed]",
      "text/plain": [
       "<Figure size 432x288 with 1 Axes>"
      ]
     },
     "metadata": {
      "needs_background": "light"
     },
     "output_type": "display_data"
    }
   ],
   "source": [
    "plt.plot(error_list);"
   ]
  },
  {
   "cell_type": "code",
   "execution_count": 8,
   "id": "b2f0fcfb",
   "metadata": {},
   "outputs": [],
   "source": [
    "h_theta = theta_0 + theta_1*X_1d"
   ]
  },
  {
   "cell_type": "code",
   "execution_count": 9,
   "id": "916c4088",
   "metadata": {},
   "outputs": [
    {
     "data": {
      "image/png": "[encoded data removed]",
      "text/plain": [
       "<Figure size 576x432 with 1 Axes>"
      ]
     },
     "metadata": {
      "needs_background": "light"
     },
     "output_type": "display_data"
    }
   ],
   "source": [
    "# Plotting the regression line\n",
    "plt.figure(figsize = (8,6))\n",
    "plt.scatter(X_1d, y_1d, marker='o', color='red')\n",
    "plt.plot(X_1d, h_theta, linestyle='dashed')\n",
    "plt.xlabel(\"X\")\n",
    "plt.ylabel(\"Y\")\n",
    "plt.show()"
   ]
  },
  {
   "cell_type": "code",
   "execution_count": null,
   "id": "f6ac7882",
   "metadata": {},
   "outputs": [],
   "source": []
  },
  {
   "cell_type": "markdown",
   "id": "33c2e9af",
   "metadata": {},
   "source": [
    "## momentum + batch"
   ]
  },
  {
   "cell_type": "code",
   "execution_count": 10,
   "id": "56956884",
   "metadata": {},
   "outputs": [],
   "source": [
    "def Momentum_Batch(X, y, n_iters, learning_rate=0.001, gamma=0.9):\n",
    "    # Step1: Initialize parameters (theta_0 & theta_1) with random value or simply zero. \n",
    "    # Also choose the Learning rate.\n",
    "    theta_0, theta_1 = 0, 0\n",
    "    v_theta0, v_theta1  = 0, 0\n",
    "    learning_rate = learning_rate\n",
    "    gamma = gamma\n",
    "    \n",
    "    m = len(X)\n",
    "    MSE_list = []\n",
    "    for i in range(0, n_iters):\n",
    "        #Step2: Use (theta_0 & theta_1) to predict the output h(x)= theta_0 + theta_1 * x.\n",
    "        h_theta = theta_0 + theta_1*X\n",
    "        \n",
    "        #Step4: Calculate the gradient.\n",
    "        drev_theta0 = (1/m) * sum(h_theta - y)\n",
    "        drev_theta1 = (1/m) * sum( (h_theta - y)* X)\n",
    "\n",
    "        #Step5: Update the parameters (simultaneously).\n",
    "        v_theta0 = gamma*v_theta0 + learning_rate*drev_theta0\n",
    "        v_theta1 = gamma*v_theta1 + learning_rate*drev_theta1\n",
    "        \n",
    "        theta_0 = theta_0 - v_theta0\n",
    "        theta_1 = theta_1 - v_theta1\n",
    "\n",
    "        #Repeat from 2 to 5 until converge to the minimum or achieve maximum iterations.\n",
    "        \n",
    "        #Calculate Cost function 𝑱(theta_0,theta_1 ).\n",
    "        m = len(X)\n",
    "        MSE = (1/(2*m))* sum((h_theta - y)**2)\n",
    "        MSE_list.append(MSE)\n",
    "        #stop condition 1\n",
    "        if (i>0) and (np.abs(MSE_list[-2] - MSE_list[-1]) < 0.00001):\n",
    "            break\n",
    "           \n",
    "        #stop condition 2\n",
    "        theta_vector = [drev_theta0, drev_theta1]\n",
    "        gradient = np.linalg.norm(theta_vector)\n",
    "        if i > 0 and gradient < 0.3:\n",
    "            break\n",
    "        \n",
    "    return theta_0, theta_1, MSE_list"
   ]
  },
  {
   "cell_type": "code",
   "execution_count": 11,
   "id": "26d16a6d",
   "metadata": {},
   "outputs": [],
   "source": [
    "theta_0, theta_1, error_list = Momentum_Batch(X_1d, y_1d, 1000, 0.001, 0.9)"
   ]
  },
  {
   "cell_type": "code",
   "execution_count": 12,
   "id": "b537f87b",
   "metadata": {},
   "outputs": [],
   "source": [
    "h_theta = theta_0 + theta_1*X_1d"
   ]
  },
  {
   "cell_type": "code",
   "execution_count": 13,
   "id": "c0f0bcb7",
   "metadata": {},
   "outputs": [
    {
     "data": {
      "image/png": "[encoded data removed]",
      "text/plain": [
       "<Figure size 432x288 with 1 Axes>"
      ]
     },
     "metadata": {
      "needs_background": "light"
     },
     "output_type": "display_data"
    }
   ],
   "source": [
    "plt.plot(error_list);"
   ]
  },
  {
   "cell_type": "code",
   "execution_count": 14,
   "id": "c87d51f0",
   "metadata": {},
   "outputs": [
    {
     "data": {
      "image/png": "[encoded data removed]",
      "text/plain": [
       "<Figure size 576x432 with 1 Axes>"
      ]
     },
     "metadata": {
      "needs_background": "light"
     },
     "output_type": "display_data"
    }
   ],
   "source": [
    "# Plotting the regression line\n",
    "plt.figure(figsize = (8,6))\n",
    "plt.scatter(X_1d, y_1d, marker='o', color='red')\n",
    "plt.plot(X_1d, h_theta)\n",
    "plt.xlabel(\"X\")\n",
    "plt.ylabel(\"Y\")\n",
    "plt.show()"
   ]
  },
  {
   "cell_type": "code",
   "execution_count": null,
   "id": "76914cb8",
   "metadata": {},
   "outputs": [],
   "source": []
  },
  {
   "cell_type": "code",
   "execution_count": null,
   "id": "4dee841d",
   "metadata": {},
   "outputs": [],
   "source": []
  },
  {
   "cell_type": "markdown",
   "id": "b2638ee6",
   "metadata": {},
   "source": [
    "## batch + NAG"
   ]
  },
  {
   "cell_type": "code",
   "execution_count": 15,
   "id": "9b4bc9bb",
   "metadata": {},
   "outputs": [],
   "source": [
    "def NAG_Batch(X, y, n_iters, learning_rate=0.001, gamma=0.9):\n",
    "    # Step1: Initialize parameters (theta_0 & theta_1) with random value or simply zero. \n",
    "    # Also choose the Learning rate.\n",
    "    theta_0, theta_1 = 0, 0\n",
    "    v_theta0, v_theta1  = 0, 0\n",
    "    theta_temp0, theta_temp1 = 0, 0\n",
    "    \n",
    "    learning_rate = learning_rate\n",
    "    gamma = gamma\n",
    "    \n",
    "    m = len(X)\n",
    "    MSE_list = []\n",
    "    for i in range(0, n_iters):\n",
    "        #look ahead step\n",
    "        theta_temp0 = theta_0 - gamma*v_theta0\n",
    "        theta_temp1 = theta_1 - gamma*v_theta1\n",
    "      \n",
    "        h_theta = theta_temp0 + theta_temp1*X\n",
    "        #Step4: Calculate the gradient at new point based on momentum.\n",
    "        drev_theta_temp0 = (1/m) * sum(h_theta - y)\n",
    "        drev_theta_temp1 = (1/m) * sum( (h_theta - y)* X)\n",
    "\n",
    "        #Step5: Update the parameters (simultaneously).\n",
    "        theta_0 = theta_temp0 - learning_rate*drev_theta_temp0\n",
    "        theta_1 = theta_temp1 - learning_rate*drev_theta_temp1\n",
    "    \n",
    "        v_theta0 = gamma*v_theta0 + learning_rate*drev_theta_temp0\n",
    "        v_theta1 = gamma*v_theta1 + learning_rate*drev_theta_temp1\n",
    "\n",
    "        #Repeat from 2 to 5 until converge to the minimum or achieve maximum iterations.\n",
    "        \n",
    "        #Calculate Cost function 𝑱(theta_0,theta_1 ).\n",
    "        h_theta = theta_0 + theta_1*X\n",
    "        MSE = (1/(2*m))* sum((h_theta - y)**2)\n",
    "        MSE_list.append(MSE)\n",
    "        #stop condition 1\n",
    "        if (i>0) and (np.abs(MSE_list[-2] - MSE_list[-1]) < 0.001):\n",
    "            break\n",
    "           \n",
    "        #stop condition 2\n",
    "        theta_vector = [drev_theta_temp0, drev_theta_temp1]\n",
    "        gradient = np.linalg.norm(theta_vector)\n",
    "        if i > 0 and gradient < 0.01:\n",
    "            break\n",
    "        \n",
    "    return theta_0, theta_1, MSE_list"
   ]
  },
  {
   "cell_type": "code",
   "execution_count": 16,
   "id": "5743a6f5",
   "metadata": {},
   "outputs": [],
   "source": [
    "theta_0, theta_1, error_list = NAG_Batch(X_1d, y_1d, 1000, 0.001, 0.9)"
   ]
  },
  {
   "cell_type": "code",
   "execution_count": 17,
   "id": "28d6e925",
   "metadata": {},
   "outputs": [],
   "source": [
    "h_theta = theta_0 + theta_1*X_1d"
   ]
  },
  {
   "cell_type": "code",
   "execution_count": 18,
   "id": "8fece5a4",
   "metadata": {},
   "outputs": [
    {
     "data": {
      "image/png": "[encoded data removed]",
      "text/plain": [
       "<Figure size 432x288 with 1 Axes>"
      ]
     },
     "metadata": {
      "needs_background": "light"
     },
     "output_type": "display_data"
    }
   ],
   "source": [
    "plt.plot(error_list);"
   ]
  },
  {
   "cell_type": "code",
   "execution_count": 19,
   "id": "b2daae57",
   "metadata": {},
   "outputs": [
    {
     "data": {
      "image/png": "[encoded data removed]",
      "text/plain": [
       "<Figure size 576x432 with 1 Axes>"
      ]
     },
     "metadata": {
      "needs_background": "light"
     },
     "output_type": "display_data"
    }
   ],
   "source": [
    "# Plotting the regression line\n",
    "plt.figure(figsize = (8,6))\n",
    "plt.scatter(X_1d, y_1d, marker='o', color='red')\n",
    "plt.plot(X_1d, h_theta)\n",
    "plt.xlabel(\"X\")\n",
    "plt.ylabel(\"Y\")\n",
    "plt.show()"
   ]
  },
  {
   "cell_type": "code",
   "execution_count": null,
   "id": "a35acbd5",
   "metadata": {},
   "outputs": [],
   "source": []
  },
  {
   "cell_type": "markdown",
   "id": "022317bb",
   "metadata": {},
   "source": [
    "## adagrad + batch"
   ]
  },
  {
   "cell_type": "code",
   "execution_count": 20,
   "id": "2da649f0",
   "metadata": {},
   "outputs": [],
   "source": [
    "def adagrad_Batch(X, y, n_iters, learning_rate=0.001):\n",
    "    # Step1: Initialize parameters (theta_0 & theta_1) with random value or simply zero. \n",
    "    # Also choose the Learning rate.\n",
    "    theta_0, theta_1 = 0, 0\n",
    "    v_theta0, v_theta1  = 0, 0\n",
    "    epsilon = 10**(-8)\n",
    "    learning_rate = learning_rate\n",
    "\n",
    "    m = len(X)\n",
    "    MSE_list = []\n",
    "    for i in range(0, n_iters):\n",
    "      \n",
    "        h_theta = theta_0 + theta_1*X\n",
    "        #Step4: Calculate the gradient at new point based on momentum.\n",
    "        drev_theta0 = (1/m) * sum(h_theta - y)\n",
    "        drev_theta1 = (1/m) * sum( (h_theta - y)* X)\n",
    "\n",
    "        #Step5: Update the parameters (simultaneously).\n",
    "        v_theta0 = v_theta0 + (drev_theta0)**2\n",
    "        v_theta1 = v_theta1 + (drev_theta1)**2\n",
    "        \n",
    "        \n",
    "        theta_0 = theta_0 - (learning_rate/((v_theta0)**0.5 +epsilon) )*drev_theta0\n",
    "        theta_1 = theta_1 - (learning_rate/((v_theta1)**0.5 +epsilon) )*drev_theta1\n",
    "\n",
    "\n",
    "        #Repeat from 2 to 5 until converge to the minimum or achieve maximum iterations.\n",
    "        \n",
    "        #Calculate Cost function 𝑱(theta_0,theta_1 ).\n",
    "        h_theta = theta_0 + theta_1*X\n",
    "        MSE = (1/(2*m))* sum((h_theta - y)**2)\n",
    "        MSE_list.append(MSE)\n",
    "        #stop condition 1\n",
    "        if (i>0) and (np.abs(MSE_list[-2] - MSE_list[-1]) < 0.001):\n",
    "            break\n",
    "           \n",
    "        #stop condition 2\n",
    "        theta_vector = [drev_theta0, drev_theta1]\n",
    "        gradient = np.linalg.norm(theta_vector)\n",
    "        if i > 0 and gradient < 0.01:\n",
    "            break\n",
    "        \n",
    "    return theta_0, theta_1, MSE_list"
   ]
  },
  {
   "cell_type": "code",
   "execution_count": 21,
   "id": "b2f88200",
   "metadata": {},
   "outputs": [],
   "source": [
    "theta_0, theta_1, error_list = adagrad_Batch(X_1d, y_1d, 1000, 0.1)\n",
    "# we need to increase the learning rate as this has a disadvantage of agressively killing the gradient"
   ]
  },
  {
   "cell_type": "code",
   "execution_count": 22,
   "id": "d08d1b50",
   "metadata": {},
   "outputs": [],
   "source": [
    "h_theta = theta_0 + theta_1*X_1d"
   ]
  },
  {
   "cell_type": "code",
   "execution_count": 23,
   "id": "ba5f73c4",
   "metadata": {},
   "outputs": [
    {
     "data": {
      "image/png": "[encoded data removed]",
      "text/plain": [
       "<Figure size 432x288 with 1 Axes>"
      ]
     },
     "metadata": {
      "needs_background": "light"
     },
     "output_type": "display_data"
    }
   ],
   "source": [
    "plt.plot(error_list);"
   ]
  },
  {
   "cell_type": "code",
   "execution_count": 24,
   "id": "6a02bce6",
   "metadata": {},
   "outputs": [
    {
     "data": {
      "image/png": "[encoded data removed]",
      "text/plain": [
       "<Figure size 576x432 with 1 Axes>"
      ]
     },
     "metadata": {
      "needs_background": "light"
     },
     "output_type": "display_data"
    }
   ],
   "source": [
    "# Plotting the regression line\n",
    "plt.figure(figsize = (8,6))\n",
    "plt.scatter(X_1d, y_1d, marker='o', color='red')\n",
    "plt.plot(X_1d, h_theta)\n",
    "plt.xlabel(\"X\")\n",
    "plt.ylabel(\"Y\")\n",
    "plt.show()"
   ]
  },
  {
   "cell_type": "code",
   "execution_count": null,
   "id": "02cfd852",
   "metadata": {},
   "outputs": [],
   "source": []
  },
  {
   "cell_type": "markdown",
   "id": "ca0c38fd",
   "metadata": {},
   "source": [
    "## Rmsprop"
   ]
  },
  {
   "cell_type": "code",
   "execution_count": 25,
   "id": "16e14373",
   "metadata": {},
   "outputs": [],
   "source": [
    "#solve the problem of killing the learning rate"
   ]
  },
  {
   "cell_type": "code",
   "execution_count": 26,
   "id": "e1e68005",
   "metadata": {},
   "outputs": [],
   "source": [
    "def Rmsprop_Batch(X, y, n_iters, learning_rate=0.001, beta=0.9):\n",
    "    # Step1: Initialize parameters (theta_0 & theta_1) with random value or simply zero. \n",
    "    # Also choose the Learning rate.\n",
    "    theta_0, theta_1 = 0, 0\n",
    "    v_theta0, v_theta1  = 0, 0\n",
    "    epsilon = 10**(-8)\n",
    "    learning_rate = learning_rate\n",
    "    beta = beta\n",
    "    \n",
    "    m = len(X)\n",
    "    MSE_list = []\n",
    "    for i in range(0, n_iters):\n",
    "      \n",
    "        h_theta = theta_0 + theta_1*X\n",
    "        #Step4: Calculate the gradient at new point based on momentum.\n",
    "        drev_theta0 = (1/m) * sum(h_theta - y)\n",
    "        drev_theta1 = (1/m) * sum( (h_theta - y)* X)\n",
    "\n",
    "        #Step5: Update the parameters (simultaneously).\n",
    "        v_theta0 = beta*v_theta0 + (1-beta)*(drev_theta0)**2\n",
    "        v_theta1 = beta*v_theta1 + (1-beta)*(drev_theta1)**2\n",
    "        \n",
    "        \n",
    "        theta_0 = theta_0 - (learning_rate/((v_theta0)**0.5 +epsilon) )*drev_theta0\n",
    "        theta_1 = theta_1 - (learning_rate/((v_theta1)**0.5 +epsilon) )*drev_theta1\n",
    "\n",
    "\n",
    "        #Repeat from 2 to 5 until converge to the minimum or achieve maximum iterations.\n",
    "        \n",
    "        #Calculate Cost function 𝑱(theta_0,theta_1 ).\n",
    "        h_theta = theta_0 + theta_1*X\n",
    "        MSE = (1/(2*m))* sum((h_theta - y)**2)\n",
    "        MSE_list.append(MSE)\n",
    "\n",
    "        #stop condition 1\n",
    "        if (i>0) and (np.abs(MSE_list[-2] - MSE_list[-1]) < 0.0001):\n",
    "            break\n",
    "           \n",
    "        #stop condition 2\n",
    "        theta_vector = [drev_theta0, drev_theta1]\n",
    "        gradient = np.linalg.norm(theta_vector)\n",
    "        if i > 0 and gradient < 0.01:\n",
    "            break\n",
    "        \n",
    "    return theta_0, theta_1, MSE_list"
   ]
  },
  {
   "cell_type": "code",
   "execution_count": 27,
   "id": "02953119",
   "metadata": {},
   "outputs": [],
   "source": [
    "theta_0, theta_1, error_list = Rmsprop_Batch(X_1d, y_1d, 1000, 0.01, 0.9)"
   ]
  },
  {
   "cell_type": "code",
   "execution_count": 28,
   "id": "eb55d46d",
   "metadata": {},
   "outputs": [],
   "source": [
    "h_theta = theta_0 + theta_1*X_1d"
   ]
  },
  {
   "cell_type": "code",
   "execution_count": 29,
   "id": "36c0e238",
   "metadata": {},
   "outputs": [
    {
     "data": {
      "image/png": "[encoded data removed]",
      "text/plain": [
       "<Figure size 432x288 with 1 Axes>"
      ]
     },
     "metadata": {
      "needs_background": "light"
     },
     "output_type": "display_data"
    }
   ],
   "source": [
    "plt.plot(error_list);"
   ]
  },
  {
   "cell_type": "code",
   "execution_count": 30,
   "id": "ff064ea2",
   "metadata": {},
   "outputs": [
    {
     "data": {
      "image/png": "[encoded data removed]",
      "text/plain": [
       "<Figure size 576x432 with 1 Axes>"
      ]
     },
     "metadata": {
      "needs_background": "light"
     },
     "output_type": "display_data"
    }
   ],
   "source": [
    "# Plotting the regression line\n",
    "plt.figure(figsize = (8,6))\n",
    "plt.scatter(X_1d, y_1d, marker='o', color='red')\n",
    "plt.plot(X_1d, h_theta)\n",
    "plt.xlabel(\"X\")\n",
    "plt.ylabel(\"Y\")\n",
    "plt.show()"
   ]
  },
  {
   "cell_type": "code",
   "execution_count": null,
   "id": "e5feff76",
   "metadata": {},
   "outputs": [],
   "source": []
  },
  {
   "cell_type": "code",
   "execution_count": null,
   "id": "7f51e78d",
   "metadata": {},
   "outputs": [],
   "source": []
  },
  {
   "cell_type": "markdown",
   "id": "c85af335",
   "metadata": {},
   "source": [
    "## batch + adam"
   ]
  },
  {
   "cell_type": "code",
   "execution_count": 31,
   "id": "0fd06176",
   "metadata": {},
   "outputs": [],
   "source": [
    "def adam_Batch(X, y, n_iters, learning_rate=0.001, beta1=0.9, beta2=0.99):\n",
    "    # Step1: Initialize parameters (theta_0 & theta_1) with random value or simply zero. \n",
    "    # Also choose the Learning rate.\n",
    "    theta_0, theta_1 = 0, 0\n",
    "    v_theta0, v_theta1  = 0, 0\n",
    "    m_theta0, m_theta1 = 0, 0\n",
    "    epsilon = 10**(-8)\n",
    "    learning_rate = learning_rate\n",
    "    beta1 = beta1\n",
    "    beta2 = beta2\n",
    "    \n",
    "    m = len(X)\n",
    "    MSE_list = []\n",
    "    for i in range(0, n_iters):\n",
    "      \n",
    "        h_theta = theta_0 + theta_1*X\n",
    "        #Step4: Calculate the gradient at new point based on momentum.\n",
    "        drev_theta0 = (1/m) * sum(h_theta - y)\n",
    "        drev_theta1 = (1/m) * sum( (h_theta - y)* X)\n",
    "\n",
    "        #Step5: Update the parameters (simultaneously).\n",
    "        #momentum\n",
    "        m_theta0 = beta1*m_theta0 + (1-beta1)*drev_theta0\n",
    "        m_theta1 = beta1*m_theta1 + (1-beta1)*drev_theta1\n",
    "        #rms effective learning rate\n",
    "        #dec learning rate for large gradient\n",
    "        #inc learning rate for small gradient\n",
    "        v_theta0 = beta2*v_theta0 + (1-beta2)*(drev_theta0)**2\n",
    "        v_theta1 = beta2*v_theta1 + (1-beta2)*(drev_theta1)**2\n",
    "        \n",
    "        theta_0 = theta_0 - ((learning_rate* m_theta0) / ((v_theta0)**0.5 +epsilon))\n",
    "        theta_1 = theta_1 - ((learning_rate* m_theta1) / ((v_theta1)**0.5 +epsilon))\n",
    "\n",
    "\n",
    "        #Repeat from 2 to 5 until converge to the minimum or achieve maximum iterations.\n",
    "        \n",
    "        #Calculate Cost function 𝑱(theta_0,theta_1 ).\n",
    "        h_theta = theta_0 + theta_1*X\n",
    "        MSE = (1/(2*m))* sum((h_theta - y)**2)\n",
    "        MSE_list.append(MSE)\n",
    "\n",
    "        #stop condition 1\n",
    "        if (i>0) and (np.abs(MSE_list[-2] - MSE_list[-1]) < 0.0001):\n",
    "            break\n",
    "           \n",
    "        #stop condition 2\n",
    "        theta_vector = [drev_theta0, drev_theta1]\n",
    "        gradient = np.linalg.norm(theta_vector)\n",
    "        if i > 0 and gradient < 0.01:\n",
    "            break\n",
    "        \n",
    "    return theta_0, theta_1, MSE_list"
   ]
  },
  {
   "cell_type": "code",
   "execution_count": 32,
   "id": "11f9ba0b",
   "metadata": {},
   "outputs": [],
   "source": [
    "theta_0, theta_1, error_list = adam_Batch(X_1d, y_1d, 2000, 0.001, 0.9, 0.99)"
   ]
  },
  {
   "cell_type": "code",
   "execution_count": 33,
   "id": "167346be",
   "metadata": {},
   "outputs": [],
   "source": [
    "h_theta = theta_0 + theta_1*X_1d"
   ]
  },
  {
   "cell_type": "code",
   "execution_count": 34,
   "id": "03b61e04",
   "metadata": {},
   "outputs": [
    {
     "data": {
      "image/png": "[encoded data removed]",
      "text/plain": [
       "<Figure size 432x288 with 1 Axes>"
      ]
     },
     "metadata": {
      "needs_background": "light"
     },
     "output_type": "display_data"
    }
   ],
   "source": [
    "plt.plot(error_list);"
   ]
  },
  {
   "cell_type": "code",
   "execution_count": 35,
   "id": "8cb9844e",
   "metadata": {},
   "outputs": [
    {
     "data": {
      "image/png": "[encoded data removed]",
      "text/plain": [
       "<Figure size 576x432 with 1 Axes>"
      ]
     },
     "metadata": {
      "needs_background": "light"
     },
     "output_type": "display_data"
    }
   ],
   "source": [
    "# Plotting the regression line\n",
    "plt.figure(figsize = (8,6))\n",
    "plt.scatter(X_1d, y_1d, marker='o', color='red')\n",
    "plt.plot(X_1d, h_theta)\n",
    "plt.xlabel(\"X\")\n",
    "plt.ylabel(\"Y\")\n",
    "plt.show()"
   ]
  },
  {
   "cell_type": "markdown",
   "id": "15992b88",
   "metadata": {},
   "source": [
    "## bias correction"
   ]
  },
  {
   "cell_type": "code",
   "execution_count": 36,
   "id": "38c873f8",
   "metadata": {},
   "outputs": [],
   "source": [
    "def adam_Batch_biascorr(X, y, n_iters, learning_rate=0.001, beta1=0.9, beta2=0.99):\n",
    "    # Step1: Initialize parameters (theta_0 & theta_1) with random value or simply zero. \n",
    "    # Also choose the Learning rate.\n",
    "    theta_0, theta_1 = 0, 0\n",
    "    v_theta0, v_theta1  = 0, 0\n",
    "    m_theta0, m_theta1 = 0, 0\n",
    "    epsilon = 10**(-8)\n",
    "    learning_rate = learning_rate\n",
    "    beta1 = beta1\n",
    "    beta2 = beta2\n",
    "    \n",
    "    m = len(X)\n",
    "    MSE_list = []\n",
    "    for i in range(0, n_iters):\n",
    "      \n",
    "        h_theta = theta_0 + theta_1*X\n",
    "        #Step4: Calculate the gradient at new point based on momentum.\n",
    "        drev_theta0 = (1/m) * sum(h_theta - y)\n",
    "        drev_theta1 = (1/m) * sum( (h_theta - y)* X)\n",
    "\n",
    "        #Step5: Update the parameters (simultaneously).\n",
    "        #momentum\n",
    "        m_theta0 = beta1*m_theta0 + (1-beta1)*drev_theta0\n",
    "        m_theta1 = beta1*m_theta1 + (1-beta1)*drev_theta1\n",
    "        \n",
    "        m0_update = m_theta0/(1-beta1**(i+1))\n",
    "        m1_update = m_theta1/(1-beta1**(i+1))\n",
    "        \n",
    "        #rms effective learning rate\n",
    "        #dec learning rate for large gradient\n",
    "        #inc learning rate for small gradient\n",
    "        v_theta0 = beta2*v_theta0 + (1-beta2)*(drev_theta0)**2\n",
    "        v_theta1 = beta2*v_theta1 + (1-beta2)*(drev_theta1)**2\n",
    "        \n",
    "        v0_update = v_theta0/(1-beta2**(i+1))\n",
    "        v1_update = v_theta1/(1-beta2**(i+1))\n",
    "        \n",
    "        theta_0 = theta_0 - ((learning_rate* m0_update) / ((v0_update)**0.5 +epsilon))\n",
    "        theta_1 = theta_1 - ((learning_rate* m1_update) / ((v1_update)**0.5 +epsilon))\n",
    "\n",
    "\n",
    "        #Repeat from 2 to 5 until converge to the minimum or achieve maximum iterations.\n",
    "        \n",
    "        #Calculate Cost function 𝑱(theta_0,theta_1 ).\n",
    "        h_theta = theta_0 + theta_1*X\n",
    "        MSE = (1/(2*m))* sum((h_theta - y)**2)\n",
    "        MSE_list.append(MSE)\n",
    "\n",
    "        #stop condition 1\n",
    "        if (i>0) and (np.abs(MSE_list[-2] - MSE_list[-1]) < 0.000001):\n",
    "            break\n",
    "           \n",
    "        #stop condition 2\n",
    "        theta_vector = [drev_theta0, drev_theta1]\n",
    "        gradient = np.linalg.norm(theta_vector)\n",
    "        if i > 0 and gradient < 0.0001:\n",
    "            break\n",
    "        \n",
    "    return theta_0, theta_1, MSE_list"
   ]
  },
  {
   "cell_type": "code",
   "execution_count": 37,
   "id": "8828a682",
   "metadata": {},
   "outputs": [],
   "source": [
    "theta_0, theta_1, error_list = adam_Batch_biascorr(X_1d, y_1d, 10000, 0.001, 0.9, 0.99)"
   ]
  },
  {
   "cell_type": "code",
   "execution_count": 38,
   "id": "9484cfd1",
   "metadata": {},
   "outputs": [],
   "source": [
    "h_theta = theta_0 + theta_1*X_1d"
   ]
  },
  {
   "cell_type": "code",
   "execution_count": 39,
   "id": "f1d07b7f",
   "metadata": {},
   "outputs": [
    {
     "data": {
      "text/plain": [
       "0.8212557062252392"
      ]
     },
     "execution_count": 39,
     "metadata": {},
     "output_type": "execute_result"
    }
   ],
   "source": [
    "r2_score(y_1d, h_theta)"
   ]
  },
  {
   "cell_type": "code",
   "execution_count": 40,
   "id": "8f277362",
   "metadata": {},
   "outputs": [
    {
     "data": {
      "image/png": "[encoded data removed]",
      "text/plain": [
       "<Figure size 432x288 with 1 Axes>"
      ]
     },
     "metadata": {
      "needs_background": "light"
     },
     "output_type": "display_data"
    }
   ],
   "source": [
    "plt.plot(error_list);"
   ]
  },
  {
   "cell_type": "code",
   "execution_count": 41,
   "id": "d63433de",
   "metadata": {},
   "outputs": [
    {
     "data": {
      "image/png": "[encoded data removed]",
      "text/plain": [
       "<Figure size 576x432 with 1 Axes>"
      ]
     },
     "metadata": {
      "needs_background": "light"
     },
     "output_type": "display_data"
    }
   ],
   "source": [
    "# Plotting the regression line\n",
    "plt.figure(figsize = (8,6))\n",
    "plt.scatter(X_1d, y_1d, marker='o', color='red')\n",
    "plt.plot(X_1d, h_theta)\n",
    "plt.xlabel(\"X\")\n",
    "plt.ylabel(\"Y\")\n",
    "plt.show()"
   ]
  },
  {
   "cell_type": "markdown",
   "id": "05cdec37",
   "metadata": {},
   "source": [
    "# multi variable"
   ]
  },
  {
   "cell_type": "code",
   "execution_count": 392,
   "id": "288e0fce",
   "metadata": {},
   "outputs": [],
   "source": [
    "def GD_MV(X, y, n_iters, learning_rate=0.001):\n",
    "    X = X.values\n",
    "    y = y.values\n",
    "    # Step1: Initialize parameters (theta_0 & theta_1) with random value or simply zero. \n",
    "    # Also choose the Learning rate.\n",
    "    theta = np.zeros([X.shape[1],1])\n",
    "    learning_rate = learning_rate\n",
    "    MSE_list = []\n",
    "    for i in range(0, n_iters):\n",
    "        #Step2: Use (theta_0 & theta_1) to predict the output h(x)= theta_0 + theta_1 * x.\n",
    "        h_theta = X@theta\n",
    "\n",
    "        #Step3: Calculate Cost function 𝑱(theta_0,theta_1 ).\n",
    "        m = len(X)\n",
    "        err = h_theta - y\n",
    "        MSE = (1/(2*m))*((err.T) @ err)\n",
    "        MSE_list.append(MSE[0][0])\n",
    "        #Step4: Calculate the gradient.\n",
    "        drev = (1/m)* (X.T @ err)\n",
    "        # drev -> 4,1\n",
    "\n",
    "        #Step5: Update the parameters (simultaneously).\n",
    "        theta = theta - learning_rate*drev\n",
    "        #theta -> 4,1\n",
    "\n",
    "        #Step6: Repeat from 2 to 5 until converge to the minimum or achieve maximum iterations.\n",
    "        #stop condition 1\n",
    "        if (i>0) and (np.abs(MSE_list[-2] - MSE_list[-1]) < 0.1):\n",
    "            break\n",
    "           \n",
    "        #stop condition 2\n",
    "        gradient = np.linalg.norm(theta)\n",
    "        if i > 0 and gradient < 0.01:\n",
    "            break\n",
    "        \n",
    "    return theta, MSE_list"
   ]
  },
  {
   "cell_type": "code",
   "execution_count": 393,
   "id": "31957ad2",
   "metadata": {},
   "outputs": [],
   "source": [
    "theta , error_list = GD_MV(X_2d, y_2d, 1000, learning_rate=0.0001)"
   ]
  },
  {
   "cell_type": "code",
   "execution_count": 394,
   "id": "536002d9",
   "metadata": {},
   "outputs": [],
   "source": [
    "h_theta = X_2d@theta"
   ]
  },
  {
   "cell_type": "code",
   "execution_count": 395,
   "id": "0fecb582",
   "metadata": {},
   "outputs": [
    {
     "data": {
      "image/png": "[encoded data removed]",
      "text/plain": [
       "<Figure size 432x288 with 1 Axes>"
      ]
     },
     "metadata": {
      "needs_background": "light"
     },
     "output_type": "display_data"
    }
   ],
   "source": [
    "plt.plot(error_list);"
   ]
  },
  {
   "cell_type": "code",
   "execution_count": null,
   "id": "ce053166",
   "metadata": {},
   "outputs": [],
   "source": []
  }
 ],
 "metadata": {
  "kernelspec": {
   "display_name": "Python 3 (ipykernel)",
   "language": "python",
   "name": "python3"
  },
  "language_info": {
   "codemirror_mode": {
    "name": "ipython",
    "version": 3
   },
   "file_extension": ".py",
   "mimetype": "text/x-python",
   "name": "python",
   "nbconvert_exporter": "python",
   "pygments_lexer": "ipython3",
   "version": "3.8.8"
  }
 },
 "nbformat": 4,
 "nbformat_minor": 5
}
