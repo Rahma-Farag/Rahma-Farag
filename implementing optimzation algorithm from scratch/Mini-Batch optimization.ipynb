{
 "cells": [
  {
   "cell_type": "code",
   "execution_count": 1,
   "id": "6688d019",
   "metadata": {},
   "outputs": [],
   "source": [
    "import numpy as np\n",
    "import pandas as pd\n",
    "import matplotlib.pyplot as plt\n",
    "%matplotlib inline\n",
    "from sklearn.metrics import r2_score\n",
    "import random"
   ]
  },
  {
   "cell_type": "markdown",
   "id": "6cf2aacc",
   "metadata": {},
   "source": [
    "# data"
   ]
  },
  {
   "cell_type": "code",
   "execution_count": 2,
   "id": "39f82a60",
   "metadata": {},
   "outputs": [],
   "source": [
    "data_1d = pd.read_csv('RegData.csv', header=None)\n",
    "X_1d = data_1d[0]\n",
    "y_1d = data_1d[1]"
   ]
  },
  {
   "cell_type": "code",
   "execution_count": 3,
   "id": "ebee4701",
   "metadata": {},
   "outputs": [
    {
     "data": {
      "image/png": "[encoded data removed]",
      "text/plain": [
       "<Figure size 432x288 with 1 Axes>"
      ]
     },
     "metadata": {
      "needs_background": "light"
     },
     "output_type": "display_data"
    }
   ],
   "source": [
    "plt.scatter(X_1d, y_1d)\n",
    "plt.show()"
   ]
  },
  {
   "cell_type": "code",
   "execution_count": 4,
   "id": "a1175e41",
   "metadata": {},
   "outputs": [],
   "source": [
    "data_2d = pd.read_csv('MultipleLR.csv', header=None)\n",
    "X_2d= data_2d.iloc[:,:-1]\n",
    "y_2d = data_2d.iloc[:,-1:]"
   ]
  },
  {
   "cell_type": "markdown",
   "id": "4a028a21",
   "metadata": {},
   "source": [
    "# minibatch"
   ]
  },
  {
   "cell_type": "code",
   "execution_count": 5,
   "id": "f55ab80d",
   "metadata": {},
   "outputs": [],
   "source": [
    "def slicing(X, y, size):\n",
    "    i=0\n",
    "    slices_X = []\n",
    "    slices_y = []\n",
    "    while(i<len(X)):\n",
    "        if (i+size) > len(X):\n",
    "            slices_X.append(X[i:])\n",
    "            slices_y.append(y[i:])\n",
    "            break\n",
    "        else:\n",
    "            slices_X.append(X[i:i+size])\n",
    "            slices_y.append(y[i:i+size])\n",
    "            i+=size\n",
    "    return slices_X, slices_y"
   ]
  },
  {
   "cell_type": "code",
   "execution_count": 6,
   "id": "614db481",
   "metadata": {},
   "outputs": [
    {
     "data": {
      "text/plain": [
       "(    0   1    2\n",
       " 3  96  98  100\n",
       " 4  73  66   70\n",
       " 5  53  46   55,\n",
       "      0   1   2\n",
       " 9   79  70  88\n",
       " 10  69  70  73\n",
       " 11  70  65  74,\n",
       "     0   1   2\n",
       " 0  73  80  75\n",
       " 1  93  88  93\n",
       " 2  89  91  90,\n",
       "      0   1   2\n",
       " 21  86  82  89\n",
       " 22  78  83  85\n",
       " 23  76  83  71,\n",
       "      0   1   2\n",
       " 18  88  92  86\n",
       " 19  78  83  77\n",
       " 20  82  86  90,\n",
       "      0   1   2\n",
       " 24  96  93  95,\n",
       "      0   1   2\n",
       " 12  93  95  91\n",
       " 13  79  80  73\n",
       " 14  70  73  78,\n",
       "     0   1   2\n",
       " 6  69  74  77\n",
       " 7  47  56  60\n",
       " 8  87  79  90,\n",
       "      0   1   2\n",
       " 15  93  89  96\n",
       " 16  78  75  68\n",
       " 17  81  90  93)"
      ]
     },
     "execution_count": 6,
     "metadata": {},
     "output_type": "execute_result"
    }
   ],
   "source": [
    "x_s, y_s = slicing(X_2d, y_2d, 3)\n",
    "#shuffle batches\n",
    "c = list(zip(x_s, y_s))\n",
    "random.shuffle(c)\n",
    "x_s, y_s = zip(*c)\n",
    "x_s"
   ]
  },
  {
   "cell_type": "code",
   "execution_count": 7,
   "id": "eaa662ae",
   "metadata": {},
   "outputs": [
    {
     "data": {
      "text/plain": [
       "([0    2.9\n",
       "  1    6.7\n",
       "  2    4.9\n",
       "  3    7.9\n",
       "  4    9.8\n",
       "  5    6.9\n",
       "  6    6.1\n",
       "  Name: 0, dtype: float64,\n",
       "  7     6.2\n",
       "  8     6.0\n",
       "  9     5.1\n",
       "  10    4.7\n",
       "  11    4.4\n",
       "  12    5.8\n",
       "  Name: 0, dtype: float64],\n",
       " [0    4.0\n",
       "  1    7.4\n",
       "  2    5.0\n",
       "  3    7.2\n",
       "  4    7.9\n",
       "  5    6.1\n",
       "  6    6.0\n",
       "  Name: 1, dtype: float64,\n",
       "  7     5.8\n",
       "  8     5.2\n",
       "  9     4.2\n",
       "  10    4.0\n",
       "  11    4.4\n",
       "  12    5.2\n",
       "  Name: 1, dtype: float64])"
      ]
     },
     "execution_count": 7,
     "metadata": {},
     "output_type": "execute_result"
    }
   ],
   "source": [
    "slicing(X_1d, y_1d, 7)"
   ]
  },
  {
   "cell_type": "code",
   "execution_count": 8,
   "id": "2e4ab881",
   "metadata": {},
   "outputs": [],
   "source": [
    "def GD_minibatch(X, Y, n_iters, theta_0=0, theta_1=0, learning_rate=0.001, batch_size=3):\n",
    "    # Step1: Initialize parameters (theta_0 & theta_1) with random value or simply zero. \n",
    "    # Also choose the Learning rate.\n",
    "    theta_0, theta_1 = theta_0, theta_1\n",
    "    learning_rate = learning_rate\n",
    "    MSE_list = []\n",
    "    x_slices, y_slices = slicing(X, Y, batch_size)\n",
    "    for i in range(0, n_iters):\n",
    "        if len(MSE_list)>0:\n",
    "            loss_batch = MSE_list[-1]\n",
    "        for x, y in zip(x_slices,y_slices):\n",
    "            #Step2: Use (theta_0 & theta_1) to predict the output h(x)= theta_0 + theta_1 * x.\n",
    "            h_theta = theta_0 + theta_1*x\n",
    "\n",
    "            #Step3: Calculate Cost function 𝑱(theta_0,theta_1 ).\n",
    "            m = len(x)\n",
    "            MSE = (1/(2*m))* sum((h_theta - y)**2)\n",
    "            MSE_list.append(MSE)\n",
    "            #Step4: Calculate the gradient.\n",
    "            drev_theta0 = (1/m) * sum(h_theta - y)\n",
    "            drev_theta1 = (1/m) * sum( (h_theta - y)* x)\n",
    "\n",
    "            #Step5: Update the parameters (simultaneously).\n",
    "            theta_0 = theta_0 - learning_rate*drev_theta0\n",
    "            theta_1 = theta_1 - learning_rate*drev_theta1\n",
    "\n",
    "        #Step6: Repeat from 2 to 5 until converge to the minimum or achieve maximum iterations.\n",
    "        #stop condition 1\n",
    "        if (i>0) and (np.abs(loss_batch - MSE_list[-1]) < 0.01):\n",
    "            break\n",
    "\n",
    "        #stop condition 2\n",
    "        theta_vector = [drev_theta0, drev_theta1]\n",
    "        gradient = np.linalg.norm(theta_vector)\n",
    "        if i > 0 and gradient < 0.3:\n",
    "            break\n",
    "        \n",
    "    return theta_0, theta_1, MSE_list"
   ]
  },
  {
   "cell_type": "code",
   "execution_count": 9,
   "id": "c1a38bba",
   "metadata": {},
   "outputs": [],
   "source": [
    "theta_0, theta_1, error_list = GD_minibatch(X_1d, y_1d, 2000, 0, 0, 0.001, 2)"
   ]
  },
  {
   "cell_type": "code",
   "execution_count": 10,
   "id": "6a52e008",
   "metadata": {},
   "outputs": [],
   "source": [
    "h_theta = theta_0 + theta_1*X_1d"
   ]
  },
  {
   "cell_type": "code",
   "execution_count": 11,
   "id": "aaa50d25",
   "metadata": {},
   "outputs": [
    {
     "data": {
      "image/png": "[encoded data removed]",
      "text/plain": [
       "<Figure size 432x288 with 1 Axes>"
      ]
     },
     "metadata": {
      "needs_background": "light"
     },
     "output_type": "display_data"
    }
   ],
   "source": [
    "plt.plot(error_list);"
   ]
  },
  {
   "cell_type": "code",
   "execution_count": 12,
   "id": "a9c6f680",
   "metadata": {},
   "outputs": [
    {
     "data": {
      "image/png": "[encoded data removed]",
      "text/plain": [
       "<Figure size 576x432 with 1 Axes>"
      ]
     },
     "metadata": {
      "needs_background": "light"
     },
     "output_type": "display_data"
    }
   ],
   "source": [
    "# Plotting the regression line\n",
    "plt.figure(figsize = (8,6))\n",
    "plt.scatter(X_1d, y_1d, marker='o', color='red')\n",
    "plt.plot(X_1d, h_theta)\n",
    "plt.xlabel(\"X\")\n",
    "plt.ylabel(\"Y\")\n",
    "plt.show()"
   ]
  },
  {
   "cell_type": "markdown",
   "id": "05cdec37",
   "metadata": {},
   "source": [
    "# multi variable"
   ]
  },
  {
   "cell_type": "code",
   "execution_count": 13,
   "id": "b5c1e136",
   "metadata": {},
   "outputs": [],
   "source": [
    "def GD_MV_MB(X, Y, n_iters, learning_rate=0.001, batch_size = 3):\n",
    "    X = X.values\n",
    "    Y = Y.values\n",
    "    # Step1: Initialize parameters (theta_0 & theta_1) with random value or simply zero. \n",
    "    # Also choose the Learning rate.\n",
    "    theta = np.zeros([X.shape[1],1])\n",
    "    learning_rate = learning_rate\n",
    "    MSE_list = []\n",
    "    x_slices, y_slices = slicing(X, Y, batch_size)\n",
    "    for i in range(0, n_iters):\n",
    "        if len(MSE_list)>0:\n",
    "            loss_batch = MSE_list[-1]\n",
    "        for x, y in zip(x_slices,y_slices):\n",
    "            #Step2: Use (theta_0 & theta_1) to predict the output h(x)= theta_0 + theta_1 * x.\n",
    "            h_theta = x@theta\n",
    "#             print(x.shape) #batch_size * m\n",
    "#             print(theta.shape) # m * 1 \n",
    "#             print(h_theta.shape) # batch_size * 1\n",
    "            #Step3: Calculate Cost function 𝑱(theta_0,theta_1 ).\n",
    "            m = len(X)\n",
    "            err = h_theta - y\n",
    "            MSE = (1/(2*m))*((err.T) @ err)\n",
    "            MSE_list.append(MSE[0][0])\n",
    "            #Step4: Calculate the gradient.\n",
    "            drev = (1/m)* (x.T @ err)\n",
    "            # drev -> 4,1\n",
    "\n",
    "            #Step5: Update the parameters (simultaneously).\n",
    "            theta = theta - learning_rate*drev\n",
    "            #theta -> 4,1\n",
    "\n",
    "        #Step6: Repeat from 2 to 5 until converge to the minimum or achieve maximum iterations.\n",
    "        #stop condition 1\n",
    "        if (i>0) and (np.abs(loss_batch - MSE_list[-1]) < 0.0001):\n",
    "            break\n",
    "           \n",
    "        #stop condition 2\n",
    "        gradient = np.linalg.norm(theta)\n",
    "        if i > 0 and gradient < 0.1:\n",
    "            break\n",
    "        \n",
    "    return theta, MSE_list"
   ]
  },
  {
   "cell_type": "code",
   "execution_count": 14,
   "id": "5d4a8291",
   "metadata": {},
   "outputs": [],
   "source": [
    "theta, error_list = GD_MV_MB(X_2d, y_2d, 1000,0.0001, 4)"
   ]
  },
  {
   "cell_type": "code",
   "execution_count": 15,
   "id": "0595879d",
   "metadata": {},
   "outputs": [],
   "source": [
    "h_theta = X_2d@theta"
   ]
  },
  {
   "cell_type": "code",
   "execution_count": 16,
   "id": "1011486d",
   "metadata": {},
   "outputs": [
    {
     "data": {
      "image/png": "[encoded data removed]",
      "text/plain": [
       "<Figure size 432x288 with 1 Axes>"
      ]
     },
     "metadata": {
      "needs_background": "light"
     },
     "output_type": "display_data"
    }
   ],
   "source": [
    "plt.plot(error_list);"
   ]
  },
  {
   "cell_type": "markdown",
   "id": "afe724f0",
   "metadata": {},
   "source": [
    "# multivarible + minibatch + nag"
   ]
  },
  {
   "cell_type": "code",
   "execution_count": 17,
   "id": "7d938c0a",
   "metadata": {},
   "outputs": [],
   "source": [
    "def Nag_MV_MB(X, Y, n_iters, learning_rate=0.001, batch_size = 3, gamma=0.9):\n",
    "    X = X.values\n",
    "    Y = Y.values\n",
    "    # Step1: Initialize parameters (theta_0 & theta_1) with random value or simply zero. \n",
    "    # Also choose the Learning rate.\n",
    "    theta = np.zeros([X.shape[1],1])\n",
    "    v_theta = np.zeros([X.shape[1],1])\n",
    "    learning_rate = learning_rate\n",
    "    gamma = gamma\n",
    "    \n",
    "    \n",
    "    MSE_list = []\n",
    "    x_slices, y_slices = slicing(X, Y, batch_size)\n",
    "    for i in range(0, n_iters):\n",
    "        if len(MSE_list)>0:\n",
    "            loss_batch = MSE_list[-1]\n",
    "        for x, y in zip(x_slices,y_slices):\n",
    "            m = len(x)\n",
    "            #Step2: Use (theta_0 & theta_1) to predict the output h(x)= theta_0 + theta_1 * x.\n",
    "            theta_temp = theta - gamma*v_theta\n",
    "            h_theta = x@theta_temp\n",
    "            \n",
    "            err = h_theta - y\n",
    "            drev_theta_temp = (1/m)* (x.T @ err)\n",
    "            \n",
    "            theta = theta_temp - learning_rate*drev_theta_temp\n",
    "            v_theta = gamma*v_theta + learning_rate*drev_theta_temp\n",
    "            \n",
    "            h_theta = x@theta\n",
    "            err = h_theta - y\n",
    "            MSE = (1/(2*m))*((err.T) @ err)\n",
    "            MSE_list.append(MSE[0][0])\n",
    "\n",
    "        #Step6: Repeat from 2 to 5 until converge to the minimum or achieve maximum iterations.\n",
    "        #stop condition 1\n",
    "        if (i>0) and (np.abs(loss_batch - MSE_list[-1]) < 0.0001):\n",
    "            break\n",
    "           \n",
    "        #stop condition 2\n",
    "        gradient = np.linalg.norm(theta)\n",
    "        if i > 0 and gradient < 0.1:\n",
    "            break\n",
    "        \n",
    "    return theta, MSE_list"
   ]
  },
  {
   "cell_type": "code",
   "execution_count": 18,
   "id": "03b6ec8b",
   "metadata": {},
   "outputs": [],
   "source": [
    "theta, error_list = Nag_MV_MB(X_2d, y_2d, 1000, 0.00001, 4, gamma=0.9)"
   ]
  },
  {
   "cell_type": "code",
   "execution_count": 19,
   "id": "d50a48a1",
   "metadata": {},
   "outputs": [
    {
     "data": {
      "text/plain": [
       "[<matplotlib.lines.Line2D at 0x7fba6397fdc0>]"
      ]
     },
     "execution_count": 19,
     "metadata": {},
     "output_type": "execute_result"
    },
    {
     "data": {
      "image/png": "[encoded data removed]",
      "text/plain": [
       "<Figure size 432x288 with 1 Axes>"
      ]
     },
     "metadata": {
      "needs_background": "light"
     },
     "output_type": "display_data"
    }
   ],
   "source": [
    "plt.plot(error_list)"
   ]
  },
  {
   "cell_type": "code",
   "execution_count": 20,
   "id": "2b4eaa46",
   "metadata": {},
   "outputs": [],
   "source": [
    "h_theta = X_2d@theta"
   ]
  },
  {
   "cell_type": "code",
   "execution_count": 21,
   "id": "9b50b086",
   "metadata": {},
   "outputs": [
    {
     "data": {
      "text/plain": [
       "0.9815035782277367"
      ]
     },
     "execution_count": 21,
     "metadata": {},
     "output_type": "execute_result"
    }
   ],
   "source": [
    "r2_score(y_2d, h_theta)"
   ]
  },
  {
   "cell_type": "code",
   "execution_count": null,
   "id": "2308714c",
   "metadata": {},
   "outputs": [],
   "source": []
  },
  {
   "cell_type": "markdown",
   "id": "0b3e6a2d",
   "metadata": {},
   "source": [
    "# multivariable + minibatch + adagrad"
   ]
  },
  {
   "cell_type": "code",
   "execution_count": 22,
   "id": "3afe8997",
   "metadata": {},
   "outputs": [],
   "source": [
    "def adagrad_MV_MB(X, Y, n_iters, learning_rate=0.001, batch_size = 3):\n",
    "    X = X.values\n",
    "    Y = Y.values\n",
    "    # Step1: Initialize parameters (theta_0 & theta_1) with random value or simply zero. \n",
    "    # Also choose the Learning rate.\n",
    "    theta = np.zeros([X.shape[1],1])\n",
    "    v_theta = np.zeros([X.shape[1],1])\n",
    "    learning_rate = learning_rate\n",
    "    \n",
    "    epsilon = 10**(-8)\n",
    "    MSE_list = []\n",
    "    x_slices, y_slices = slicing(X, Y, batch_size)\n",
    "    for i in range(0, n_iters):\n",
    "        if len(MSE_list)>0:\n",
    "            loss_batch = MSE_list[-1]\n",
    "        for x, y in zip(x_slices,y_slices):\n",
    "            m = len(x)\n",
    "            #Step2: Use (theta_0 & theta_1) to predict the output h(x)= theta_0 + theta_1 * x.\n",
    "\n",
    "            h_theta = x@theta\n",
    "            err = h_theta - y\n",
    "            drev_theta = (1/m)* (x.T @ err)\n",
    "\n",
    "            v_theta = v_theta + (drev_theta**2)\n",
    "            \n",
    "            theta = theta - (learning_rate/ ((v_theta**0.5)+epsilon))*drev_theta\n",
    "            \n",
    "            \n",
    "            h_theta = x@theta\n",
    "            err = h_theta - y\n",
    "            MSE = (1/(2*m))*((err.T) @ err)\n",
    "            MSE_list.append(MSE[0][0])\n",
    "\n",
    "        #Step6: Repeat from 2 to 5 until converge to the minimum or achieve maximum iterations.\n",
    "        #stop condition 1\n",
    "        if (i>0) and (np.abs(loss_batch - MSE_list[-1]) < 0.1):\n",
    "            break\n",
    "           \n",
    "        #stop condition 2\n",
    "        gradient = np.linalg.norm(theta)\n",
    "        if i > 0 and gradient < 0.1:\n",
    "            break\n",
    "        \n",
    "    return theta, MSE_list"
   ]
  },
  {
   "cell_type": "code",
   "execution_count": 23,
   "id": "800b06aa",
   "metadata": {},
   "outputs": [],
   "source": [
    "theta, error_list = adagrad_MV_MB(X_2d, y_2d, 10000, 0.01, 4)"
   ]
  },
  {
   "cell_type": "code",
   "execution_count": 24,
   "id": "c86f6c8c",
   "metadata": {},
   "outputs": [
    {
     "data": {
      "image/png": "[encoded data removed]",
      "text/plain": [
       "<Figure size 432x288 with 1 Axes>"
      ]
     },
     "metadata": {
      "needs_background": "light"
     },
     "output_type": "display_data"
    }
   ],
   "source": [
    "plt.plot(error_list);"
   ]
  },
  {
   "cell_type": "code",
   "execution_count": 25,
   "id": "ed4d2dc4",
   "metadata": {},
   "outputs": [],
   "source": [
    "h_theta = X_2d@theta"
   ]
  },
  {
   "cell_type": "code",
   "execution_count": 26,
   "id": "15f6cf75",
   "metadata": {},
   "outputs": [
    {
     "data": {
      "text/plain": [
       "0.9568944767339013"
      ]
     },
     "execution_count": 26,
     "metadata": {},
     "output_type": "execute_result"
    }
   ],
   "source": [
    "r2_score(y_2d, h_theta)"
   ]
  },
  {
   "cell_type": "code",
   "execution_count": null,
   "id": "a6ee9cdb",
   "metadata": {},
   "outputs": [],
   "source": []
  },
  {
   "cell_type": "markdown",
   "id": "f108d44a",
   "metadata": {},
   "source": [
    "# multivariable + minibatch + rms "
   ]
  },
  {
   "cell_type": "code",
   "execution_count": 27,
   "id": "7e45cb4c",
   "metadata": {},
   "outputs": [],
   "source": [
    "def rms_MV_MB(X, Y, n_iters, learning_rate=0.001, batch_size = 3, beta = 0.9):\n",
    "    X = X.values\n",
    "    Y = Y.values\n",
    "    # Step1: Initialize parameters (theta_0 & theta_1) with random value or simply zero. \n",
    "    # Also choose the Learning rate.\n",
    "    theta = np.zeros([X.shape[1],1])\n",
    "    v_theta = np.zeros([X.shape[1],1])\n",
    "    beta= beta\n",
    "    learning_rate = learning_rate\n",
    "    \n",
    "    epsilon = 10**(-8)\n",
    "    MSE_list = []\n",
    "    x_slices, y_slices = slicing(X, Y, batch_size)\n",
    "    for i in range(0, n_iters):\n",
    "        if len(MSE_list)>0:\n",
    "            loss_batch = MSE_list[-1]\n",
    "        for x, y in zip(x_slices,y_slices):\n",
    "            m = len(x)\n",
    "            #Step2: Use (theta_0 & theta_1) to predict the output h(x)= theta_0 + theta_1 * x.\n",
    "\n",
    "            h_theta = x@theta\n",
    "            err = h_theta - y\n",
    "            drev_theta = (1/m)* (x.T @ err)\n",
    "\n",
    "            v_theta = (beta*v_theta) + ((1-beta)*(drev_theta**2))\n",
    "            \n",
    "            theta = theta - (learning_rate/ ((v_theta**0.5)+epsilon))*drev_theta\n",
    "            \n",
    "            \n",
    "            h_theta = x@theta\n",
    "            err = h_theta - y\n",
    "            MSE = (1/(2*m))*((err.T) @ err)\n",
    "            MSE_list.append(MSE[0][0])\n",
    "\n",
    "        #Step6: Repeat from 2 to 5 until converge to the minimum or achieve maximum iterations.\n",
    "        #stop condition 1\n",
    "        if (i>0) and (np.abs(loss_batch - MSE_list[-1]) < 0.00001):\n",
    "            break\n",
    "           \n",
    "        #stop condition 2\n",
    "        gradient = np.linalg.norm(theta)\n",
    "        if i > 0 and gradient < 0.00001:\n",
    "            break\n",
    "        \n",
    "    return theta, MSE_list"
   ]
  },
  {
   "cell_type": "code",
   "execution_count": 28,
   "id": "7a9af34b",
   "metadata": {},
   "outputs": [],
   "source": [
    "theta , error_list = rms_MV_MB(X_2d, y_2d, 10000, 0.001, 3, 0.9)"
   ]
  },
  {
   "cell_type": "code",
   "execution_count": 29,
   "id": "b666d837",
   "metadata": {},
   "outputs": [
    {
     "data": {
      "image/png": "[encoded data removed]",
      "text/plain": [
       "<Figure size 432x288 with 1 Axes>"
      ]
     },
     "metadata": {
      "needs_background": "light"
     },
     "output_type": "display_data"
    }
   ],
   "source": [
    "plt.plot(error_list);"
   ]
  },
  {
   "cell_type": "code",
   "execution_count": 30,
   "id": "0a2d4048",
   "metadata": {},
   "outputs": [
    {
     "data": {
      "text/plain": [
       "0.9784740739693557"
      ]
     },
     "execution_count": 30,
     "metadata": {},
     "output_type": "execute_result"
    }
   ],
   "source": [
    "h_theta = X_2d@theta\n",
    "r2_score(y_2d, h_theta)"
   ]
  },
  {
   "cell_type": "code",
   "execution_count": null,
   "id": "d340179c",
   "metadata": {},
   "outputs": [],
   "source": []
  },
  {
   "cell_type": "markdown",
   "id": "cca5b42f",
   "metadata": {},
   "source": [
    "# multivariate+ minibatch + adam + biascorr"
   ]
  },
  {
   "cell_type": "code",
   "execution_count": 31,
   "id": "69e28ac0",
   "metadata": {},
   "outputs": [],
   "source": [
    "def adam_biascorr_MV_MB(X, Y, n_iters, learning_rate=0.001, batch_size = 3, beta1=0.9, beta2=0.99):\n",
    "    X = X.values\n",
    "    Y = Y.values\n",
    "    # Step1: Initialize parameters (theta_0 & theta_1) with random value or simply zero. \n",
    "    # Also choose the Learning rate.\n",
    "    theta = np.zeros([X.shape[1],1])\n",
    "    v_theta = np.zeros([X.shape[1],1])\n",
    "    m_theta = np.zeros([X.shape[1], 1])\n",
    "    epsilon = 10**(-8)\n",
    "    learning_rate = learning_rate\n",
    "    beta1 = beta1\n",
    "    beta2 = beta2\n",
    "    MSE_list = []\n",
    "    x_slices, y_slices = slicing(X, Y, batch_size)\n",
    "    for i in range(0, n_iters):\n",
    "        if len(MSE_list)>0:\n",
    "            loss_batch = MSE_list[-1]\n",
    "        #shuffle batches\n",
    "        c = list(zip(x_slices, y_slices))\n",
    "        random.shuffle(c)\n",
    "        x_slices, y_slices = zip(*c)\n",
    "        for j, (x, y) in enumerate(zip(x_slices,y_slices)):\n",
    "            h_theta = x@theta\n",
    "            \n",
    "            m = len(x)\n",
    "            err = h_theta - y\n",
    "            #Step4: Calculate the gradient.\n",
    "            drev = (1/m)* (x.T @ err)\n",
    "            # drev -> 4,1\n",
    "\n",
    "            #Step5: Update the parameters (simultaneously).\n",
    "            \n",
    "            m_theta = beta1*m_theta + (1-beta1)* drev\n",
    "            m_theta_corr = m_theta/(1-beta1**((i+1)*(j+1)))\n",
    "            \n",
    "            v_theta = beta2*v_theta + (1-beta2)* (drev**2)\n",
    "            v_theta_corr = v_theta/(1-beta2**((i+1)*(j+1)))\n",
    "            \n",
    "            theta = theta - ( (learning_rate* m_theta_corr)/( (v_theta_corr)**0.5 + epsilon))\n",
    "            \n",
    "            err = h_theta - y\n",
    "            MSE = (1/(2*m))*((err.T) @ err)\n",
    "            MSE_list.append(MSE[0][0])\n",
    "        #Step6: Repeat from 2 to 5 until converge to the minimum or achieve maximum iterations.\n",
    "        #stop condition 1\n",
    "        if (i>0) and (np.abs(loss_batch - MSE_list[-1]) < 0.01) :\n",
    "            break\n",
    "           \n",
    "        #stop condition 2\n",
    "        gradient = np.linalg.norm(theta)\n",
    "        if i > 0 and gradient < 0.001:\n",
    "            break\n",
    "        \n",
    "    return theta, MSE_list"
   ]
  },
  {
   "cell_type": "code",
   "execution_count": 32,
   "id": "294acf9c",
   "metadata": {},
   "outputs": [],
   "source": [
    "theta, error_list = adam_biascorr_MV_MB(X_2d, y_2d, 1000, 0.001, 7, 0.5, 0.9)"
   ]
  },
  {
   "cell_type": "code",
   "execution_count": 33,
   "id": "5e5d5235",
   "metadata": {},
   "outputs": [
    {
     "data": {
      "text/plain": [
       "6.414317623501423"
      ]
     },
     "execution_count": 33,
     "metadata": {},
     "output_type": "execute_result"
    }
   ],
   "source": [
    "error_list[-1]"
   ]
  },
  {
   "cell_type": "code",
   "execution_count": 34,
   "id": "8076ffc2",
   "metadata": {},
   "outputs": [],
   "source": [
    "h_theta = X_2d@theta"
   ]
  },
  {
   "cell_type": "code",
   "execution_count": 35,
   "id": "72b8cdf2",
   "metadata": {},
   "outputs": [
    {
     "data": {
      "image/png": "[encoded data removed]",
      "text/plain": [
       "<Figure size 432x288 with 1 Axes>"
      ]
     },
     "metadata": {
      "needs_background": "light"
     },
     "output_type": "display_data"
    }
   ],
   "source": [
    "plt.plot(error_list);"
   ]
  },
  {
   "cell_type": "code",
   "execution_count": 36,
   "id": "a69f0dee",
   "metadata": {},
   "outputs": [
    {
     "data": {
      "text/plain": [
       "0.978433552248527"
      ]
     },
     "execution_count": 36,
     "metadata": {},
     "output_type": "execute_result"
    }
   ],
   "source": [
    "r2_score(y_2d, h_theta)"
   ]
  },
  {
   "cell_type": "code",
   "execution_count": null,
   "id": "6f2bd0f3",
   "metadata": {},
   "outputs": [],
   "source": []
  },
  {
   "cell_type": "markdown",
   "id": "b764f6c3",
   "metadata": {},
   "source": [
    "# minibatch + adam + biascorrection 1d"
   ]
  },
  {
   "cell_type": "code",
   "execution_count": 159,
   "id": "d95820a1",
   "metadata": {},
   "outputs": [],
   "source": [
    "def adam_biascorr_minibatch(X, Y, n_iters, theta_0=0, theta_1=0, beta1=0.9, beta2=0.99, learning_rate=0.001, batch_size=3):\n",
    "    # Step1: Initialize parameters (theta_0 & theta_1) with random value or simply zero. \n",
    "    # Also choose the Learning rate.\n",
    "    theta_0, theta_1 = 0, 0\n",
    "    v_theta0, v_theta1  = 0, 0\n",
    "    m_theta0, m_theta1 = 0, 0\n",
    "    epsilon = 10**(-8)\n",
    "    learning_rate = learning_rate\n",
    "    beta1 = beta1\n",
    "    beta2 = beta2\n",
    "    \n",
    "    MSE_list = []\n",
    "    x_slices, y_slices = slicing(X, Y, batch_size)\n",
    "    for i in range(0, n_iters):\n",
    "        if len(MSE_list)>0:\n",
    "            loss_batch = MSE_list[-1]\n",
    "        for j, (x, y) in enumerate(zip(x_slices,y_slices)):\n",
    "            #Step2: Use (theta_0 & theta_1) to predict the output h(x)= theta_0 + theta_1 * x.\n",
    "            h_theta = theta_0 + theta_1*x\n",
    "\n",
    "            m = len(x)\n",
    "            #Step4: Calculate the gradient.\n",
    "            drev_theta0 = (1/m) * sum(h_theta - y)\n",
    "            drev_theta1 = (1/m) * sum( (h_theta - y)* x)\n",
    "\n",
    "            #Step5: Update the parameters (simultaneously).\n",
    "            #momentum\n",
    "            m_theta0 = beta1*m_theta0 + (1-beta1)*drev_theta0\n",
    "            m_theta1 = beta1*m_theta1 + (1-beta1)*drev_theta1\n",
    "\n",
    "            m0_update = m_theta0/(1-beta1**((i+1)*(j+1)))\n",
    "            m1_update = m_theta1/(1-beta1**((i+1)*(j+1)))\n",
    "\n",
    "            #rms effective learning rate\n",
    "            #dec learning rate for large gradient\n",
    "            #inc learning rate for small gradient\n",
    "            v_theta0 = beta2*v_theta0 + (1-beta2)*(drev_theta0)**2\n",
    "            v_theta1 = beta2*v_theta1 + (1-beta2)*(drev_theta1)**2\n",
    "\n",
    "            v0_update = v_theta0/(1-beta2**((i+1)*(j+1)))\n",
    "            v1_update = v_theta1/(1-beta2**((i+1)*(j+1)))\n",
    "\n",
    "            theta_0 = theta_0 - ((learning_rate* m0_update) / ((v0_update)**0.5 +epsilon))\n",
    "            theta_1 = theta_1 - ((learning_rate* m1_update) / ((v1_update)**0.5 +epsilon))\n",
    "\n",
    "            #Step: Calculate Cost function 𝑱(theta_0,theta_1 ).\n",
    "            m = len(x)\n",
    "            MSE = (1/(2*m))* sum((h_theta - y)**2)\n",
    "            MSE_list.append(MSE)\n",
    "        #Step6: Repeat from 2 to 5 until converge to the minimum or achieve maximum iterations.\n",
    "        #stop condition 1\n",
    "        if (i>0) and (np.abs(loss_batch - MSE_list[-1]) < 0.0001):\n",
    "            break\n",
    "\n",
    "        #stop condition 2\n",
    "        theta_vector = [drev_theta0, drev_theta1]\n",
    "        gradient = np.linalg.norm(theta_vector)\n",
    "        if (i > 0) and (gradient < 0.001):\n",
    "            break\n",
    "        \n",
    "    return theta_0, theta_1, MSE_list"
   ]
  },
  {
   "cell_type": "code",
   "execution_count": 171,
   "id": "036417e9",
   "metadata": {},
   "outputs": [],
   "source": [
    "theta_0, theta_1, error_list =  adam_biascorr_minibatch(X_1d, y_1d, 10000, theta_0=0, theta_1=0, beta1=0.9, beta2=0.99, learning_rate=0.001, batch_size=3)"
   ]
  },
  {
   "cell_type": "code",
   "execution_count": 172,
   "id": "a54b8cbf",
   "metadata": {},
   "outputs": [],
   "source": [
    "h_theta = theta_0 + theta_1*X_1d"
   ]
  },
  {
   "cell_type": "code",
   "execution_count": 173,
   "id": "c23d0408",
   "metadata": {},
   "outputs": [
    {
     "data": {
      "image/png": "[encoded data removed]",
      "text/plain": [
       "<Figure size 432x288 with 1 Axes>"
      ]
     },
     "metadata": {
      "needs_background": "light"
     },
     "output_type": "display_data"
    }
   ],
   "source": [
    "plt.plot(error_list);"
   ]
  },
  {
   "cell_type": "code",
   "execution_count": 174,
   "id": "67db81f9",
   "metadata": {},
   "outputs": [
    {
     "data": {
      "text/plain": [
       "1.2133036005687968e-05"
      ]
     },
     "execution_count": 174,
     "metadata": {},
     "output_type": "execute_result"
    }
   ],
   "source": [
    "error_list[-1]"
   ]
  },
  {
   "cell_type": "code",
   "execution_count": 164,
   "id": "65c7b6d9",
   "metadata": {},
   "outputs": [
    {
     "data": {
      "text/plain": [
       "0.773310761958647"
      ]
     },
     "execution_count": 164,
     "metadata": {},
     "output_type": "execute_result"
    }
   ],
   "source": [
    "r2_score(y_1d, h_theta)"
   ]
  },
  {
   "cell_type": "code",
   "execution_count": null,
   "id": "ce053166",
   "metadata": {},
   "outputs": [],
   "source": []
  }
 ],
 "metadata": {
  "kernelspec": {
   "display_name": "Python 3 (ipykernel)",
   "language": "python",
   "name": "python3"
  },
  "language_info": {
   "codemirror_mode": {
    "name": "ipython",
    "version": 3
   },
   "file_extension": ".py",
   "mimetype": "text/x-python",
   "name": "python",
   "nbconvert_exporter": "python",
   "pygments_lexer": "ipython3",
   "version": "3.8.8"
  }
 },
 "nbformat": 4,
 "nbformat_minor": 5
}
