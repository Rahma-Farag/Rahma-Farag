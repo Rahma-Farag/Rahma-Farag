{
 "cells": [
  {
   "cell_type": "markdown",
   "id": "e3cd246a",
   "metadata": {},
   "source": [
    "# pick a website and describe your objective"
   ]
  },
  {
   "cell_type": "markdown",
   "id": "5456c846",
   "metadata": {},
   "source": [
    "\n",
    "- Browse through different sites and pick on to scrape. Check the \"Project Ideas\" section for inspiration.\n",
    "- Identify the information you'd like to scrape from the site. Decide the format of the output CSV file.\n",
    "- Summarize your project idea and outline your strategy in a Juptyer notebook. Use the \"New\" button above.\n"
   ]
  },
  {
   "cell_type": "markdown",
   "id": "c1ac2ae9",
   "metadata": {},
   "source": [
    "### outline\n",
    "- first i will scrape https://github.com/topics  \n",
    "- get a list of topics -> topic title, topic page url, and topic description\n",
    "- for each topic get the top 25 repos from topic page\n",
    "- for each repo we will get the repo name, username, stars, repo url\n",
    "- for each topic we will create a csv file"
   ]
  },
  {
   "cell_type": "markdown",
   "id": "bb4d6c4a",
   "metadata": {},
   "source": [
    "# Use the requests library to download web pages\n",
    "\n",
    "-    Inspect the website's HTML source and identify the right URLs to download.\n",
    "-    Download and save web pages locally using the requests library.\n",
    "-    Create a function to automate downloading for different topics/search queries"
   ]
  },
  {
   "cell_type": "code",
   "execution_count": 8,
   "id": "41d201d6",
   "metadata": {},
   "outputs": [],
   "source": [
    "#!pip install requests --quiet\n",
    "import requests"
   ]
  },
  {
   "cell_type": "code",
   "execution_count": 9,
   "id": "0a6c579d",
   "metadata": {},
   "outputs": [],
   "source": [
    "topics_url = 'https://github.com/topics'\n",
    "response = requests.get(topics_url)"
   ]
  },
  {
   "cell_type": "code",
   "execution_count": 10,
   "id": "4fbf5f59",
   "metadata": {},
   "outputs": [
    {
     "data": {
      "text/plain": [
       "200"
      ]
     },
     "execution_count": 10,
     "metadata": {},
     "output_type": "execute_result"
    }
   ],
   "source": [
    "response.status_code #200 - 299 -> successful"
   ]
  },
  {
   "cell_type": "code",
   "execution_count": 11,
   "id": "1722e168",
   "metadata": {},
   "outputs": [
    {
     "data": {
      "text/plain": [
       "139398"
      ]
     },
     "execution_count": 11,
     "metadata": {},
     "output_type": "execute_result"
    }
   ],
   "source": [
    "len(response.text)"
   ]
  },
  {
   "cell_type": "code",
   "execution_count": 14,
   "id": "b61ee9e2",
   "metadata": {},
   "outputs": [],
   "source": [
    "page_content = response.text"
   ]
  },
  {
   "cell_type": "code",
   "execution_count": 15,
   "id": "2a3ff04d",
   "metadata": {},
   "outputs": [],
   "source": [
    "with open('webpage.html', 'w') as f:\n",
    "    f.write(page_content)"
   ]
  },
  {
   "cell_type": "markdown",
   "id": "1abedc92",
   "metadata": {},
   "source": [
    "# Use Beautiful Soup to parse and extract information\n",
    "\n",
    "- Parse and explore the structure of downloaded web pages using Beautiful soup.\n",
    "-  Use the right properties and methods to extract the required information.\n",
    "- Create functions to extract from the page into lists and dictionaries.\n",
    "-(Optional) Use a REST API to acquire additional information if required"
   ]
  },
  {
   "cell_type": "code",
   "execution_count": 19,
   "id": "40a385ca",
   "metadata": {},
   "outputs": [],
   "source": [
    "!pip install beautifulsoup4 --upgrade --quiet"
   ]
  },
  {
   "cell_type": "code",
   "execution_count": 20,
   "id": "046e3aed",
   "metadata": {},
   "outputs": [],
   "source": [
    "from bs4 import BeautifulSoup"
   ]
  },
  {
   "cell_type": "code",
   "execution_count": 23,
   "id": "1b0ca09e",
   "metadata": {},
   "outputs": [],
   "source": [
    "doc = BeautifulSoup(page_content, 'html.parser')"
   ]
  },
  {
   "cell_type": "code",
   "execution_count": 26,
   "id": "e0625a85",
   "metadata": {},
   "outputs": [],
   "source": [
    "selection_class = \"f3 lh-condensed mb-0 mt-1 Link--primary\"\n",
    "topic_title_p_tags = doc.find_all('p', \n",
    "                      {'class': selection_class})"
   ]
  },
  {
   "cell_type": "code",
   "execution_count": 28,
   "id": "2f39ae0b",
   "metadata": {},
   "outputs": [
    {
     "data": {
      "text/plain": [
       "30"
      ]
     },
     "execution_count": 28,
     "metadata": {},
     "output_type": "execute_result"
    }
   ],
   "source": [
    "len(topic_title_p_tags)"
   ]
  },
  {
   "cell_type": "code",
   "execution_count": 30,
   "id": "40a45004",
   "metadata": {},
   "outputs": [],
   "source": [
    "selection_class = \"f5 color-fg-muted mb-0 mt-1\"\n",
    "topic_desc_p_tags = doc.find_all('p', class_=selection_class)"
   ]
  },
  {
   "cell_type": "code",
   "execution_count": 31,
   "id": "26e14669",
   "metadata": {},
   "outputs": [
    {
     "data": {
      "text/plain": [
       "30"
      ]
     },
     "execution_count": 31,
     "metadata": {},
     "output_type": "execute_result"
    }
   ],
   "source": [
    "len(topic_desc_p_tags)"
   ]
  },
  {
   "cell_type": "code",
   "execution_count": 32,
   "id": "ecbf22d3",
   "metadata": {},
   "outputs": [],
   "source": [
    "selection_class = \"no-underline flex-1 d-flex flex-column\"\n",
    "url_a_tag = doc.find_all('a', class_=selection_class)"
   ]
  },
  {
   "cell_type": "code",
   "execution_count": 37,
   "id": "7d33fe80",
   "metadata": {},
   "outputs": [
    {
     "name": "stdout",
     "output_type": "stream",
     "text": [
      "https://github.com/topics/3d\n"
     ]
    }
   ],
   "source": [
    "topic0_url = \"https://github.com\" + url_a_tag[0]['href']\n",
    "print(topic0_url)"
   ]
  },
  {
   "cell_type": "code",
   "execution_count": 38,
   "id": "d201a57d",
   "metadata": {},
   "outputs": [
    {
     "data": {
      "text/plain": [
       "['3D',\n",
       " 'Ajax',\n",
       " 'Algorithm',\n",
       " 'Amp',\n",
       " 'Android',\n",
       " 'Angular',\n",
       " 'Ansible',\n",
       " 'API',\n",
       " 'Arduino',\n",
       " 'ASP.NET',\n",
       " 'Atom',\n",
       " 'Awesome Lists',\n",
       " 'Amazon Web Services',\n",
       " 'Azure',\n",
       " 'Babel',\n",
       " 'Bash',\n",
       " 'Bitcoin',\n",
       " 'Bootstrap',\n",
       " 'Bot',\n",
       " 'C',\n",
       " 'Chrome',\n",
       " 'Chrome extension',\n",
       " 'Command line interface',\n",
       " 'Clojure',\n",
       " 'Code quality',\n",
       " 'Code review',\n",
       " 'Compiler',\n",
       " 'Continuous integration',\n",
       " 'COVID-19',\n",
       " 'C++']"
      ]
     },
     "execution_count": 38,
     "metadata": {},
     "output_type": "execute_result"
    }
   ],
   "source": [
    "topic_titles = [ tag.text for tag in topic_title_p_tags]\n",
    "topic_titles"
   ]
  },
  {
   "cell_type": "code",
   "execution_count": 42,
   "id": "27e95408",
   "metadata": {},
   "outputs": [
    {
     "data": {
      "text/plain": [
       "['3D modeling is the process of virtually developing the surface and structure of a 3D object.',\n",
       " 'Ajax is a technique for creating interactive web applications.',\n",
       " 'Algorithms are self-contained sequences that carry out a variety of tasks.']"
      ]
     },
     "execution_count": 42,
     "metadata": {},
     "output_type": "execute_result"
    }
   ],
   "source": [
    "topic_desc = [ tag.text.strip() for tag in topic_desc_p_tags]\n",
    "topic_desc[:3]"
   ]
  },
  {
   "cell_type": "code",
   "execution_count": 43,
   "id": "35fd5737",
   "metadata": {},
   "outputs": [
    {
     "data": {
      "text/plain": [
       "['https://github.com/topics/3d',\n",
       " 'https://github.com/topics/ajax',\n",
       " 'https://github.com/topics/algorithm']"
      ]
     },
     "execution_count": 43,
     "metadata": {},
     "output_type": "execute_result"
    }
   ],
   "source": [
    "base_url = \"https://github.com\"\n",
    "topic_urls = [base_url+url['href'] for url in url_a_tag]\n",
    "topic_urls[:3]"
   ]
  },
  {
   "cell_type": "code",
   "execution_count": 44,
   "id": "daf405f6",
   "metadata": {},
   "outputs": [],
   "source": [
    "import pandas as pd"
   ]
  },
  {
   "cell_type": "code",
   "execution_count": 49,
   "id": "44cbcba4",
   "metadata": {},
   "outputs": [],
   "source": [
    "topic_dict = {\"title\":topic_titles, \n",
    "              \"description\":topic_desc,\n",
    "              \"url\": topic_urls}\n",
    "\n",
    "topics_df = pd.DataFrame(topic_dict)"
   ]
  },
  {
   "cell_type": "code",
   "execution_count": 50,
   "id": "f18be617",
   "metadata": {},
   "outputs": [
    {
     "data": {
      "text/html": [
       "<div>\n",
       "<style scoped>\n",
       "    .dataframe tbody tr th:only-of-type {\n",
       "        vertical-align: middle;\n",
       "    }\n",
       "\n",
       "    .dataframe tbody tr th {\n",
       "        vertical-align: top;\n",
       "    }\n",
       "\n",
       "    .dataframe thead th {\n",
       "        text-align: right;\n",
       "    }\n",
       "</style>\n",
       "<table border=\"1\" class=\"dataframe\">\n",
       "  <thead>\n",
       "    <tr style=\"text-align: right;\">\n",
       "      <th></th>\n",
       "      <th>title</th>\n",
       "      <th>description</th>\n",
       "      <th>url</th>\n",
       "    </tr>\n",
       "  </thead>\n",
       "  <tbody>\n",
       "    <tr>\n",
       "      <th>0</th>\n",
       "      <td>3D</td>\n",
       "      <td>3D modeling is the process of virtually develo...</td>\n",
       "      <td>https://github.com/topics/3d</td>\n",
       "    </tr>\n",
       "    <tr>\n",
       "      <th>1</th>\n",
       "      <td>Ajax</td>\n",
       "      <td>Ajax is a technique for creating interactive w...</td>\n",
       "      <td>https://github.com/topics/ajax</td>\n",
       "    </tr>\n",
       "    <tr>\n",
       "      <th>2</th>\n",
       "      <td>Algorithm</td>\n",
       "      <td>Algorithms are self-contained sequences that c...</td>\n",
       "      <td>https://github.com/topics/algorithm</td>\n",
       "    </tr>\n",
       "    <tr>\n",
       "      <th>3</th>\n",
       "      <td>Amp</td>\n",
       "      <td>Amp is a non-blocking concurrency library for ...</td>\n",
       "      <td>https://github.com/topics/amphp</td>\n",
       "    </tr>\n",
       "    <tr>\n",
       "      <th>4</th>\n",
       "      <td>Android</td>\n",
       "      <td>Android is an operating system built by Google...</td>\n",
       "      <td>https://github.com/topics/android</td>\n",
       "    </tr>\n",
       "  </tbody>\n",
       "</table>\n",
       "</div>"
      ],
      "text/plain": [
       "       title                                        description  \\\n",
       "0         3D  3D modeling is the process of virtually develo...   \n",
       "1       Ajax  Ajax is a technique for creating interactive w...   \n",
       "2  Algorithm  Algorithms are self-contained sequences that c...   \n",
       "3        Amp  Amp is a non-blocking concurrency library for ...   \n",
       "4    Android  Android is an operating system built by Google...   \n",
       "\n",
       "                                   url  \n",
       "0         https://github.com/topics/3d  \n",
       "1       https://github.com/topics/ajax  \n",
       "2  https://github.com/topics/algorithm  \n",
       "3      https://github.com/topics/amphp  \n",
       "4    https://github.com/topics/android  "
      ]
     },
     "execution_count": 50,
     "metadata": {},
     "output_type": "execute_result"
    }
   ],
   "source": [
    "topics_df.head()"
   ]
  },
  {
   "cell_type": "markdown",
   "id": "cba57184",
   "metadata": {},
   "source": [
    "# Create CSV file(s) with the extracted information\n",
    "\n",
    "- Create functions for the end-to-end process of downloading, parsing, and saving CSVs.\n",
    "- Execute the function with different inputs to create a dataset of CSV files.\n",
    "- Verify the information in the CSV files by reading them back using Pandas.\n",
    "\n"
   ]
  },
  {
   "cell_type": "code",
   "execution_count": 51,
   "id": "d45522b1",
   "metadata": {},
   "outputs": [],
   "source": [
    "topics_df.to_csv('topics.csv', index=None)"
   ]
  },
  {
   "cell_type": "code",
   "execution_count": null,
   "id": "80b1d868",
   "metadata": {},
   "outputs": [],
   "source": []
  },
  {
   "cell_type": "markdown",
   "id": "102e22e0",
   "metadata": {},
   "source": [
    "# get information out of a topic page"
   ]
  },
  {
   "cell_type": "code",
   "execution_count": 52,
   "id": "a854f133",
   "metadata": {},
   "outputs": [],
   "source": [
    "topic_page_url = topic_urls[0]"
   ]
  },
  {
   "cell_type": "code",
   "execution_count": 53,
   "id": "a6bb09a3",
   "metadata": {},
   "outputs": [
    {
     "data": {
      "text/plain": [
       "'https://github.com/topics/3d'"
      ]
     },
     "execution_count": 53,
     "metadata": {},
     "output_type": "execute_result"
    }
   ],
   "source": [
    "topic_page_url"
   ]
  },
  {
   "cell_type": "code",
   "execution_count": 55,
   "id": "52ae307f",
   "metadata": {},
   "outputs": [
    {
     "data": {
      "text/plain": [
       "200"
      ]
     },
     "execution_count": 55,
     "metadata": {},
     "output_type": "execute_result"
    }
   ],
   "source": [
    "response = requests.get(topic_page_url)\n",
    "response.status_code"
   ]
  },
  {
   "cell_type": "code",
   "execution_count": 56,
   "id": "8fda126a",
   "metadata": {},
   "outputs": [
    {
     "data": {
      "text/plain": [
       "634360"
      ]
     },
     "execution_count": 56,
     "metadata": {},
     "output_type": "execute_result"
    }
   ],
   "source": [
    "len(response.text)"
   ]
  },
  {
   "cell_type": "code",
   "execution_count": 57,
   "id": "44170a53",
   "metadata": {},
   "outputs": [],
   "source": [
    "topic_doc = BeautifulSoup(response.text, 'html.parser')"
   ]
  },
  {
   "cell_type": "code",
   "execution_count": 143,
   "id": "d59da681",
   "metadata": {},
   "outputs": [],
   "source": [
    "h1_class = \"f3 color-fg-muted text-normal lh-condensed\"\n",
    "repo_tags = topic_doc.find_all('h3', class_=h1_class)"
   ]
  },
  {
   "cell_type": "code",
   "execution_count": 144,
   "id": "5b804f63",
   "metadata": {},
   "outputs": [],
   "source": [
    "atags = repo_tags[0].find_all('a')"
   ]
  },
  {
   "cell_type": "code",
   "execution_count": 145,
   "id": "57df7dcc",
   "metadata": {},
   "outputs": [
    {
     "data": {
      "text/plain": [
       "'mrdoob'"
      ]
     },
     "execution_count": 145,
     "metadata": {},
     "output_type": "execute_result"
    }
   ],
   "source": [
    "atags[0].text.strip()"
   ]
  },
  {
   "cell_type": "code",
   "execution_count": 146,
   "id": "ddde202b",
   "metadata": {},
   "outputs": [
    {
     "data": {
      "text/plain": [
       "'three.js'"
      ]
     },
     "execution_count": 146,
     "metadata": {},
     "output_type": "execute_result"
    }
   ],
   "source": [
    "atags[1].text.strip()"
   ]
  },
  {
   "cell_type": "code",
   "execution_count": 147,
   "id": "58a6974e",
   "metadata": {},
   "outputs": [
    {
     "data": {
      "text/plain": [
       "'/mrdoob/three.js'"
      ]
     },
     "execution_count": 147,
     "metadata": {},
     "output_type": "execute_result"
    }
   ],
   "source": [
    "atags[1]['href']"
   ]
  },
  {
   "cell_type": "code",
   "execution_count": 148,
   "id": "10ba87b7",
   "metadata": {},
   "outputs": [
    {
     "data": {
      "text/plain": [
       "'https://github.com'"
      ]
     },
     "execution_count": 148,
     "metadata": {},
     "output_type": "execute_result"
    }
   ],
   "source": [
    "base_url"
   ]
  },
  {
   "cell_type": "code",
   "execution_count": 149,
   "id": "af252f56",
   "metadata": {},
   "outputs": [],
   "source": [
    "usernames = []\n",
    "repo_name = []\n",
    "repo_urls = []\n",
    "base_url \n",
    "for tag in repo_tags:\n",
    "    atags = tag.find_all('a')\n",
    "    usernames.append(atags[0].text.strip())\n",
    "    repo_name.append(atags[1].text.strip())\n",
    "    repo_urls.append(base_url + atags[1]['href'])"
   ]
  },
  {
   "cell_type": "code",
   "execution_count": 150,
   "id": "53043933",
   "metadata": {},
   "outputs": [
    {
     "data": {
      "text/plain": [
       "'antvis'"
      ]
     },
     "execution_count": 150,
     "metadata": {},
     "output_type": "execute_result"
    }
   ],
   "source": [
    "usernames[-1]"
   ]
  },
  {
   "cell_type": "code",
   "execution_count": 151,
   "id": "b5771615",
   "metadata": {},
   "outputs": [
    {
     "data": {
      "text/plain": [
       "'L7'"
      ]
     },
     "execution_count": 151,
     "metadata": {},
     "output_type": "execute_result"
    }
   ],
   "source": [
    "repo_name[-1]"
   ]
  },
  {
   "cell_type": "code",
   "execution_count": 152,
   "id": "cc1365d3",
   "metadata": {},
   "outputs": [
    {
     "name": "stdout",
     "output_type": "stream",
     "text": [
      "https://github.com/antvis/L7\n"
     ]
    }
   ],
   "source": [
    "print(repo_urls[-1])"
   ]
  },
  {
   "cell_type": "code",
   "execution_count": 153,
   "id": "935e19eb",
   "metadata": {},
   "outputs": [],
   "source": [
    "star_class = \"d-flex flex-items-center ml-3\"\n",
    "star_tags = topic_doc.find_all('div', class_=star_class)"
   ]
  },
  {
   "cell_type": "code",
   "execution_count": 154,
   "id": "6614d9e1",
   "metadata": {},
   "outputs": [
    {
     "data": {
      "text/plain": [
       "30"
      ]
     },
     "execution_count": 154,
     "metadata": {},
     "output_type": "execute_result"
    }
   ],
   "source": [
    "len(star_tags)"
   ]
  },
  {
   "cell_type": "code",
   "execution_count": 155,
   "id": "299816a1",
   "metadata": {},
   "outputs": [
    {
     "data": {
      "text/plain": [
       "30"
      ]
     },
     "execution_count": 155,
     "metadata": {},
     "output_type": "execute_result"
    }
   ],
   "source": [
    "star_class = 'repo-stars-counter-star'\n",
    "star_tags = topic_doc.find_all('span', {'id':star_class})\n",
    "len(star_tags)"
   ]
  },
  {
   "cell_type": "code",
   "execution_count": 156,
   "id": "35c40ef0",
   "metadata": {},
   "outputs": [
    {
     "data": {
      "text/plain": [
       "'81.8k'"
      ]
     },
     "execution_count": 156,
     "metadata": {},
     "output_type": "execute_result"
    }
   ],
   "source": [
    "star_tags[0].text"
   ]
  },
  {
   "cell_type": "code",
   "execution_count": 157,
   "id": "fc5a5d43",
   "metadata": {},
   "outputs": [],
   "source": [
    "stars = [int(float(star.text[:-1])*1000) if star.text[-1] == 'k' else int(star.text) for star in star_tags ]"
   ]
  },
  {
   "cell_type": "code",
   "execution_count": 175,
   "id": "879f46df",
   "metadata": {},
   "outputs": [],
   "source": [
    "def parse_star_tag(star):\n",
    "    if star[-1]=='k':\n",
    "        return int(float(star[:-1])*1000)\n",
    "    else:\n",
    "        return int(star)"
   ]
  },
  {
   "cell_type": "code",
   "execution_count": 176,
   "id": "5b8e1fc7",
   "metadata": {},
   "outputs": [
    {
     "data": {
      "text/plain": [
       "[81800, 20000, 17900]"
      ]
     },
     "execution_count": 176,
     "metadata": {},
     "output_type": "execute_result"
    }
   ],
   "source": [
    "stars[:3]"
   ]
  },
  {
   "cell_type": "code",
   "execution_count": 180,
   "id": "78c71ef7",
   "metadata": {},
   "outputs": [],
   "source": [
    "def get_repo_info(repo_tag, star_tag):\n",
    "    atags = repo_tag.find_all('a')\n",
    "    username = atags[0].text.strip()\n",
    "    repo_name = atags[1].text.strip()\n",
    "    repo_url = base_url + atags[1]['href']\n",
    "    stars = parse_star_tag(star_tag.text.strip())\n",
    "    return username, repo_name, stars, repo_url"
   ]
  },
  {
   "cell_type": "code",
   "execution_count": 181,
   "id": "09c77df7",
   "metadata": {},
   "outputs": [
    {
     "data": {
      "text/plain": [
       "('mrdoob', 'three.js', 81800, 'https://github.com/mrdoob/three.js')"
      ]
     },
     "execution_count": 181,
     "metadata": {},
     "output_type": "execute_result"
    }
   ],
   "source": [
    "get_repo_info(repo_tags[0], star_tags[0])"
   ]
  },
  {
   "cell_type": "code",
   "execution_count": 182,
   "id": "005dc8fb",
   "metadata": {},
   "outputs": [],
   "source": [
    "topic_repos_dict ={\n",
    "    'username':[],\n",
    "    'repo_name':[],\n",
    "    'stars':[],\n",
    "    'repo_url':[]\n",
    "}\n",
    "for i in range(len(repo_tags)):\n",
    "    repo_info = get_repo_info(repo_tags[i], star_tags[i])\n",
    "    topic_repos_dict['username'].append(repo_info[0])\n",
    "    topic_repos_dict['repo_name'].append(repo_info[1])\n",
    "    topic_repos_dict['stars'].append(repo_info[2])\n",
    "    topic_repos_dict['repo_url'].append(repo_info[3])"
   ]
  },
  {
   "cell_type": "code",
   "execution_count": 184,
   "id": "55ddbbc0",
   "metadata": {},
   "outputs": [
    {
     "data": {
      "text/plain": [
       "{'username': ['mrdoob',\n",
       "  'libgdx',\n",
       "  'pmndrs',\n",
       "  'BabylonJS',\n",
       "  'aframevr',\n",
       "  'ssloy',\n",
       "  'lettier',\n",
       "  'FreeCAD',\n",
       "  'metafizzy',\n",
       "  'CesiumGS',\n",
       "  'timzhang642',\n",
       "  'a1studmuffin',\n",
       "  'isl-org',\n",
       "  'blender',\n",
       "  'domlysz',\n",
       "  'spritejs',\n",
       "  'openscad',\n",
       "  'jagenjo',\n",
       "  'tensorspace-team',\n",
       "  'YadiraF',\n",
       "  'AaronJackson',\n",
       "  'google',\n",
       "  'ssloy',\n",
       "  'mosra',\n",
       "  'FyroxEngine',\n",
       "  'tengbao',\n",
       "  'cleardusk',\n",
       "  'jasonlong',\n",
       "  'cnr-isti-vclab',\n",
       "  'antvis'],\n",
       " 'repo_name': ['three.js',\n",
       "  'libgdx',\n",
       "  'react-three-fiber',\n",
       "  'Babylon.js',\n",
       "  'aframe',\n",
       "  'tinyrenderer',\n",
       "  '3d-game-shaders-for-beginners',\n",
       "  'FreeCAD',\n",
       "  'zdog',\n",
       "  'cesium',\n",
       "  '3D-Machine-Learning',\n",
       "  'SpaceshipGenerator',\n",
       "  'Open3D',\n",
       "  'blender',\n",
       "  'BlenderGIS',\n",
       "  'spritejs',\n",
       "  'openscad',\n",
       "  'webglstudio.js',\n",
       "  'tensorspace',\n",
       "  'PRNet',\n",
       "  'vrn',\n",
       "  'model-viewer',\n",
       "  'tinyraytracer',\n",
       "  'magnum',\n",
       "  'Fyrox',\n",
       "  'vanta',\n",
       "  '3DDFA',\n",
       "  'isometric-contributions',\n",
       "  'meshlab',\n",
       "  'L7'],\n",
       " 'stars': [81800,\n",
       "  20000,\n",
       "  17900,\n",
       "  17100,\n",
       "  14100,\n",
       "  13700,\n",
       "  12800,\n",
       "  11300,\n",
       "  9100,\n",
       "  8600,\n",
       "  7900,\n",
       "  7100,\n",
       "  6700,\n",
       "  5500,\n",
       "  5200,\n",
       "  4900,\n",
       "  4800,\n",
       "  4600,\n",
       "  4600,\n",
       "  4600,\n",
       "  4400,\n",
       "  4300,\n",
       "  4200,\n",
       "  4000,\n",
       "  3600,\n",
       "  3600,\n",
       "  3200,\n",
       "  3200,\n",
       "  2900,\n",
       "  2700],\n",
       " 'repo_url': ['https://github.com/mrdoob/three.js',\n",
       "  'https://github.com/libgdx/libgdx',\n",
       "  'https://github.com/pmndrs/react-three-fiber',\n",
       "  'https://github.com/BabylonJS/Babylon.js',\n",
       "  'https://github.com/aframevr/aframe',\n",
       "  'https://github.com/ssloy/tinyrenderer',\n",
       "  'https://github.com/lettier/3d-game-shaders-for-beginners',\n",
       "  'https://github.com/FreeCAD/FreeCAD',\n",
       "  'https://github.com/metafizzy/zdog',\n",
       "  'https://github.com/CesiumGS/cesium',\n",
       "  'https://github.com/timzhang642/3D-Machine-Learning',\n",
       "  'https://github.com/a1studmuffin/SpaceshipGenerator',\n",
       "  'https://github.com/isl-org/Open3D',\n",
       "  'https://github.com/blender/blender',\n",
       "  'https://github.com/domlysz/BlenderGIS',\n",
       "  'https://github.com/spritejs/spritejs',\n",
       "  'https://github.com/openscad/openscad',\n",
       "  'https://github.com/jagenjo/webglstudio.js',\n",
       "  'https://github.com/tensorspace-team/tensorspace',\n",
       "  'https://github.com/YadiraF/PRNet',\n",
       "  'https://github.com/AaronJackson/vrn',\n",
       "  'https://github.com/google/model-viewer',\n",
       "  'https://github.com/ssloy/tinyraytracer',\n",
       "  'https://github.com/mosra/magnum',\n",
       "  'https://github.com/FyroxEngine/Fyrox',\n",
       "  'https://github.com/tengbao/vanta',\n",
       "  'https://github.com/cleardusk/3DDFA',\n",
       "  'https://github.com/jasonlong/isometric-contributions',\n",
       "  'https://github.com/cnr-isti-vclab/meshlab',\n",
       "  'https://github.com/antvis/L7']}"
      ]
     },
     "execution_count": 184,
     "metadata": {},
     "output_type": "execute_result"
    }
   ],
   "source": [
    "topic_repos_dict"
   ]
  },
  {
   "cell_type": "code",
   "execution_count": 185,
   "id": "4889fe9e",
   "metadata": {},
   "outputs": [],
   "source": [
    "topic_repo_df = pd.DataFrame(topic_repos_dict)"
   ]
  },
  {
   "cell_type": "code",
   "execution_count": 186,
   "id": "1beabf29",
   "metadata": {},
   "outputs": [
    {
     "data": {
      "text/html": [
       "<div>\n",
       "<style scoped>\n",
       "    .dataframe tbody tr th:only-of-type {\n",
       "        vertical-align: middle;\n",
       "    }\n",
       "\n",
       "    .dataframe tbody tr th {\n",
       "        vertical-align: top;\n",
       "    }\n",
       "\n",
       "    .dataframe thead th {\n",
       "        text-align: right;\n",
       "    }\n",
       "</style>\n",
       "<table border=\"1\" class=\"dataframe\">\n",
       "  <thead>\n",
       "    <tr style=\"text-align: right;\">\n",
       "      <th></th>\n",
       "      <th>username</th>\n",
       "      <th>repo_name</th>\n",
       "      <th>stars</th>\n",
       "      <th>repo_url</th>\n",
       "    </tr>\n",
       "  </thead>\n",
       "  <tbody>\n",
       "    <tr>\n",
       "      <th>0</th>\n",
       "      <td>mrdoob</td>\n",
       "      <td>three.js</td>\n",
       "      <td>81800</td>\n",
       "      <td>https://github.com/mrdoob/three.js</td>\n",
       "    </tr>\n",
       "    <tr>\n",
       "      <th>1</th>\n",
       "      <td>libgdx</td>\n",
       "      <td>libgdx</td>\n",
       "      <td>20000</td>\n",
       "      <td>https://github.com/libgdx/libgdx</td>\n",
       "    </tr>\n",
       "    <tr>\n",
       "      <th>2</th>\n",
       "      <td>pmndrs</td>\n",
       "      <td>react-three-fiber</td>\n",
       "      <td>17900</td>\n",
       "      <td>https://github.com/pmndrs/react-three-fiber</td>\n",
       "    </tr>\n",
       "    <tr>\n",
       "      <th>3</th>\n",
       "      <td>BabylonJS</td>\n",
       "      <td>Babylon.js</td>\n",
       "      <td>17100</td>\n",
       "      <td>https://github.com/BabylonJS/Babylon.js</td>\n",
       "    </tr>\n",
       "    <tr>\n",
       "      <th>4</th>\n",
       "      <td>aframevr</td>\n",
       "      <td>aframe</td>\n",
       "      <td>14100</td>\n",
       "      <td>https://github.com/aframevr/aframe</td>\n",
       "    </tr>\n",
       "  </tbody>\n",
       "</table>\n",
       "</div>"
      ],
      "text/plain": [
       "    username          repo_name  stars  \\\n",
       "0     mrdoob           three.js  81800   \n",
       "1     libgdx             libgdx  20000   \n",
       "2     pmndrs  react-three-fiber  17900   \n",
       "3  BabylonJS         Babylon.js  17100   \n",
       "4   aframevr             aframe  14100   \n",
       "\n",
       "                                      repo_url  \n",
       "0           https://github.com/mrdoob/three.js  \n",
       "1             https://github.com/libgdx/libgdx  \n",
       "2  https://github.com/pmndrs/react-three-fiber  \n",
       "3      https://github.com/BabylonJS/Babylon.js  \n",
       "4           https://github.com/aframevr/aframe  "
      ]
     },
     "execution_count": 186,
     "metadata": {},
     "output_type": "execute_result"
    }
   ],
   "source": [
    "topic_repo_df.head()"
   ]
  },
  {
   "cell_type": "markdown",
   "id": "5df4ed8a",
   "metadata": {},
   "source": [
    "## write a function to:\n",
    "- get list of topics from topic page\n",
    "- get the list of top repos from the individual topic pages\n",
    "- for each topic, create a csv of the top repos for that topic\n"
   ]
  },
  {
   "cell_type": "markdown",
   "id": "45a7e496",
   "metadata": {},
   "source": [
    "# Final Code"
   ]
  },
  {
   "cell_type": "code",
   "execution_count": null,
   "id": "4bdd661e",
   "metadata": {},
   "outputs": [],
   "source": [
    "def get_repo_info(repo_tag, star_tag):\n",
    "    atags = repo_tag.find_all('a')\n",
    "    username = atags[0].text.strip()\n",
    "    repo_name = atags[1].text.strip()\n",
    "    repo_url = base_url + atags[1]['href']\n",
    "    stars = parse_star_tag(star_tag.text.strip())\n",
    "    return username, repo_name, stars, repo_url\n",
    "\n",
    "\n",
    "def get_topic_repos(topic_url):\n",
    "    #download the page\n",
    "    response = requests.get(topic_url)\n",
    "    #check response\n",
    "    if response.status_code != 200:\n",
    "        raise Exception(\"Failed to load page {}\").format(topic_url)\n",
    "    #parse using Beautiful soup\n",
    "    topic_doc =  BeautifulSoup(response.text, 'html.parser')\n",
    "    # get h2 tags containing repo title, url and username\n",
    "    h1_class = \"f3 color-fg-muted text-normal lh-condensed\"\n",
    "    repo_tags = topic_doc.find_all('h3', class_=h1_class)\n",
    "    # get stars tags\n",
    "    star_class = 'repo-stars-counter-star'\n",
    "    star_tags = topic_doc.find_all('span', {'id':star_class})\n",
    "    #get repo info\n",
    "    topic_repos_dict ={\n",
    "                        'username':[],\n",
    "                        'repo_name':[],\n",
    "                        'stars':[],\n",
    "                        'repo_url':[]\n",
    "                    }\n",
    "    for i in range(len(repo_tags)):\n",
    "        repo_info = get_repo_info(repo_tags[i], star_tags[i])\n",
    "        topic_repos_dict['username'].append(repo_info[0])\n",
    "        topic_repos_dict['repo_name'].append(repo_info[1])\n",
    "        topic_repos_dict['stars'].append(repo_info[2])\n",
    "        topic_repos_dict['repo_url'].append(repo_info[3])\n",
    "        \n",
    "    return pd.DataFrame(topic_repos_dict)"
   ]
  },
  {
   "cell_type": "code",
   "execution_count": 191,
   "id": "1aa0f40c",
   "metadata": {},
   "outputs": [],
   "source": [
    "def get_topic_titles(doc):\n",
    "    selection_class = \"f3 lh-condensed mb-0 mt-1 Link--primary\"\n",
    "    topic_title_p_tags = doc.find_all('p', \n",
    "                          {'class': selection_class})\n",
    "    topic_titles = [ tag.text for tag in topic_title_p_tags]\n",
    "    return topic_titles\n",
    "\n",
    "def get_topic_desc(doc):\n",
    "    selection_class = \"f5 color-fg-muted mb-0 mt-1\"\n",
    "    topic_desc_p_tags = doc.find_all('p', class_=selection_class)\n",
    "    topic_desc = [ tag.text.strip() for tag in topic_desc_p_tags]\n",
    "    return topic_desc\n",
    "\n",
    "def get_topic_urls(doc):\n",
    "    selection_class = \"no-underline flex-1 d-flex flex-column\"\n",
    "    url_a_tag = doc.find_all('a', class_=selection_class)\n",
    "    topic_urls = [base_url+url['href'] for url in url_a_tag]\n",
    "    return topic_urls\n",
    "    \n",
    "def scrape_topics():\n",
    "    topic_url = 'https://github.com/topics'\n",
    "    #download the page\n",
    "    response = requests.get(topic_url)\n",
    "    #check response\n",
    "    if response.status_code != 200:\n",
    "        raise Exception(\"Failed to load page {}\").format(topic_url)\n",
    "    base_url = \"https://github.com\"\n",
    "    doc = BeautifulSoup(page_content, 'html.parser')\n",
    "    \n",
    "\n",
    "    topic_titles = get_topic_titles(doc)\n",
    "    topic_desc = get_topic_desc(doc)\n",
    "    topic_urls = get_topic_urls(doc)\n",
    "    \n",
    "    topic_dict = {\"title\":topic_titles, \n",
    "                  \"description\":topic_desc,\n",
    "                  \"url\": topic_urls}\n",
    "\n",
    "    topics_df = pd.DataFrame(topic_dict)\n",
    "    return topics_df"
   ]
  },
  {
   "cell_type": "code",
   "execution_count": 193,
   "id": "309d73b2",
   "metadata": {},
   "outputs": [
    {
     "data": {
      "text/html": [
       "<div>\n",
       "<style scoped>\n",
       "    .dataframe tbody tr th:only-of-type {\n",
       "        vertical-align: middle;\n",
       "    }\n",
       "\n",
       "    .dataframe tbody tr th {\n",
       "        vertical-align: top;\n",
       "    }\n",
       "\n",
       "    .dataframe thead th {\n",
       "        text-align: right;\n",
       "    }\n",
       "</style>\n",
       "<table border=\"1\" class=\"dataframe\">\n",
       "  <thead>\n",
       "    <tr style=\"text-align: right;\">\n",
       "      <th></th>\n",
       "      <th>title</th>\n",
       "      <th>description</th>\n",
       "      <th>url</th>\n",
       "    </tr>\n",
       "  </thead>\n",
       "  <tbody>\n",
       "    <tr>\n",
       "      <th>0</th>\n",
       "      <td>3D</td>\n",
       "      <td>3D modeling is the process of virtually develo...</td>\n",
       "      <td>https://github.com/topics/3d</td>\n",
       "    </tr>\n",
       "    <tr>\n",
       "      <th>1</th>\n",
       "      <td>Ajax</td>\n",
       "      <td>Ajax is a technique for creating interactive w...</td>\n",
       "      <td>https://github.com/topics/ajax</td>\n",
       "    </tr>\n",
       "    <tr>\n",
       "      <th>2</th>\n",
       "      <td>Algorithm</td>\n",
       "      <td>Algorithms are self-contained sequences that c...</td>\n",
       "      <td>https://github.com/topics/algorithm</td>\n",
       "    </tr>\n",
       "    <tr>\n",
       "      <th>3</th>\n",
       "      <td>Amp</td>\n",
       "      <td>Amp is a non-blocking concurrency library for ...</td>\n",
       "      <td>https://github.com/topics/amphp</td>\n",
       "    </tr>\n",
       "    <tr>\n",
       "      <th>4</th>\n",
       "      <td>Android</td>\n",
       "      <td>Android is an operating system built by Google...</td>\n",
       "      <td>https://github.com/topics/android</td>\n",
       "    </tr>\n",
       "  </tbody>\n",
       "</table>\n",
       "</div>"
      ],
      "text/plain": [
       "       title                                        description  \\\n",
       "0         3D  3D modeling is the process of virtually develo...   \n",
       "1       Ajax  Ajax is a technique for creating interactive w...   \n",
       "2  Algorithm  Algorithms are self-contained sequences that c...   \n",
       "3        Amp  Amp is a non-blocking concurrency library for ...   \n",
       "4    Android  Android is an operating system built by Google...   \n",
       "\n",
       "                                   url  \n",
       "0         https://github.com/topics/3d  \n",
       "1       https://github.com/topics/ajax  \n",
       "2  https://github.com/topics/algorithm  \n",
       "3      https://github.com/topics/amphp  \n",
       "4    https://github.com/topics/android  "
      ]
     },
     "execution_count": 193,
     "metadata": {},
     "output_type": "execute_result"
    }
   ],
   "source": [
    "topic_df_scraped = scrape_topics()\n",
    "topic_df_scraped.head()"
   ]
  },
  {
   "cell_type": "code",
   "execution_count": 213,
   "id": "119a49bd",
   "metadata": {},
   "outputs": [],
   "source": [
    "import os"
   ]
  },
  {
   "cell_type": "code",
   "execution_count": 217,
   "id": "102d3028",
   "metadata": {},
   "outputs": [],
   "source": [
    "def scrape_topic(topic_url, topic_name):\n",
    "    topic_repo_df = get_topic_repos(topic_url)\n",
    "    fname = \"github_scrape/\" + topic_name + '.csv'\n",
    "    if os.path.exists(fname):\n",
    "        print(\"The file {} already exists. Skipping..\".format(fname))\n",
    "        return\n",
    "    topic_repo_df.to_csv(fname, index = None)"
   ]
  },
  {
   "cell_type": "code",
   "execution_count": 224,
   "id": "97887de1",
   "metadata": {},
   "outputs": [],
   "source": [
    "def scrape_topics_repos():\n",
    "    print('Scraping list of topics')\n",
    "    topics_df = scrape_topics()\n",
    "    \n",
    "    os.makedirs('github_scrape', exist_ok=True)\n",
    "    \n",
    "    for index, row in topics_df.iterrows():\n",
    "        print('scraping top repositories for \"{}\"'.format(row['title']))\n",
    "        scrape_topic(row['url'], row['title'])"
   ]
  },
  {
   "cell_type": "code",
   "execution_count": 225,
   "id": "3cc588f0",
   "metadata": {},
   "outputs": [
    {
     "name": "stdout",
     "output_type": "stream",
     "text": [
      "Scraping list of topics\n",
      "scraping top repositories for \"3D\"\n",
      "scraping top repositories for \"Ajax\"\n",
      "scraping top repositories for \"Algorithm\"\n",
      "scraping top repositories for \"Amp\"\n",
      "scraping top repositories for \"Android\"\n",
      "scraping top repositories for \"Angular\"\n",
      "scraping top repositories for \"Ansible\"\n",
      "scraping top repositories for \"API\"\n",
      "scraping top repositories for \"Arduino\"\n",
      "scraping top repositories for \"ASP.NET\"\n",
      "scraping top repositories for \"Atom\"\n",
      "scraping top repositories for \"Awesome Lists\"\n",
      "scraping top repositories for \"Amazon Web Services\"\n",
      "scraping top repositories for \"Azure\"\n",
      "scraping top repositories for \"Babel\"\n",
      "scraping top repositories for \"Bash\"\n",
      "scraping top repositories for \"Bitcoin\"\n",
      "scraping top repositories for \"Bootstrap\"\n",
      "scraping top repositories for \"Bot\"\n",
      "scraping top repositories for \"C\"\n",
      "scraping top repositories for \"Chrome\"\n",
      "scraping top repositories for \"Chrome extension\"\n",
      "scraping top repositories for \"Command line interface\"\n",
      "scraping top repositories for \"Clojure\"\n",
      "scraping top repositories for \"Code quality\"\n",
      "scraping top repositories for \"Code review\"\n",
      "scraping top repositories for \"Compiler\"\n",
      "scraping top repositories for \"Continuous integration\"\n",
      "scraping top repositories for \"COVID-19\"\n",
      "scraping top repositories for \"C++\"\n"
     ]
    }
   ],
   "source": [
    "scrape_topics_repos()"
   ]
  },
  {
   "cell_type": "code",
   "execution_count": null,
   "id": "3fa10990",
   "metadata": {},
   "outputs": [],
   "source": []
  }
 ],
 "metadata": {
  "kernelspec": {
   "display_name": "Python 3 (ipykernel)",
   "language": "python",
   "name": "python3"
  },
  "language_info": {
   "codemirror_mode": {
    "name": "ipython",
    "version": 3
   },
   "file_extension": ".py",
   "mimetype": "text/x-python",
   "name": "python",
   "nbconvert_exporter": "python",
   "pygments_lexer": "ipython3",
   "version": "3.8.8"
  }
 },
 "nbformat": 4,
 "nbformat_minor": 5
}
